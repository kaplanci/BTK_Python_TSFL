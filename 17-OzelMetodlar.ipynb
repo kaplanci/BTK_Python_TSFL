{
 "cells": [
  {
   "cell_type": "code",
   "execution_count": 17,
   "id": "9cfba136-d9fc-4826-a809-cb26d792556a",
   "metadata": {},
   "outputs": [],
   "source": [
    "class Meyve():\n",
    "    def __init__(self,isim,kalori):\n",
    "        self.isim=isim\n",
    "        self.kalori=kalori\n",
    "    def __str__(self):\n",
    "        return f\"{self.isim} şu kadar kaloriye sahiptir: {self.kalori}\"\n",
    "    def __len__(self):\n",
    "        return self.kalori"
   ]
  },
  {
   "cell_type": "code",
   "execution_count": 18,
   "id": "84ea55d9-1469-436f-96d0-211fbff18622",
   "metadata": {},
   "outputs": [],
   "source": [
    "muz = Meyve(\"muz\",200)"
   ]
  },
  {
   "cell_type": "code",
   "execution_count": 19,
   "id": "b4779297-3ebe-48cf-a988-ded543031bfe",
   "metadata": {},
   "outputs": [],
   "source": [
    "elma =Meyve(\"elma\",188)"
   ]
  },
  {
   "cell_type": "code",
   "execution_count": 20,
   "id": "00edfa21-1cfc-476f-a941-cf9675ab83f8",
   "metadata": {},
   "outputs": [
    {
     "name": "stdout",
     "output_type": "stream",
     "text": [
      "muz şu kadar kaloriye sahiptir: 200\n"
     ]
    }
   ],
   "source": [
    "print(muz)"
   ]
  },
  {
   "cell_type": "code",
   "execution_count": 23,
   "id": "3c2c9d20-81e0-48df-8037-8ec54a2c0b36",
   "metadata": {},
   "outputs": [
    {
     "data": {
      "text/plain": [
       "200"
      ]
     },
     "execution_count": 23,
     "metadata": {},
     "output_type": "execute_result"
    }
   ],
   "source": [
    "len(muz)"
   ]
  },
  {
   "cell_type": "code",
   "execution_count": null,
   "id": "991aeda6-57a7-4da3-a6e7-a6a1e00c10b9",
   "metadata": {},
   "outputs": [],
   "source": []
  }
 ],
 "metadata": {
  "kernelspec": {
   "display_name": "Python 3 (ipykernel)",
   "language": "python",
   "name": "python3"
  },
  "language_info": {
   "codemirror_mode": {
    "name": "ipython",
    "version": 3
   },
   "file_extension": ".py",
   "mimetype": "text/x-python",
   "name": "python",
   "nbconvert_exporter": "python",
   "pygments_lexer": "ipython3",
   "version": "3.9.7"
  }
 },
 "nbformat": 4,
 "nbformat_minor": 5
}
