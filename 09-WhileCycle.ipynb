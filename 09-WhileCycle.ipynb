{
 "cells": [
  {
   "cell_type": "code",
   "execution_count": 6,
   "id": "07c757cd-9b5b-4620-a5bf-23142cb0449b",
   "metadata": {},
   "outputs": [
    {
     "name": "stdout",
     "output_type": "stream",
     "text": [
      "Bazen HIz Bazen dız\n",
      "Bazen HIz Bazen dız\n",
      "Bazen HIz Bazen dız\n",
      "Bazen HIz Bazen dız\n",
      "Bazen HIz Bazen dız\n",
      "Bazen HIz Bazen dız\n",
      "Bazen HIz Bazen dız\n",
      "Bazen HIz Bazen dız\n",
      "Bazen HIz Bazen dız\n",
      "Bazen HIz Bazen dız\n"
     ]
    }
   ],
   "source": [
    "a = 0\n",
    "while a<10:\n",
    " \n",
    "    a=a+1\n",
    "    print(\"Bazen HIz Bazen dız\")"
   ]
  },
  {
   "cell_type": "code",
   "execution_count": 3,
   "id": "8c1a41a6-7697-4ef3-8d97-f04261f78b8b",
   "metadata": {},
   "outputs": [],
   "source": [
    "MyList=[1,2,3,4,5,6]"
   ]
  },
  {
   "cell_type": "code",
   "execution_count": 8,
   "id": "59e59b9f-19c3-4ce7-9b06-ecd79817db07",
   "metadata": {},
   "outputs": [
    {
     "name": "stdout",
     "output_type": "stream",
     "text": [
      "içerdeyiz\n",
      "içerdeyiz\n",
      "içerdeyiz\n",
      "içerdeyiz\n"
     ]
    }
   ],
   "source": [
    "while 3 in MyList:\n",
    "\n",
    "    print (\"içerdeyiz\")\n",
    "    MyList.pop()\n",
    "    \n",
    "    "
   ]
  },
  {
   "cell_type": "code",
   "execution_count": 9,
   "id": "0abf0ed8-854a-405f-9c4d-305535346ec2",
   "metadata": {},
   "outputs": [],
   "source": [
    "number = 0"
   ]
  },
  {
   "cell_type": "code",
   "execution_count": 10,
   "id": "ddc1c7e7-973a-490e-a1fd-3a6cc1cc192e",
   "metadata": {},
   "outputs": [
    {
     "name": "stdout",
     "output_type": "stream",
     "text": [
      "0\n",
      "1\n",
      "2\n",
      "3\n"
     ]
    }
   ],
   "source": [
    "while number < 5:\n",
    "    if number==4:\n",
    "        break\n",
    "    print(number)\n",
    "    number=number + 1\n",
    "        "
   ]
  },
  {
   "cell_type": "code",
   "execution_count": 14,
   "id": "aad19832-c1c6-4aa7-bd04-c1b333fb4a62",
   "metadata": {},
   "outputs": [
    {
     "name": "stdout",
     "output_type": "stream",
     "text": [
      "güncel deger: 0 \n",
      "güncel deger: 1 \n",
      "güncel deger: 2 \n",
      "güncel deger: 3 \n",
      "güncel deger: 4 \n",
      "güncel deger: 5 \n",
      "güncel deger: 6 \n"
     ]
    }
   ],
   "source": [
    "yeniDegisken = 0\n",
    "while yeniDegisken<7:\n",
    "    print(f\"güncel deger: {yeniDegisken} \")  #f koyup başına süslü parantez kullanırıırsak format değişikliği yaparız\n",
    "    yeniDegisken=yeniDegisken+1"
   ]
  },
  {
   "cell_type": "code",
   "execution_count": null,
   "id": "c1f8e3d8-7942-4dce-9abd-acb8d994f1e6",
   "metadata": {},
   "outputs": [],
   "source": []
  }
 ],
 "metadata": {
  "kernelspec": {
   "display_name": "Python 3 (ipykernel)",
   "language": "python",
   "name": "python3"
  },
  "language_info": {
   "codemirror_mode": {
    "name": "ipython",
    "version": 3
   },
   "file_extension": ".py",
   "mimetype": "text/x-python",
   "name": "python",
   "nbconvert_exporter": "python",
   "pygments_lexer": "ipython3",
   "version": "3.9.7"
  }
 },
 "nbformat": 4,
 "nbformat_minor": 5
}
