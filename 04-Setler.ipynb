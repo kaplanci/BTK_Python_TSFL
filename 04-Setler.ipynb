{
 "cells": [
  {
   "cell_type": "code",
   "execution_count": 3,
   "id": "ae113e20-ddf8-490b-aead-ea612611041a",
   "metadata": {},
   "outputs": [],
   "source": [
    "MyList = [1,2,3,1,2,3]"
   ]
  },
  {
   "cell_type": "code",
   "execution_count": 4,
   "id": "98bdf4f2-0a57-47fb-9a47-9f8d850114f3",
   "metadata": {},
   "outputs": [],
   "source": [
    "MyListSet = set (MyList)"
   ]
  },
  {
   "cell_type": "code",
   "execution_count": 5,
   "id": "9f22606f-d580-412d-9516-c8a729d46179",
   "metadata": {},
   "outputs": [
    {
     "data": {
      "text/plain": [
       "{1, 2, 3}"
      ]
     },
     "execution_count": 5,
     "metadata": {},
     "output_type": "execute_result"
    }
   ],
   "source": [
    "MyListSet"
   ]
  },
  {
   "cell_type": "code",
   "execution_count": null,
   "id": "58fbbfca-5050-4f2a-a6e1-709730fbb24e",
   "metadata": {},
   "outputs": [],
   "source": []
  }
 ],
 "metadata": {
  "kernelspec": {
   "display_name": "Python 3 (ipykernel)",
   "language": "python",
   "name": "python3"
  },
  "language_info": {
   "codemirror_mode": {
    "name": "ipython",
    "version": 3
   },
   "file_extension": ".py",
   "mimetype": "text/x-python",
   "name": "python",
   "nbconvert_exporter": "python",
   "pygments_lexer": "ipython3",
   "version": "3.9.7"
  }
 },
 "nbformat": 4,
 "nbformat_minor": 5
}
