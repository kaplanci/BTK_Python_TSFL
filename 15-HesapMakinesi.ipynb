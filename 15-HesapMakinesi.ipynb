{
 "cells": [
  {
   "cell_type": "markdown",
   "id": "ce56c7bd-e75d-4fc2-b661-daa3be7e28d7",
   "metadata": {},
   "source": [
    "## Calculator"
   ]
  },
  {
   "cell_type": "code",
   "execution_count": null,
   "id": "1c619f02-f511-4e12-b2ea-4735ee3febe6",
   "metadata": {},
   "outputs": [
    {
     "name": "stdin",
     "output_type": "stream",
     "text": [
      "sayı giriniz t\n"
     ]
    },
    {
     "name": "stdout",
     "output_type": "stream",
     "text": [
      "anasını siktin programın\n"
     ]
    },
    {
     "name": "stdin",
     "output_type": "stream",
     "text": [
      "sayı giriniz 3\n",
      "Sayı gir 4\n",
      "isleminizi seçiniz: +-*/ t\n"
     ]
    },
    {
     "name": "stdout",
     "output_type": "stream",
     "text": [
      "lütfen adam gibi işelm seçiniz\n"
     ]
    },
    {
     "name": "stdin",
     "output_type": "stream",
     "text": [
      "sayı giriniz 60\n",
      "Sayı gir o\n"
     ]
    },
    {
     "name": "stdout",
     "output_type": "stream",
     "text": [
      "anasını siktin programın\n"
     ]
    },
    {
     "name": "stdin",
     "output_type": "stream",
     "text": [
      "sayı giriniz 29032572895729857298579\n",
      "Sayı gir 3\n",
      "isleminizi seçiniz: +-*/ *\n"
     ]
    },
    {
     "name": "stdout",
     "output_type": "stream",
     "text": [
      "29032572895729857298579 * 3 = 87097718687189571895737\n"
     ]
    },
    {
     "name": "stdin",
     "output_type": "stream",
     "text": [
      "sayı giriniz 109271047148719487198n47219847192471984\n"
     ]
    },
    {
     "name": "stdout",
     "output_type": "stream",
     "text": [
      "anasını siktin programın\n"
     ]
    },
    {
     "name": "stdin",
     "output_type": "stream",
     "text": [
      "sayı giriniz 9128216491648124612894614614\n",
      "Sayı gir 7\n",
      "isleminizi seçiniz: +-*/ *\n"
     ]
    },
    {
     "name": "stdout",
     "output_type": "stream",
     "text": [
      "9128216491648124612894614614 * 7 = 63897515441536872290262302298\n"
     ]
    }
   ],
   "source": [
    "def calcula(a,b,ıslem):\n",
    "    \n",
    "    if ıslem not in \"+-*/\":\n",
    "        return \"lütfen adam gibi işelm seçiniz\"\n",
    "    \n",
    "    \n",
    "    \n",
    "    if ıslem == \"+\":\n",
    "        return (str(a) +\"  + \" + str(b) + \" = \" + str(a+b))\n",
    "    if ıslem== \"-\":\n",
    "        return (str(a)+\" * \"+str(b) + \" = \" + str(a-b))\n",
    "    if ıslem == \"*\":\n",
    "        return (str(a) + \" * \"+str(b) + \" = \" + str(a*b))\n",
    "    if ıslem == \"/\":\n",
    "        return (str(a) + \" / \"+str(b) + \" = \" + str(a/b))\n",
    "    \n",
    "\n",
    "\n",
    "\n",
    "\n",
    "\n",
    "\n",
    "while True:\n",
    "    try:\n",
    "        a = int(input (\"sayı giriniz\"))\n",
    "        b =int(input(\"Sayı gir\"))\n",
    "        ıslem = input(\"isleminizi seçiniz: +-*/\")\n",
    "\n",
    "        print(calcula(a,b,ıslem))\n",
    "    except:\n",
    "        print(\"anasını siktin programın\")\n",
    "    \n",
    "\n",
    "\n",
    "\n"
   ]
  },
  {
   "cell_type": "code",
   "execution_count": null,
   "id": "9ec91004-c912-43f2-a170-761a7a58dc24",
   "metadata": {},
   "outputs": [],
   "source": []
  },
  {
   "cell_type": "code",
   "execution_count": null,
   "id": "70e8347a-2c16-4277-8fa9-0243cd99fabd",
   "metadata": {},
   "outputs": [],
   "source": []
  }
 ],
 "metadata": {
  "kernelspec": {
   "display_name": "Python 3 (ipykernel)",
   "language": "python",
   "name": "python3"
  },
  "language_info": {
   "codemirror_mode": {
    "name": "ipython",
    "version": 3
   },
   "file_extension": ".py",
   "mimetype": "text/x-python",
   "name": "python",
   "nbconvert_exporter": "python",
   "pygments_lexer": "ipython3",
   "version": "3.9.7"
  }
 },
 "nbformat": 4,
 "nbformat_minor": 5
}
