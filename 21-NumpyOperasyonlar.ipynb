{
 "cells": [
  {
   "cell_type": "code",
   "execution_count": 1,
   "id": "6c5922fa-127b-4752-9f44-b07c7219cf1f",
   "metadata": {},
   "outputs": [],
   "source": [
    "import numpy as np"
   ]
  },
  {
   "cell_type": "code",
   "execution_count": 2,
   "id": "2e197b20-93f9-4b8f-b688-7724b11086f0",
   "metadata": {},
   "outputs": [],
   "source": [
    "benimDizim = np.arange(0,15)"
   ]
  },
  {
   "cell_type": "code",
   "execution_count": 3,
   "id": "cbbd9527-8fb7-486c-b1a7-ccb9d87bb83d",
   "metadata": {},
   "outputs": [
    {
     "data": {
      "text/plain": [
       "array([ 0,  1,  2,  3,  4,  5,  6,  7,  8,  9, 10, 11, 12, 13, 14])"
      ]
     },
     "execution_count": 3,
     "metadata": {},
     "output_type": "execute_result"
    }
   ],
   "source": [
    "benimDizim"
   ]
  },
  {
   "cell_type": "code",
   "execution_count": 5,
   "id": "60fac4dd-01b0-484d-aded-3ccde0432de4",
   "metadata": {},
   "outputs": [
    {
     "data": {
      "text/plain": [
       "5"
      ]
     },
     "execution_count": 5,
     "metadata": {},
     "output_type": "execute_result"
    }
   ],
   "source": [
    "benimDizim[5]  ##listelerle aynı\n"
   ]
  },
  {
   "cell_type": "code",
   "execution_count": 7,
   "id": "8d0ec267-320b-4771-8175-9c7adcc875e9",
   "metadata": {},
   "outputs": [
    {
     "data": {
      "text/plain": [
       "array([3, 4])"
      ]
     },
     "execution_count": 7,
     "metadata": {},
     "output_type": "execute_result"
    }
   ],
   "source": [
    "benimDizim [3:5]  ##verilen aralıktaki verileri veriyor stop indexi dahil değil"
   ]
  },
  {
   "cell_type": "code",
   "execution_count": 10,
   "id": "9808fcfa-7ef1-47a7-b830-3e06253203e0",
   "metadata": {},
   "outputs": [],
   "source": [
    "benimDizim[3:8]=-5  ## 3 ila 8 arasını - 5 yapan komut stop indexi unutma"
   ]
  },
  {
   "cell_type": "code",
   "execution_count": 11,
   "id": "4410426b-52c6-4d70-8c65-36ccd411aba0",
   "metadata": {},
   "outputs": [
    {
     "data": {
      "text/plain": [
       "array([ 0,  1,  2, -5, -5, -5, -5, -5,  8,  9, 10, 11, 12, 13, 14])"
      ]
     },
     "execution_count": 11,
     "metadata": {},
     "output_type": "execute_result"
    }
   ],
   "source": [
    "benimDizim"
   ]
  },
  {
   "cell_type": "code",
   "execution_count": 12,
   "id": "dc3fe8d4-5223-48bc-952f-621ebb1fa833",
   "metadata": {},
   "outputs": [],
   "source": [
    "baskaDizi = np.arange(0,24)"
   ]
  },
  {
   "cell_type": "code",
   "execution_count": 13,
   "id": "69b00790-9a70-4b56-b54d-8e5cc73a7f0f",
   "metadata": {},
   "outputs": [
    {
     "data": {
      "text/plain": [
       "array([ 0,  1,  2,  3,  4,  5,  6,  7,  8,  9, 10, 11, 12, 13, 14, 15, 16,\n",
       "       17, 18, 19, 20, 21, 22, 23])"
      ]
     },
     "execution_count": 13,
     "metadata": {},
     "output_type": "execute_result"
    }
   ],
   "source": [
    "baskaDizi"
   ]
  },
  {
   "cell_type": "code",
   "execution_count": 19,
   "id": "fa1a2394-2da9-4573-a755-3f78a28c14ff",
   "metadata": {},
   "outputs": [],
   "source": [
    "slicingDizi= baskaDizi[4:9]"
   ]
  },
  {
   "cell_type": "code",
   "execution_count": 20,
   "id": "2c3f7b58-b72f-4439-a84d-307a3fc64165",
   "metadata": {},
   "outputs": [
    {
     "data": {
      "text/plain": [
       "array([4, 5, 6, 7, 8])"
      ]
     },
     "execution_count": 20,
     "metadata": {},
     "output_type": "execute_result"
    }
   ],
   "source": [
    "slicingDizi"
   ]
  },
  {
   "cell_type": "code",
   "execution_count": 21,
   "id": "e561d3e0-f918-441f-905b-29437b1c77f6",
   "metadata": {},
   "outputs": [
    {
     "data": {
      "text/plain": [
       "array([ 0,  1,  2,  3,  4,  5,  6,  7,  8,  9, 10, 11, 12, 13, 14, 15, 16,\n",
       "       17, 18, 19, 20, 21, 22, 23])"
      ]
     },
     "execution_count": 21,
     "metadata": {},
     "output_type": "execute_result"
    }
   ],
   "source": [
    "baskaDizi"
   ]
  },
  {
   "cell_type": "code",
   "execution_count": 24,
   "id": "73ccbc3e-514e-4171-b15e-dad3da301df4",
   "metadata": {},
   "outputs": [],
   "source": [
    "slicingDizi[:]=700"
   ]
  },
  {
   "cell_type": "code",
   "execution_count": 25,
   "id": "4b0999f0-fe55-413f-b581-a435093edcd9",
   "metadata": {},
   "outputs": [
    {
     "data": {
      "text/plain": [
       "array([700, 700, 700, 700, 700])"
      ]
     },
     "execution_count": 25,
     "metadata": {},
     "output_type": "execute_result"
    }
   ],
   "source": [
    "slicingDizi"
   ]
  },
  {
   "cell_type": "code",
   "execution_count": 26,
   "id": "c1b958cd-e959-4ef5-8caf-8da5314ac948",
   "metadata": {},
   "outputs": [
    {
     "data": {
      "text/plain": [
       "array([  0,   1,   2,   3, 700, 700, 700, 700, 700,   9,  10,  11,  12,\n",
       "        13,  14,  15,  16,  17,  18,  19,  20,  21,  22,  23])"
      ]
     },
     "execution_count": 26,
     "metadata": {},
     "output_type": "execute_result"
    }
   ],
   "source": [
    "baskaDizi"
   ]
  },
  {
   "cell_type": "code",
   "execution_count": 27,
   "id": "440154b5-27b9-4ab4-bfbe-365fedc07bfd",
   "metadata": {},
   "outputs": [],
   "source": [
    "ornekDizi = np.arange(0,24)"
   ]
  },
  {
   "cell_type": "code",
   "execution_count": 28,
   "id": "c39c6bf8-d25d-4c9d-a3f1-a9096b16012c",
   "metadata": {},
   "outputs": [
    {
     "data": {
      "text/plain": [
       "array([ 0,  1,  2,  3,  4,  5,  6,  7,  8,  9, 10, 11, 12, 13, 14, 15, 16,\n",
       "       17, 18, 19, 20, 21, 22, 23])"
      ]
     },
     "execution_count": 28,
     "metadata": {},
     "output_type": "execute_result"
    }
   ],
   "source": [
    "ornekDizi"
   ]
  },
  {
   "cell_type": "code",
   "execution_count": 29,
   "id": "ee1bccb4-03ba-44e0-b08d-9a738364be99",
   "metadata": {},
   "outputs": [],
   "source": [
    "ornekDiziKopyasi = ornekDizi.copy()"
   ]
  },
  {
   "cell_type": "code",
   "execution_count": 30,
   "id": "438ab953-35f9-4826-b8ae-c705ea687538",
   "metadata": {},
   "outputs": [
    {
     "data": {
      "text/plain": [
       "array([ 0,  1,  2,  3,  4,  5,  6,  7,  8,  9, 10, 11, 12, 13, 14, 15, 16,\n",
       "       17, 18, 19, 20, 21, 22, 23])"
      ]
     },
     "execution_count": 30,
     "metadata": {},
     "output_type": "execute_result"
    }
   ],
   "source": [
    "ornekDiziKopyasi"
   ]
  },
  {
   "cell_type": "code",
   "execution_count": 31,
   "id": "ce8cf705-1bf1-45de-b54c-9c11a08d761b",
   "metadata": {},
   "outputs": [
    {
     "data": {
      "text/plain": [
       "array([ 0,  1,  2,  3,  4,  5,  6,  7,  8,  9, 10, 11, 12, 13, 14, 15, 16,\n",
       "       17, 18, 19, 20, 21, 22, 23])"
      ]
     },
     "execution_count": 31,
     "metadata": {},
     "output_type": "execute_result"
    }
   ],
   "source": [
    "ornekDizi"
   ]
  },
  {
   "cell_type": "code",
   "execution_count": 33,
   "id": "ea0c85e9-09d8-409f-aafd-dead5036ed44",
   "metadata": {},
   "outputs": [],
   "source": [
    "ornekDiziKopyaSlicing = ornekDiziKopyasi[3:6]"
   ]
  },
  {
   "cell_type": "code",
   "execution_count": 34,
   "id": "d4d17369-0ef7-4168-bef6-0ab85b6f9668",
   "metadata": {},
   "outputs": [],
   "source": [
    "ornekDiziKopyaSlicing [:]=800"
   ]
  },
  {
   "cell_type": "code",
   "execution_count": 35,
   "id": "c3730963-fc9e-4012-b1c6-438235169cae",
   "metadata": {},
   "outputs": [
    {
     "data": {
      "text/plain": [
       "array([800, 800, 800])"
      ]
     },
     "execution_count": 35,
     "metadata": {},
     "output_type": "execute_result"
    }
   ],
   "source": [
    "ornekDiziKopyaSlicing"
   ]
  },
  {
   "cell_type": "code",
   "execution_count": 36,
   "id": "39a2a5d5-e15a-4d4c-843e-f5d7aadcfaaa",
   "metadata": {},
   "outputs": [
    {
     "data": {
      "text/plain": [
       "array([ 0,  1,  2,  3,  4,  5,  6,  7,  8,  9, 10, 11, 12, 13, 14, 15, 16,\n",
       "       17, 18, 19, 20, 21, 22, 23])"
      ]
     },
     "execution_count": 36,
     "metadata": {},
     "output_type": "execute_result"
    }
   ],
   "source": [
    "ornekDizi"
   ]
  },
  {
   "cell_type": "code",
   "execution_count": 37,
   "id": "ef74b276-8e42-4191-9229-d2b15015e69e",
   "metadata": {},
   "outputs": [
    {
     "data": {
      "text/plain": [
       "array([  0,   1,   2, 800, 800, 800,   6,   7,   8,   9,  10,  11,  12,\n",
       "        13,  14,  15,  16,  17,  18,  19,  20,  21,  22,  23])"
      ]
     },
     "execution_count": 37,
     "metadata": {},
     "output_type": "execute_result"
    }
   ],
   "source": [
    "\n",
    "ornekDiziKopyasi\n"
   ]
  },
  {
   "cell_type": "markdown",
   "id": "85f89156-0259-4ac8-a3de-c1d9a9c95a68",
   "metadata": {},
   "source": [
    "## matrix"
   ]
  },
  {
   "cell_type": "code",
   "execution_count": 53,
   "id": "449d5c55-0733-41ec-ae65-5bc5fd3376a2",
   "metadata": {},
   "outputs": [],
   "source": [
    "benimListem = [[10,20,30],[40,5,87],[9,7,6]]"
   ]
  },
  {
   "cell_type": "code",
   "execution_count": 54,
   "id": "bd7c0661-e7de-442c-bcf7-f4403f668d34",
   "metadata": {},
   "outputs": [],
   "source": [
    "benimMatrixDizim = np.array(benimListem)"
   ]
  },
  {
   "cell_type": "code",
   "execution_count": 55,
   "id": "e26575a4-95f4-4a9d-b46c-1ef929df5d5d",
   "metadata": {},
   "outputs": [
    {
     "data": {
      "text/plain": [
       "array([[10, 20, 30],\n",
       "       [40,  5, 87],\n",
       "       [ 9,  7,  6]])"
      ]
     },
     "execution_count": 55,
     "metadata": {},
     "output_type": "execute_result"
    }
   ],
   "source": [
    "benimMatrixDizim"
   ]
  },
  {
   "cell_type": "code",
   "execution_count": 56,
   "id": "fa021a79-acbe-44fe-999b-702965504003",
   "metadata": {},
   "outputs": [
    {
     "data": {
      "text/plain": [
       "6"
      ]
     },
     "execution_count": 56,
     "metadata": {},
     "output_type": "execute_result"
    }
   ],
   "source": [
    "benimMatrixDizim[2,2]"
   ]
  },
  {
   "cell_type": "code",
   "execution_count": 57,
   "id": "cec0da2d-3bd0-4797-8fdf-9c44017e6ca6",
   "metadata": {},
   "outputs": [
    {
     "data": {
      "text/plain": [
       "6"
      ]
     },
     "execution_count": 57,
     "metadata": {},
     "output_type": "execute_result"
    }
   ],
   "source": [
    "benimMatrixDizim[2][2]"
   ]
  },
  {
   "cell_type": "code",
   "execution_count": 64,
   "id": "ead14d62-047f-44c3-b83a-8f75df7e0586",
   "metadata": {},
   "outputs": [
    {
     "data": {
      "text/plain": [
       "array([87,  6])"
      ]
     },
     "execution_count": 64,
     "metadata": {},
     "output_type": "execute_result"
    }
   ],
   "source": [
    "benimMatrixDizim[1:,2]  ##1den 2 ye kadar olan rowların ikinci indeksine kadar veriyi çeker"
   ]
  },
  {
   "cell_type": "code",
   "execution_count": 65,
   "id": "f81755fc-462e-4066-a015-0aed19faebc0",
   "metadata": {},
   "outputs": [],
   "source": [
    "yeniListw = [[1,2,3,4],[5,6,7,8],[9,10,11,12],[13,14,15,16],[17,18,19,20]]"
   ]
  },
  {
   "cell_type": "code",
   "execution_count": 66,
   "id": "2f11ac60-f44b-427c-84bc-54c5d8a5dbcd",
   "metadata": {},
   "outputs": [],
   "source": [
    "yeniMatrix = np.array(yeniListw)"
   ]
  },
  {
   "cell_type": "code",
   "execution_count": 67,
   "id": "29b0b10b-c97d-4c20-8305-595643aba79d",
   "metadata": {},
   "outputs": [
    {
     "data": {
      "text/plain": [
       "array([[ 1,  2,  3,  4],\n",
       "       [ 5,  6,  7,  8],\n",
       "       [ 9, 10, 11, 12],\n",
       "       [13, 14, 15, 16],\n",
       "       [17, 18, 19, 20]])"
      ]
     },
     "execution_count": 67,
     "metadata": {},
     "output_type": "execute_result"
    }
   ],
   "source": [
    "yeniMatrix"
   ]
  },
  {
   "cell_type": "code",
   "execution_count": 75,
   "id": "92cec628-6cec-474c-8650-03a94e0ab3f3",
   "metadata": {},
   "outputs": [
    {
     "data": {
      "text/plain": [
       "array([[ 1,  2,  3,  4],\n",
       "       [ 9, 10, 11, 12],\n",
       "       [17, 18, 19, 20]])"
      ]
     },
     "execution_count": 75,
     "metadata": {},
     "output_type": "execute_result"
    }
   ],
   "source": [
    "yeniMatrix[[0,2,4]]"
   ]
  },
  {
   "cell_type": "markdown",
   "id": "0468e27e-7b52-4214-b5ca-7948e59ca3ac",
   "metadata": {},
   "source": [
    "## operasyonlar"
   ]
  },
  {
   "cell_type": "code",
   "execution_count": 80,
   "id": "304fdc85-e46c-4ab3-a5d0-5aa770d97bd7",
   "metadata": {},
   "outputs": [],
   "source": [
    "yeniBirDizi = np.random.randint(1,100,20)"
   ]
  },
  {
   "cell_type": "code",
   "execution_count": 81,
   "id": "88a771d7-5cf8-4ab8-9488-e9e5a95a026d",
   "metadata": {},
   "outputs": [
    {
     "data": {
      "text/plain": [
       "array([87, 62, 99, 82, 57, 84, 47, 48, 36, 82, 93,  4, 36, 90, 65, 69, 17,\n",
       "       59, 33, 88])"
      ]
     },
     "execution_count": 81,
     "metadata": {},
     "output_type": "execute_result"
    }
   ],
   "source": [
    "yeniBirDizi"
   ]
  },
  {
   "cell_type": "code",
   "execution_count": 83,
   "id": "b064a7b9-dd80-45b3-a4aa-32e466c9757c",
   "metadata": {},
   "outputs": [
    {
     "data": {
      "text/plain": [
       "array([ True,  True,  True,  True,  True,  True,  True,  True,  True,\n",
       "        True,  True, False,  True,  True,  True,  True, False,  True,\n",
       "        True,  True])"
      ]
     },
     "execution_count": 83,
     "metadata": {},
     "output_type": "execute_result"
    }
   ],
   "source": [
    "yeniBirDizi > 24  ##boolean olarka döndürdü güzel komut!!!!"
   ]
  },
  {
   "cell_type": "code",
   "execution_count": 84,
   "id": "d8758916-01f5-4184-8b5c-bcbe79f92216",
   "metadata": {},
   "outputs": [
    {
     "data": {
      "text/plain": [
       "array([87, 62, 99, 82, 57, 84, 47, 48, 36, 82, 93,  4, 36, 90, 65, 69, 17,\n",
       "       59, 33, 88])"
      ]
     },
     "execution_count": 84,
     "metadata": {},
     "output_type": "execute_result"
    }
   ],
   "source": [
    "yeniBirDizi"
   ]
  },
  {
   "cell_type": "code",
   "execution_count": 85,
   "id": "be72e693-19d2-4efc-a612-7ba3cdf21eea",
   "metadata": {},
   "outputs": [],
   "source": [
    "sonucDizisi = yeniBirDizi > 24"
   ]
  },
  {
   "cell_type": "code",
   "execution_count": 86,
   "id": "54029660-c0ff-4887-a685-6446b0fd40d6",
   "metadata": {},
   "outputs": [
    {
     "data": {
      "text/plain": [
       "array([ True,  True,  True,  True,  True,  True,  True,  True,  True,\n",
       "        True,  True, False,  True,  True,  True,  True, False,  True,\n",
       "        True,  True])"
      ]
     },
     "execution_count": 86,
     "metadata": {},
     "output_type": "execute_result"
    }
   ],
   "source": [
    "sonucDizisi"
   ]
  },
  {
   "cell_type": "code",
   "execution_count": 87,
   "id": "6043cf1e-cd7c-40a1-ad96-1df1ec24e908",
   "metadata": {},
   "outputs": [
    {
     "data": {
      "text/plain": [
       "array([87, 62, 99, 82, 57, 84, 47, 48, 36, 82, 93,  4, 36, 90, 65, 69, 17,\n",
       "       59, 33, 88])"
      ]
     },
     "execution_count": 87,
     "metadata": {},
     "output_type": "execute_result"
    }
   ],
   "source": [
    "yeniBirDizi"
   ]
  },
  {
   "cell_type": "code",
   "execution_count": 88,
   "id": "1d0d717e-a179-480d-9ec1-38d6aa31abd6",
   "metadata": {},
   "outputs": [
    {
     "data": {
      "text/plain": [
       "array([87, 62, 99, 82, 57, 84, 47, 48, 36, 82, 93, 36, 90, 65, 69, 59, 33,\n",
       "       88])"
      ]
     },
     "execution_count": 88,
     "metadata": {},
     "output_type": "execute_result"
    }
   ],
   "source": [
    "yeniBirDizi[sonucDizisi]  ##24ten büyük rakamları filtreledi false truel almadı ÇOK GÜZEL OLAY!!!!"
   ]
  },
  {
   "cell_type": "code",
   "execution_count": 89,
   "id": "13f33155-46b9-4c69-a7a0-84ffef7bf12d",
   "metadata": {},
   "outputs": [
    {
     "data": {
      "text/plain": [
       "array([87, 62, 99, 82, 57, 84, 47, 48, 36, 82, 93,  4, 36, 90, 65, 69, 17,\n",
       "       59, 33, 88])"
      ]
     },
     "execution_count": 89,
     "metadata": {},
     "output_type": "execute_result"
    }
   ],
   "source": [
    "yeniBirDizi"
   ]
  },
  {
   "cell_type": "code",
   "execution_count": 90,
   "id": "69399cdd-39ca-4203-8beb-03600709135c",
   "metadata": {},
   "outputs": [
    {
     "data": {
      "text/plain": [
       "array([87, 62, 99, 82, 57, 84, 47, 48, 36, 82, 93, 36, 90, 65, 69, 59, 33,\n",
       "       88])"
      ]
     },
     "execution_count": 90,
     "metadata": {},
     "output_type": "execute_result"
    }
   ],
   "source": [
    "yeniBirDizi[yeniBirDizi>24] ##yine aynı kod olmuş oldu!!! dizi filtreledik çok iyi"
   ]
  },
  {
   "cell_type": "code",
   "execution_count": 91,
   "id": "27269171-a616-4c30-a26b-f89be1e8e3bd",
   "metadata": {},
   "outputs": [],
   "source": [
    "sonDizi = np.arange(0,24)"
   ]
  },
  {
   "cell_type": "code",
   "execution_count": 93,
   "id": "f39a62cd-3433-4f46-a7da-73cb6c89b125",
   "metadata": {},
   "outputs": [
    {
     "data": {
      "text/plain": [
       "array([ 0,  1,  2,  3,  4,  5,  6,  7,  8,  9, 10, 11, 12, 13, 14, 15, 16,\n",
       "       17, 18, 19, 20, 21, 22, 23])"
      ]
     },
     "execution_count": 93,
     "metadata": {},
     "output_type": "execute_result"
    }
   ],
   "source": [
    "sonDizi"
   ]
  },
  {
   "cell_type": "code",
   "execution_count": 94,
   "id": "a1a5a765-d699-428c-b913-4890e2cd81ef",
   "metadata": {},
   "outputs": [
    {
     "data": {
      "text/plain": [
       "array([ 0,  2,  4,  6,  8, 10, 12, 14, 16, 18, 20, 22, 24, 26, 28, 30, 32,\n",
       "       34, 36, 38, 40, 42, 44, 46])"
      ]
     },
     "execution_count": 94,
     "metadata": {},
     "output_type": "execute_result"
    }
   ],
   "source": [
    "sonDizi + sonDizi  ## iki dizi elemanlarını topladı"
   ]
  },
  {
   "cell_type": "code",
   "execution_count": 95,
   "id": "f9c53552-ddb4-4a92-a4ba-f75bafde2647",
   "metadata": {},
   "outputs": [
    {
     "data": {
      "text/plain": [
       "array([ 0,  1,  2,  3,  4,  5,  6,  7,  8,  9, 10, 11, 12, 13, 14, 15, 16,\n",
       "       17, 18, 19, 20, 21, 22, 23])"
      ]
     },
     "execution_count": 95,
     "metadata": {},
     "output_type": "execute_result"
    }
   ],
   "source": [
    "sonDizi"
   ]
  },
  {
   "cell_type": "code",
   "execution_count": 96,
   "id": "36e5d1cc-d222-4ab8-82e0-3a2f410dceeb",
   "metadata": {},
   "outputs": [
    {
     "data": {
      "text/plain": [
       "array([  0,   1,   4,   9,  16,  25,  36,  49,  64,  81, 100, 121, 144,\n",
       "       169, 196, 225, 256, 289, 324, 361, 400, 441, 484, 529])"
      ]
     },
     "execution_count": 96,
     "metadata": {},
     "output_type": "execute_result"
    }
   ],
   "source": [
    "sonDizi*sonDizi"
   ]
  },
  {
   "cell_type": "code",
   "execution_count": 97,
   "id": "cb431cc8-c8ec-480b-916f-e94661142156",
   "metadata": {},
   "outputs": [
    {
     "data": {
      "text/plain": [
       "array([0, 0, 0, 0, 0, 0, 0, 0, 0, 0, 0, 0, 0, 0, 0, 0, 0, 0, 0, 0, 0, 0,\n",
       "       0, 0])"
      ]
     },
     "execution_count": 97,
     "metadata": {},
     "output_type": "execute_result"
    }
   ],
   "source": [
    "sonDizi-sonDizi"
   ]
  },
  {
   "cell_type": "code",
   "execution_count": 98,
   "id": "80a8a959-cf5e-422b-b2da-f42de00c5be5",
   "metadata": {},
   "outputs": [
    {
     "data": {
      "text/plain": [
       "array([0.        , 1.        , 1.41421356, 1.73205081, 2.        ,\n",
       "       2.23606798, 2.44948974, 2.64575131, 2.82842712, 3.        ,\n",
       "       3.16227766, 3.31662479, 3.46410162, 3.60555128, 3.74165739,\n",
       "       3.87298335, 4.        , 4.12310563, 4.24264069, 4.35889894,\n",
       "       4.47213595, 4.58257569, 4.69041576, 4.79583152])"
      ]
     },
     "execution_count": 98,
     "metadata": {},
     "output_type": "execute_result"
    }
   ],
   "source": [
    "np.sqrt(sonDizi)"
   ]
  },
  {
   "cell_type": "code",
   "execution_count": 99,
   "id": "77bf58af-5efe-496e-b474-4ce3f967aba1",
   "metadata": {},
   "outputs": [
    {
     "data": {
      "text/plain": [
       "23"
      ]
     },
     "execution_count": 99,
     "metadata": {},
     "output_type": "execute_result"
    }
   ],
   "source": [
    "np.max(sonDizi)"
   ]
  },
  {
   "cell_type": "code",
   "execution_count": 100,
   "id": "0a9f52f9-5506-41de-9399-6dbb7825262a",
   "metadata": {},
   "outputs": [
    {
     "data": {
      "text/plain": [
       "0"
      ]
     },
     "execution_count": 100,
     "metadata": {},
     "output_type": "execute_result"
    }
   ],
   "source": [
    "np.min(sonDizi)"
   ]
  },
  {
   "cell_type": "code",
   "execution_count": null,
   "id": "2aa6127c-a5ce-40d6-ab48-d905656ad728",
   "metadata": {},
   "outputs": [],
   "source": []
  }
 ],
 "metadata": {
  "kernelspec": {
   "display_name": "Python 3 (ipykernel)",
   "language": "python",
   "name": "python3"
  },
  "language_info": {
   "codemirror_mode": {
    "name": "ipython",
    "version": 3
   },
   "file_extension": ".py",
   "mimetype": "text/x-python",
   "name": "python",
   "nbconvert_exporter": "python",
   "pygments_lexer": "ipython3",
   "version": "3.9.7"
  }
 },
 "nbformat": 4,
 "nbformat_minor": 5
}
