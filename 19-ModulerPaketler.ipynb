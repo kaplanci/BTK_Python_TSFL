{
 "cells": [
  {
   "cell_type": "code",
   "execution_count": 4,
   "id": "ce7814b3-35f6-4dd4-9b26-be1745e4f7e4",
   "metadata": {},
   "outputs": [],
   "source": [
    "import numpy\n",
    "import matplotlib.pyplot as matplot"
   ]
  },
  {
   "cell_type": "code",
   "execution_count": 5,
   "id": "4c153218-4611-4502-8b81-f7ea6401bfe6",
   "metadata": {},
   "outputs": [
    {
     "data": {
      "text/plain": [
       "3994.8340199059126"
      ]
     },
     "execution_count": 5,
     "metadata": {},
     "output_type": "execute_result"
    }
   ],
   "source": [
    "maasListesi = numpy.random.normal(4000,500,1000)\n",
    "numpy.mean(maasListesi)"
   ]
  },
  {
   "cell_type": "code",
   "execution_count": 18,
   "id": "76543e25-377c-48f5-8813-70111d9a2068",
   "metadata": {},
   "outputs": [
    {
     "data": {
      "image/png": "[encoded data removed]",
      "text/plain": [
       "<Figure size 432x288 with 1 Axes>"
      ]
     },
     "metadata": {
      "needs_background": "light"
     },
     "output_type": "display_data"
    }
   ],
   "source": [
    "matplot.hist(maasListesi,66)\n",
    "matplot.show()"
   ]
  },
  {
   "cell_type": "markdown",
   "id": "ba27e9ef-2797-428e-9dc7-a83d9550dcd8",
   "metadata": {},
   "source": [
    "## "
   ]
  },
  {
   "cell_type": "code",
   "execution_count": null,
   "id": "6b0c9974-99bb-479f-8ab9-d2b88bb90912",
   "metadata": {},
   "outputs": [],
   "source": []
  }
 ],
 "metadata": {
  "kernelspec": {
   "display_name": "Python 3 (ipykernel)",
   "language": "python",
   "name": "python3"
  },
  "language_info": {
   "codemirror_mode": {
    "name": "ipython",
    "version": 3
   },
   "file_extension": ".py",
   "mimetype": "text/x-python",
   "name": "python",
   "nbconvert_exporter": "python",
   "pygments_lexer": "ipython3",
   "version": "3.9.7"
  }
 },
 "nbformat": 4,
 "nbformat_minor": 5
}
