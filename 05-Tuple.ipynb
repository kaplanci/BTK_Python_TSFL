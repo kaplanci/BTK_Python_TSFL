{
 "cells": [
  {
   "cell_type": "code",
   "execution_count": 1,
   "id": "ae616f16-1331-4384-8a3d-3d5864ecbccb",
   "metadata": {},
   "outputs": [],
   "source": [
    "#tuple liste mantığının aynısı fakat eleman değiştirmek yok"
   ]
  },
  {
   "cell_type": "code",
   "execution_count": null,
   "id": "f579af26-5457-48bf-af13-130151d67175",
   "metadata": {},
   "outputs": [],
   "source": []
  }
 ],
 "metadata": {
  "kernelspec": {
   "display_name": "Python 3 (ipykernel)",
   "language": "python",
   "name": "python3"
  },
  "language_info": {
   "codemirror_mode": {
    "name": "ipython",
    "version": 3
   },
   "file_extension": ".py",
   "mimetype": "text/x-python",
   "name": "python",
   "nbconvert_exporter": "python",
   "pygments_lexer": "ipython3",
   "version": "3.9.7"
  }
 },
 "nbformat": 4,
 "nbformat_minor": 5
}
