{
 "cells": [
  {
   "cell_type": "code",
   "execution_count": 1,
   "id": "af52e741-276f-45e4-8cbb-2858e34b089e",
   "metadata": {},
   "outputs": [],
   "source": [
    "x=5\n",
    "y=6"
   ]
  },
  {
   "cell_type": "code",
   "execution_count": 4,
   "id": "a70d0afc-3676-4e64-a280-b66f1d1e291c",
   "metadata": {},
   "outputs": [
    {
     "data": {
      "text/plain": [
       "18"
      ]
     },
     "execution_count": 4,
     "metadata": {},
     "output_type": "execute_result"
    }
   ],
   "source": [
    "x*y"
   ]
  },
  {
   "cell_type": "code",
   "execution_count": 3,
   "id": "73d9292d-886b-446d-ad8c-7180e4566672",
   "metadata": {},
   "outputs": [],
   "source": [
    "x=3\n"
   ]
  },
  {
   "cell_type": "code",
   "execution_count": null,
   "id": "52c6fd2f-aead-42d2-8793-8d93fa35ed67",
   "metadata": {},
   "outputs": [],
   "source": []
  },
  {
   "cell_type": "code",
   "execution_count": null,
   "id": "42f96b59-6c35-41a6-b2b5-8013749a3e3e",
   "metadata": {},
   "outputs": [],
   "source": [
    "x*y"
   ]
  },
  {
   "cell_type": "code",
   "execution_count": 5,
   "id": "aaedfa77-65ad-4ae7-9bd3-b77d047cf0bc",
   "metadata": {},
   "outputs": [],
   "source": [
    "adana=20"
   ]
  },
  {
   "cell_type": "code",
   "execution_count": 6,
   "id": "08909838-d5a4-43ae-a8ee-c7f01d364964",
   "metadata": {},
   "outputs": [
    {
     "data": {
      "text/plain": [
       "int"
      ]
     },
     "execution_count": 6,
     "metadata": {},
     "output_type": "execute_result"
    }
   ],
   "source": [
    "type(adana)"
   ]
  },
  {
   "cell_type": "code",
   "execution_count": 7,
   "id": "efcaf0e0-224a-4a94-bea4-f42aeca19ece",
   "metadata": {},
   "outputs": [
    {
     "data": {
      "text/plain": [
       "6.666666666666667"
      ]
     },
     "execution_count": 7,
     "metadata": {},
     "output_type": "execute_result"
    }
   ],
   "source": [
    "adana/x"
   ]
  },
  {
   "cell_type": "code",
   "execution_count": 8,
   "id": "c2c1afe3-8c3b-4053-a0b0-215c43e850a0",
   "metadata": {},
   "outputs": [
    {
     "ename": "SyntaxError",
     "evalue": "cannot assign to operator (Temp/ipykernel_11372/2122545938.py, line 1)",
     "output_type": "error",
     "traceback": [
      "\u001b[1;36m  File \u001b[1;32m\"C:\\Users\\Batuhan\\AppData\\Local\\Temp/ipykernel_11372/2122545938.py\"\u001b[1;36m, line \u001b[1;32m1\u001b[0m\n\u001b[1;33m    adana/x=c\u001b[0m\n\u001b[1;37m    ^\u001b[0m\n\u001b[1;31mSyntaxError\u001b[0m\u001b[1;31m:\u001b[0m cannot assign to operator\n"
     ]
    }
   ],
   "source": [
    "adana/x=c\n"
   ]
  },
  {
   "cell_type": "code",
   "execution_count": 9,
   "id": "1849ec98-8e08-496e-8d9a-38f6aa0eb823",
   "metadata": {},
   "outputs": [],
   "source": [
    "c = adana/x"
   ]
  },
  {
   "cell_type": "code",
   "execution_count": 10,
   "id": "5a54e1dd-660a-4dc3-b419-9d95dc8cab84",
   "metadata": {},
   "outputs": [
    {
     "data": {
      "text/plain": [
       "6.666666666666667"
      ]
     },
     "execution_count": 10,
     "metadata": {},
     "output_type": "execute_result"
    }
   ],
   "source": [
    "c"
   ]
  },
  {
   "cell_type": "code",
   "execution_count": 11,
   "id": "440c2b08-1936-4f46-bfec-912cad72b37b",
   "metadata": {},
   "outputs": [
    {
     "data": {
      "text/plain": [
       "float"
      ]
     },
     "execution_count": 11,
     "metadata": {},
     "output_type": "execute_result"
    }
   ],
   "source": [
    "type(c)"
   ]
  },
  {
   "cell_type": "code",
   "execution_count": 12,
   "id": "4fafc2f1-adf0-4a60-a9aa-03dd002f9b19",
   "metadata": {},
   "outputs": [],
   "source": [
    "d=5"
   ]
  },
  {
   "cell_type": "code",
   "execution_count": 13,
   "id": "3c795961-0ebd-4ddf-b3b3-4a7d2937c4fb",
   "metadata": {},
   "outputs": [
    {
     "data": {
      "text/plain": [
       "float"
      ]
     },
     "execution_count": 13,
     "metadata": {},
     "output_type": "execute_result"
    }
   ],
   "source": [
    "type(adana/d)"
   ]
  },
  {
   "cell_type": "code",
   "execution_count": 18,
   "id": "2084f826-1655-4f85-aa9e-549e3b312fb2",
   "metadata": {},
   "outputs": [],
   "source": [
    "x=4\n",
    "y=2\n",
    "z=x/y"
   ]
  },
  {
   "cell_type": "code",
   "execution_count": 19,
   "id": "74563c50-b899-4730-b320-8bb6c2fbecf3",
   "metadata": {},
   "outputs": [
    {
     "data": {
      "text/plain": [
       "float"
      ]
     },
     "execution_count": 19,
     "metadata": {},
     "output_type": "execute_result"
    }
   ],
   "source": [
    "type(z)"
   ]
  },
  {
   "cell_type": "code",
   "execution_count": 22,
   "id": "8f0e4dc3-cab7-4a31-8eac-27a2be20fd9c",
   "metadata": {},
   "outputs": [
    {
     "data": {
      "text/plain": [
       "float"
      ]
     },
     "execution_count": 22,
     "metadata": {},
     "output_type": "execute_result"
    }
   ],
   "source": [
    "y=3\n",
    "type(z)"
   ]
  },
  {
   "cell_type": "code",
   "execution_count": 23,
   "id": "4e43525f-cfad-4e23-b6b8-d18aeab7f145",
   "metadata": {},
   "outputs": [
    {
     "data": {
      "text/plain": [
       "2.0"
      ]
     },
     "execution_count": 23,
     "metadata": {},
     "output_type": "execute_result"
    }
   ],
   "source": [
    "z"
   ]
  },
  {
   "cell_type": "code",
   "execution_count": 24,
   "id": "4b9a53a9-ebdb-4850-a404-da81f79eb3c8",
   "metadata": {},
   "outputs": [
    {
     "data": {
      "text/plain": [
       "float"
      ]
     },
     "execution_count": 24,
     "metadata": {},
     "output_type": "execute_result"
    }
   ],
   "source": [
    "type(z)"
   ]
  },
  {
   "cell_type": "code",
   "execution_count": 25,
   "id": "798c9af6-af37-42d2-8cab-e821eb3e1a95",
   "metadata": {},
   "outputs": [
    {
     "ename": "NameError",
     "evalue": "name 'xty' is not defined",
     "output_type": "error",
     "traceback": [
      "\u001b[1;31m---------------------------------------------------------------------------\u001b[0m",
      "\u001b[1;31mNameError\u001b[0m                                 Traceback (most recent call last)",
      "\u001b[1;32m~\\AppData\\Local\\Temp/ipykernel_11372/3100795730.py\u001b[0m in \u001b[0;36m<module>\u001b[1;34m\u001b[0m\n\u001b[1;32m----> 1\u001b[1;33m \u001b[0ma\u001b[0m\u001b[1;33m=\u001b[0m \u001b[0mxty\u001b[0m\u001b[1;33m\u001b[0m\u001b[1;33m\u001b[0m\u001b[0m\n\u001b[0m",
      "\u001b[1;31mNameError\u001b[0m: name 'xty' is not defined"
     ]
    }
   ],
   "source": [
    "a= xty"
   ]
  },
  {
   "cell_type": "code",
   "execution_count": 26,
   "id": "f7e24706-5e08-4a25-9f94-31665ab2768c",
   "metadata": {},
   "outputs": [],
   "source": [
    "a = x+y"
   ]
  },
  {
   "cell_type": "code",
   "execution_count": 27,
   "id": "3dbd8110-e9cc-473a-8976-cba4f17a9157",
   "metadata": {},
   "outputs": [
    {
     "data": {
      "text/plain": [
       "int"
      ]
     },
     "execution_count": 27,
     "metadata": {},
     "output_type": "execute_result"
    }
   ],
   "source": [
    "type(a)"
   ]
  },
  {
   "cell_type": "code",
   "execution_count": null,
   "id": "589d1344-fb45-456b-ad73-8f9bde3c41c3",
   "metadata": {},
   "outputs": [],
   "source": []
  },
  {
   "cell_type": "code",
   "execution_count": null,
   "id": "e089c4f1-3779-41db-bcb5-3d0eccfa0ecc",
   "metadata": {},
   "outputs": [],
   "source": []
  },
  {
   "cell_type": "markdown",
   "id": "ab53877e-a9b0-4137-93bc-dbe06f3f3543",
   "metadata": {},
   "source": [
    "## Matematiksel İşlemler"
   ]
  },
  {
   "cell_type": "code",
   "execution_count": 28,
   "id": "c8e3a74d-d6db-4f1c-bbb6-750dd5af76d4",
   "metadata": {},
   "outputs": [
    {
     "data": {
      "text/plain": [
       "9"
      ]
     },
     "execution_count": 28,
     "metadata": {},
     "output_type": "execute_result"
    }
   ],
   "source": [
    "3**2"
   ]
  },
  {
   "cell_type": "code",
   "execution_count": 29,
   "id": "bbb93374-58a6-40ba-9eaf-b10e207af60d",
   "metadata": {},
   "outputs": [],
   "source": [
    "#remainder=kalanını bulmak mod mantığı"
   ]
  },
  {
   "cell_type": "code",
   "execution_count": 30,
   "id": "5dc783f9-3705-496b-9d8d-e64a915ccb07",
   "metadata": {},
   "outputs": [
    {
     "ename": "SyntaxError",
     "evalue": "invalid syntax (Temp/ipykernel_11372/569548242.py, line 1)",
     "output_type": "error",
     "traceback": [
      "\u001b[1;36m  File \u001b[1;32m\"C:\\Users\\Batuhan\\AppData\\Local\\Temp/ipykernel_11372/569548242.py\"\u001b[1;36m, line \u001b[1;32m1\u001b[0m\n\u001b[1;33m    10 $ 2\u001b[0m\n\u001b[1;37m       ^\u001b[0m\n\u001b[1;31mSyntaxError\u001b[0m\u001b[1;31m:\u001b[0m invalid syntax\n"
     ]
    }
   ],
   "source": [
    "10 $ 2"
   ]
  },
  {
   "cell_type": "code",
   "execution_count": 31,
   "id": "fa24b7b9-bca2-4751-8fe0-a223be00e3b9",
   "metadata": {},
   "outputs": [
    {
     "data": {
      "text/plain": [
       "0"
      ]
     },
     "execution_count": 31,
     "metadata": {},
     "output_type": "execute_result"
    }
   ],
   "source": [
    "10 % 2\n"
   ]
  },
  {
   "cell_type": "code",
   "execution_count": 32,
   "id": "2a1709c2-fc10-4add-87b9-1960be609657",
   "metadata": {},
   "outputs": [
    {
     "data": {
      "text/plain": [
       "1"
      ]
     },
     "execution_count": 32,
     "metadata": {},
     "output_type": "execute_result"
    }
   ],
   "source": [
    "10 % 3"
   ]
  },
  {
   "cell_type": "code",
   "execution_count": 33,
   "id": "2b08d629-7485-47a2-b3b4-48c3ee4ce7ba",
   "metadata": {},
   "outputs": [
    {
     "name": "stdin",
     "output_type": "stream",
     "text": [
      "Yaşınızı Girniz? 22\n"
     ]
    },
    {
     "data": {
      "text/plain": [
       "'22'"
      ]
     },
     "execution_count": 33,
     "metadata": {},
     "output_type": "execute_result"
    }
   ],
   "source": [
    "input('Yaşınızı Girniz?')"
   ]
  },
  {
   "cell_type": "code",
   "execution_count": 35,
   "id": "29b573c3-da0c-4232-a5a1-de1343648dce",
   "metadata": {},
   "outputs": [
    {
     "name": "stdin",
     "output_type": "stream",
     "text": [
      "Kullanıcının yaşını giriniz:  8\n"
     ]
    },
    {
     "data": {
      "text/plain": [
       "'8'"
      ]
     },
     "execution_count": 35,
     "metadata": {},
     "output_type": "execute_result"
    }
   ],
   "source": [
    "a= input ('Kullanıcının yaşını giriniz: ')\n",
    "a"
   ]
  },
  {
   "cell_type": "markdown",
   "id": "1b66f854-e10a-4e27-b809-d688dc71e028",
   "metadata": {},
   "source": [
    "## String"
   ]
  },
  {
   "cell_type": "code",
   "execution_count": 36,
   "id": "49abdefb-2128-4d1d-b4f5-5b427dc4a7f6",
   "metadata": {},
   "outputs": [
    {
     "data": {
      "text/plain": [
       "'Merhaba Dünya'"
      ]
     },
     "execution_count": 36,
     "metadata": {},
     "output_type": "execute_result"
    }
   ],
   "source": [
    "x = 'Merhaba Dünya'\n",
    "x"
   ]
  },
  {
   "cell_type": "code",
   "execution_count": 1,
   "id": "863c06df-f33a-4d57-be7f-e30fa3335c45",
   "metadata": {},
   "outputs": [
    {
     "name": "stdin",
     "output_type": "stream",
     "text": [
      "vize notunuzu giriniz:  66\n",
      "final notunuzu giriniz:  77\n"
     ]
    },
    {
     "name": "stdout",
     "output_type": "stream",
     "text": [
      "sonuç eşittir:\n"
     ]
    },
    {
     "data": {
      "text/plain": [
       "72.6"
      ]
     },
     "execution_count": 1,
     "metadata": {},
     "output_type": "execute_result"
    }
   ],
   "source": [
    "a = int(input('vize notunuzu giriniz: '))\n",
    "b = int(input('final notunuzu giriniz: '))\n",
    "sonuc=(a*0.4)+(b*0.6)\n",
    "print('sonuç eşittir:')\n",
    "\n",
    "sonuc\n"
   ]
  },
  {
   "cell_type": "code",
   "execution_count": null,
   "id": "7cc55f8e-21e3-4f27-bd41-17400816f254",
   "metadata": {},
   "outputs": [],
   "source": []
  },
  {
   "cell_type": "code",
   "execution_count": 72,
   "id": "139bc4a4-ede5-4f39-95dc-1da14ee45aad",
   "metadata": {},
   "outputs": [],
   "source": [
    "ad = 'batuhan Kaplancı'"
   ]
  },
  {
   "cell_type": "code",
   "execution_count": 49,
   "id": "babcf63e-6245-4f30-9fc8-521814533915",
   "metadata": {},
   "outputs": [
    {
     "data": {
      "text/plain": [
       "'Batuhan Kaplancı'"
      ]
     },
     "execution_count": 49,
     "metadata": {},
     "output_type": "execute_result"
    }
   ],
   "source": [
    "ad"
   ]
  },
  {
   "cell_type": "markdown",
   "id": "4c729fd7-a4a3-4f2f-b741-536da6b1d343",
   "metadata": {},
   "source": [
    "## İndex"
   ]
  },
  {
   "cell_type": "code",
   "execution_count": 50,
   "id": "1ac9f2e0-948c-40d7-bfdd-c7d06f01d6f0",
   "metadata": {},
   "outputs": [
    {
     "data": {
      "text/plain": [
       "'B'"
      ]
     },
     "execution_count": 50,
     "metadata": {},
     "output_type": "execute_result"
    }
   ],
   "source": [
    "ad[0]"
   ]
  },
  {
   "cell_type": "code",
   "execution_count": 51,
   "id": "2d0bd523-f5a1-405e-9a79-a359f1f43843",
   "metadata": {},
   "outputs": [
    {
     "data": {
      "text/plain": [
       "' '"
      ]
     },
     "execution_count": 51,
     "metadata": {},
     "output_type": "execute_result"
    }
   ],
   "source": [
    "ad[7] #boşlukta karakter"
   ]
  },
  {
   "cell_type": "code",
   "execution_count": 56,
   "id": "07a9b84d-c6eb-4944-883b-cdae86b11e70",
   "metadata": {},
   "outputs": [
    {
     "data": {
      "text/plain": [
       "'ı'"
      ]
     },
     "execution_count": 56,
     "metadata": {},
     "output_type": "execute_result"
    }
   ],
   "source": [
    "ad[-1] #son karakteri alma"
   ]
  },
  {
   "cell_type": "code",
   "execution_count": 68,
   "id": "03d0fbef-2538-43b2-a54f-58d80b387f5b",
   "metadata": {},
   "outputs": [],
   "source": [
    "rakamlar = 'abcdefg'\n"
   ]
  },
  {
   "cell_type": "code",
   "execution_count": 71,
   "id": "98f87891-3eb6-40d0-8927-a512eed3780b",
   "metadata": {},
   "outputs": [
    {
     "data": {
      "text/plain": [
       "'defg'"
      ]
     },
     "execution_count": 71,
     "metadata": {},
     "output_type": "execute_result"
    }
   ],
   "source": [
    "rakamlar[3:]  #son 3 elemanı yazma slicing metodu"
   ]
  },
  {
   "cell_type": "code",
   "execution_count": 70,
   "id": "d280c828-8102-4d07-9f68-9ad398e124f3",
   "metadata": {},
   "outputs": [
    {
     "data": {
      "text/plain": [
       "'abc'"
      ]
     },
     "execution_count": 70,
     "metadata": {},
     "output_type": "execute_result"
    }
   ],
   "source": [
    "rakamlar[:3] #ilk üç elemanı alma slicing metodu"
   ]
  },
  {
   "cell_type": "markdown",
   "id": "1a9d6edf-bf84-4e80-954f-b80ef5c13655",
   "metadata": {},
   "source": [
    "## String Metodları"
   ]
  },
  {
   "cell_type": "code",
   "execution_count": 73,
   "id": "bec23681-b4fa-458a-b244-58a487d1fe83",
   "metadata": {},
   "outputs": [
    {
     "data": {
      "text/plain": [
       "'Batuhan kaplancı'"
      ]
     },
     "execution_count": 73,
     "metadata": {},
     "output_type": "execute_result"
    }
   ],
   "source": [
    "ad.capitalize()"
   ]
  },
  {
   "cell_type": "code",
   "execution_count": 74,
   "id": "c499cabd-b9c4-4fb4-bac2-90177f11be09",
   "metadata": {},
   "outputs": [
    {
     "data": {
      "text/plain": [
       "'batuhan Kaplancı'"
      ]
     },
     "execution_count": 74,
     "metadata": {},
     "output_type": "execute_result"
    }
   ],
   "source": [
    "ad"
   ]
  },
  {
   "cell_type": "code",
   "execution_count": 75,
   "id": "4ee02829-8d29-444d-bbcd-d420be9e253f",
   "metadata": {},
   "outputs": [
    {
     "data": {
      "text/plain": [
       "['batuhan', 'Kaplancı']"
      ]
     },
     "execution_count": 75,
     "metadata": {},
     "output_type": "execute_result"
    }
   ],
   "source": [
    "ad.split()"
   ]
  },
  {
   "cell_type": "code",
   "execution_count": 77,
   "id": "2696513e-7f1d-4eb6-90c7-6671a7c3164e",
   "metadata": {},
   "outputs": [
    {
     "data": {
      "text/plain": [
       "'BATUHAN KAPLANCI'"
      ]
     },
     "execution_count": 77,
     "metadata": {},
     "output_type": "execute_result"
    }
   ],
   "source": [
    "ad.upper()"
   ]
  },
  {
   "cell_type": "code",
   "execution_count": 78,
   "id": "2ba3d692-b96d-415d-8bca-4c04070c0dea",
   "metadata": {},
   "outputs": [
    {
     "data": {
      "text/plain": [
       "'batuhan Kaplancı'"
      ]
     },
     "execution_count": 78,
     "metadata": {},
     "output_type": "execute_result"
    }
   ],
   "source": [
    "ad"
   ]
  },
  {
   "cell_type": "code",
   "execution_count": 2,
   "id": "64afc399-9204-4a92-97e2-d30d019852e9",
   "metadata": {},
   "outputs": [
    {
     "name": "stdin",
     "output_type": "stream",
     "text": [
      "vize notunuzu giriniz:  44\n"
     ]
    }
   ],
   "source": [
    "a = int(input('vize notunuzu giriniz: '))\n"
   ]
  },
  {
   "cell_type": "code",
   "execution_count": null,
   "id": "db4e6a9e-4d78-46f0-8017-cdd07571ab5a",
   "metadata": {},
   "outputs": [],
   "source": []
  }
 ],
 "metadata": {
  "kernelspec": {
   "display_name": "Python 3 (ipykernel)",
   "language": "python",
   "name": "python3"
  },
  "language_info": {
   "codemirror_mode": {
    "name": "ipython",
    "version": 3
   },
   "file_extension": ".py",
   "mimetype": "text/x-python",
   "name": "python",
   "nbconvert_exporter": "python",
   "pygments_lexer": "ipython3",
   "version": "3.9.7"
  }
 },
 "nbformat": 4,
 "nbformat_minor": 5
}
