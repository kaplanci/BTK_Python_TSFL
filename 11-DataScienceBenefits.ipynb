{
 "cells": [
  {
   "cell_type": "code",
   "execution_count": 1,
   "id": "c2837a91-f089-4694-a367-277abe1a6e79",
   "metadata": {},
   "outputs": [],
   "source": [
    "MyList=[0,1,2,3,4,5]"
   ]
  },
  {
   "cell_type": "code",
   "execution_count": 2,
   "id": "38dcf5c8-4ba3-4cb5-85b3-0dabde581d12",
   "metadata": {},
   "outputs": [
    {
     "name": "stdout",
     "output_type": "stream",
     "text": [
      "0\n",
      "1\n",
      "2\n",
      "3\n",
      "4\n",
      "5\n"
     ]
    }
   ],
   "source": [
    "for numbers in MyList:\n",
    "    print(numbers)\n"
   ]
  },
  {
   "cell_type": "code",
   "execution_count": 14,
   "id": "4c0ffd3c-bcfa-4f8b-9567-896a3a0ae897",
   "metadata": {},
   "outputs": [
    {
     "data": {
      "text/plain": [
       "range(0, 15)"
      ]
     },
     "execution_count": 14,
     "metadata": {},
     "output_type": "execute_result"
    }
   ],
   "source": [
    "range(15)"
   ]
  },
  {
   "cell_type": "code",
   "execution_count": 4,
   "id": "ce9e7e9f-8c11-4281-a34a-78bab226872f",
   "metadata": {},
   "outputs": [
    {
     "data": {
      "text/plain": [
       "range(0, 0)"
      ]
     },
     "execution_count": 4,
     "metadata": {},
     "output_type": "execute_result"
    }
   ],
   "source": [
    "range(0)"
   ]
  },
  {
   "cell_type": "code",
   "execution_count": 18,
   "id": "2d326837-16c3-4c6d-897b-a198c0d88a4b",
   "metadata": {},
   "outputs": [
    {
     "data": {
      "text/plain": [
       "[1, 2, 3, 4, 5, 6, 7, 8, 9, 10, 11, 12, 13, 14]"
      ]
     },
     "execution_count": 18,
     "metadata": {},
     "output_type": "execute_result"
    }
   ],
   "source": [
    "list(range(1,15)) #güzel metod ralık ver liste çıkarsın\n",
    "        "
   ]
  },
  {
   "cell_type": "code",
   "execution_count": 21,
   "id": "21142556-dd6f-412e-a3c4-3b794340018c",
   "metadata": {},
   "outputs": [
    {
     "name": "stdout",
     "output_type": "stream",
     "text": [
      "0\n",
      "24\n",
      "48\n"
     ]
    }
   ],
   "source": [
    "for numbers in list(range(0,7,3)):\n",
    "    print(numbers*8)"
   ]
  },
  {
   "cell_type": "markdown",
   "id": "5b88bb38-7a18-4cb7-9cdd-9739f4f915a3",
   "metadata": {},
   "source": [
    "## enumerate"
   ]
  },
  {
   "cell_type": "code",
   "execution_count": 24,
   "id": "aebfb921-854f-4126-b61a-a73eee56e9d1",
   "metadata": {},
   "outputs": [
    {
     "name": "stdout",
     "output_type": "stream",
     "text": [
      "güncel numara: 5 güncel index 0 \n",
      "güncel numara: 8 güncel index 1 \n",
      "güncel numara: 11 güncel index 2 \n",
      "güncel numara: 14 güncel index 3 \n"
     ]
    }
   ],
   "source": [
    "index=0\n",
    "for numbers in list(range(5,15,3)):\n",
    "    print(f\"güncel numara: {numbers} güncel index {index} \")\n",
    "    index=index +1"
   ]
  },
  {
   "cell_type": "code",
   "execution_count": 25,
   "id": "bf4d5bd4-5244-4033-b2cc-a6d9eb82cb4c",
   "metadata": {},
   "outputs": [
    {
     "name": "stdout",
     "output_type": "stream",
     "text": [
      "(0, 5)\n",
      "(1, 8)\n",
      "(2, 11)\n",
      "(3, 14)\n"
     ]
    }
   ],
   "source": [
    "for num in enumerate(list(range(5,15,3))):\n",
    "    print(num)"
   ]
  },
  {
   "cell_type": "code",
   "execution_count": 28,
   "id": "a573235c-5e52-4206-961e-aa43508f4d0a",
   "metadata": {},
   "outputs": [
    {
     "name": "stdout",
     "output_type": "stream",
     "text": [
      "5\n",
      "8\n",
      "11\n",
      "14\n"
     ]
    }
   ],
   "source": [
    "for (index,numara) in enumerate(list(range(5,15,3))):\n",
    "    print(numara)"
   ]
  },
  {
   "cell_type": "markdown",
   "id": "b3a86682-9686-49ba-876c-7f76c60a285d",
   "metadata": {},
   "source": [
    "## random"
   ]
  },
  {
   "cell_type": "code",
   "execution_count": 29,
   "id": "83a0a6b5-cbd7-4878-90ff-f6c030871934",
   "metadata": {},
   "outputs": [],
   "source": [
    "from random import randint"
   ]
  },
  {
   "cell_type": "code",
   "execution_count": 34,
   "id": "ad7bedb3-148e-4f84-aa55-272ca40ff70a",
   "metadata": {},
   "outputs": [
    {
     "data": {
      "text/plain": [
       "9"
      ]
     },
     "execution_count": 34,
     "metadata": {},
     "output_type": "execute_result"
    }
   ],
   "source": [
    "randint(1,120)  #verilen aralıkta random sayı verir"
   ]
  },
  {
   "cell_type": "code",
   "execution_count": 35,
   "id": "7209d77f-8d4b-4b12-9248-63872618f8be",
   "metadata": {},
   "outputs": [],
   "source": [
    "MyList = list(range(0,10))"
   ]
  },
  {
   "cell_type": "code",
   "execution_count": 36,
   "id": "6c362d42-e0c3-44f3-9c45-7845b538c04d",
   "metadata": {},
   "outputs": [],
   "source": [
    "from random import shuffle"
   ]
  },
  {
   "cell_type": "code",
   "execution_count": 37,
   "id": "9b2983b7-ab50-41d6-8cac-c6495d5d2c73",
   "metadata": {},
   "outputs": [],
   "source": [
    "shuffle(MyList) #rastgele dağıttı"
   ]
  },
  {
   "cell_type": "code",
   "execution_count": 38,
   "id": "f9e34b0e-af5f-46a3-8dfc-c0c914aead7a",
   "metadata": {},
   "outputs": [
    {
     "data": {
      "text/plain": [
       "[9, 3, 8, 6, 5, 0, 7, 1, 4, 2]"
      ]
     },
     "execution_count": 38,
     "metadata": {},
     "output_type": "execute_result"
    }
   ],
   "source": [
    "MyList"
   ]
  },
  {
   "cell_type": "markdown",
   "id": "62128a6b-c1c1-4dfe-8740-6d1d2577211c",
   "metadata": {},
   "source": [
    "## zip"
   ]
  },
  {
   "cell_type": "code",
   "execution_count": 3,
   "id": "8b057c57-909f-47ba-a149-d014aa091520",
   "metadata": {},
   "outputs": [],
   "source": [
    "FoodList= [\"muz\",\"ananas\",\"elma\"]\n",
    "CalList =[100,200,300]\n",
    "DayList=[\"monday\",\"tuesday\",\"wednasday\"]"
   ]
  },
  {
   "cell_type": "code",
   "execution_count": 4,
   "id": "9b57b10a-62e1-467a-a62a-c00728dafae2",
   "metadata": {},
   "outputs": [
    {
     "data": {
      "text/plain": [
       "[('muz', 100, 'monday'),\n",
       " ('ananas', 200, 'tuesday'),\n",
       " ('elma', 300, 'wednasday')]"
      ]
     },
     "execution_count": 4,
     "metadata": {},
     "output_type": "execute_result"
    }
   ],
   "source": [
    "list(zip(FoodList,CalList,DayList))"
   ]
  },
  {
   "cell_type": "markdown",
   "id": "0c1e2cef-0eed-4dfe-948f-d2e3d28a182c",
   "metadata": {},
   "source": [
    "## Listeler İleri Seviye"
   ]
  },
  {
   "cell_type": "code",
   "execution_count": 24,
   "id": "4e96f5f6-d6e8-4e2e-a1a6-bb18e7643f6a",
   "metadata": {},
   "outputs": [],
   "source": [
    "MySecondList = [numara**5 for numara in list(range(0,10))]"
   ]
  },
  {
   "cell_type": "code",
   "execution_count": 25,
   "id": "bcd761ab-287b-4672-aafa-09016cc09676",
   "metadata": {},
   "outputs": [
    {
     "data": {
      "text/plain": [
       "[0, 1, 32, 243, 1024, 3125, 7776, 16807, 32768, 59049]"
      ]
     },
     "execution_count": 25,
     "metadata": {},
     "output_type": "execute_result"
    }
   ],
   "source": [
    "MySecondList"
   ]
  },
  {
   "cell_type": "code",
   "execution_count": null,
   "id": "b8830ed6-be91-48bc-a36e-01a124a131ff",
   "metadata": {},
   "outputs": [],
   "source": []
  }
 ],
 "metadata": {
  "kernelspec": {
   "display_name": "Python 3 (ipykernel)",
   "language": "python",
   "name": "python3"
  },
  "language_info": {
   "codemirror_mode": {
    "name": "ipython",
    "version": 3
   },
   "file_extension": ".py",
   "mimetype": "text/x-python",
   "name": "python",
   "nbconvert_exporter": "python",
   "pygments_lexer": "ipython3",
   "version": "3.9.7"
  }
 },
 "nbformat": 4,
 "nbformat_minor": 5
}
