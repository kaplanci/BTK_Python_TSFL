{
 "cells": [
  {
   "cell_type": "markdown",
   "id": "4bfd09c2-4985-4898-b6b5-0ba8baf3bc8f",
   "metadata": {},
   "source": [
    "## Scope"
   ]
  },
  {
   "cell_type": "code",
   "execution_count": 3,
   "id": "51ac5076-ec80-40ee-bf67-9bc36c562b3d",
   "metadata": {},
   "outputs": [],
   "source": [
    "numara = 20\n",
    "\n",
    "def carpma(rakam):\n",
    "    numara = 10\n",
    "    return numara*rakam"
   ]
  },
  {
   "cell_type": "code",
   "execution_count": 4,
   "id": "7d2cb6d8-8de8-454e-8915-53ee1a93df2c",
   "metadata": {},
   "outputs": [
    {
     "data": {
      "text/plain": [
       "50"
      ]
     },
     "execution_count": 4,
     "metadata": {},
     "output_type": "execute_result"
    }
   ],
   "source": [
    "carpma (5)"
   ]
  },
  {
   "cell_type": "code",
   "execution_count": 5,
   "id": "dc594f4d-21e2-49cc-af09-480eae7b214a",
   "metadata": {},
   "outputs": [
    {
     "name": "stdout",
     "output_type": "stream",
     "text": [
      "20\n"
     ]
    }
   ],
   "source": [
    "print(numara)"
   ]
  },
  {
   "cell_type": "markdown",
   "id": "b326100a-c167-44ce-82a2-670e72472653",
   "metadata": {},
   "source": [
    "## Local,Enclosing,Global,Built-In"
   ]
  },
  {
   "cell_type": "code",
   "execution_count": 10,
   "id": "3b7d31fc-7e50-4313-9124-9f2403a60363",
   "metadata": {},
   "outputs": [],
   "source": [
    "myName = \"batu\" #Global\n",
    "\n",
    "def myFu():\n",
    "    myName = \"memet\"\n",
    "    #Enclosing\n",
    "    def insFuc():\n",
    "        myName = \"Ayşe\"\n",
    "        #Local\n",
    "        print(myName)\n",
    "    insFuc()    "
   ]
  },
  {
   "cell_type": "code",
   "execution_count": 13,
   "id": "946b6e59-29a8-465a-a12c-ecae3a724e27",
   "metadata": {},
   "outputs": [
    {
     "name": "stdout",
     "output_type": "stream",
     "text": [
      "Ayşe\n"
     ]
    }
   ],
   "source": [
    "myFu()"
   ]
  },
  {
   "cell_type": "code",
   "execution_count": 15,
   "id": "a63de166-976d-4bc8-b246-32e9a98e694c",
   "metadata": {},
   "outputs": [
    {
     "name": "stdout",
     "output_type": "stream",
     "text": [
      "batu\n"
     ]
    }
   ],
   "source": [
    "print(myName)"
   ]
  },
  {
   "cell_type": "code",
   "execution_count": 16,
   "id": "3b216146-00b0-414d-9aa2-fe370059dddf",
   "metadata": {},
   "outputs": [],
   "source": [
    "y =10\n",
    "\n",
    "def newFunc(y):\n",
    "    print(y)\n",
    "    y=5\n",
    "    print(y)\n",
    "    return y"
   ]
  },
  {
   "cell_type": "code",
   "execution_count": 17,
   "id": "b0070688-fc62-48af-b8fc-89c84d88b9ba",
   "metadata": {},
   "outputs": [
    {
     "name": "stdout",
     "output_type": "stream",
     "text": [
      "3\n",
      "5\n"
     ]
    },
    {
     "data": {
      "text/plain": [
       "5"
      ]
     },
     "execution_count": 17,
     "metadata": {},
     "output_type": "execute_result"
    }
   ],
   "source": [
    "newFunc(3)"
   ]
  },
  {
   "cell_type": "code",
   "execution_count": 18,
   "id": "ea63cad1-9ee1-4c2d-9eec-c4f9767c5120",
   "metadata": {},
   "outputs": [
    {
     "data": {
      "text/plain": [
       "10"
      ]
     },
     "execution_count": 18,
     "metadata": {},
     "output_type": "execute_result"
    }
   ],
   "source": [
    "y\n"
   ]
  },
  {
   "cell_type": "code",
   "execution_count": 19,
   "id": "1e8a81b6-0d13-4931-9200-522eb78b2036",
   "metadata": {},
   "outputs": [
    {
     "name": "stdout",
     "output_type": "stream",
     "text": [
      "6\n",
      "5\n"
     ]
    }
   ],
   "source": [
    "y = newFunc(6)"
   ]
  },
  {
   "cell_type": "code",
   "execution_count": 20,
   "id": "1db5241d-5b8b-41c3-911e-ebfcde21d2b2",
   "metadata": {},
   "outputs": [
    {
     "data": {
      "text/plain": [
       "5"
      ]
     },
     "execution_count": 20,
     "metadata": {},
     "output_type": "execute_result"
    }
   ],
   "source": [
    "y\n"
   ]
  },
  {
   "cell_type": "code",
   "execution_count": 21,
   "id": "77ee5094-a7a1-4dd8-be09-df98af8b97fc",
   "metadata": {},
   "outputs": [],
   "source": [
    "y = 10\n",
    "\n",
    "def exf ():\n",
    "    global y\n",
    "    y = 5\n",
    "    print(y)"
   ]
  },
  {
   "cell_type": "code",
   "execution_count": 22,
   "id": "842b0c23-2afc-4361-a14e-8ef8326de4e8",
   "metadata": {},
   "outputs": [
    {
     "name": "stdout",
     "output_type": "stream",
     "text": [
      "5\n"
     ]
    }
   ],
   "source": [
    "exf()"
   ]
  },
  {
   "cell_type": "code",
   "execution_count": 23,
   "id": "7e373d62-0e6b-470d-905a-ffd65fefdca3",
   "metadata": {},
   "outputs": [
    {
     "data": {
      "text/plain": [
       "5"
      ]
     },
     "execution_count": 23,
     "metadata": {},
     "output_type": "execute_result"
    }
   ],
   "source": [
    "y"
   ]
  },
  {
   "cell_type": "code",
   "execution_count": null,
   "id": "d812858e-556f-4ad3-af54-96a203c510d2",
   "metadata": {},
   "outputs": [],
   "source": []
  }
 ],
 "metadata": {
  "kernelspec": {
   "display_name": "Python 3 (ipykernel)",
   "language": "python",
   "name": "python3"
  },
  "language_info": {
   "codemirror_mode": {
    "name": "ipython",
    "version": 3
   },
   "file_extension": ".py",
   "mimetype": "text/x-python",
   "name": "python",
   "nbconvert_exporter": "python",
   "pygments_lexer": "ipython3",
   "version": "3.9.7"
  }
 },
 "nbformat": 4,
 "nbformat_minor": 5
}
