{
 "cells": [
  {
   "cell_type": "code",
   "execution_count": 1,
   "id": "b7b510e1-4e0a-4859-8a77-f7cf688f9054",
   "metadata": {},
   "outputs": [],
   "source": [
    "import numpy as np\n",
    "import pandas as pd"
   ]
  },
  {
   "cell_type": "code",
   "execution_count": 2,
   "id": "1b1cb71e-5c54-4049-930e-8342253cb8e5",
   "metadata": {},
   "outputs": [],
   "source": [
    "data = np.random.randn(4,3) ## 4 tane sıra 3 kolodna oluşan dağılmış yapı getirir matrix yapısı"
   ]
  },
  {
   "cell_type": "code",
   "execution_count": 3,
   "id": "f80625aa-4c0c-4374-ac30-0c86b841e5d9",
   "metadata": {},
   "outputs": [
    {
     "data": {
      "text/plain": [
       "array([[-1.24033237, -1.00325992,  0.3623935 ],\n",
       "       [-0.1324108 ,  1.91829885,  0.41189903],\n",
       "       [-1.31115225,  0.47162712,  1.28686497],\n",
       "       [-0.37830132, -0.95883833,  1.32905929]])"
      ]
     },
     "execution_count": 3,
     "metadata": {},
     "output_type": "execute_result"
    }
   ],
   "source": [
    "data"
   ]
  },
  {
   "cell_type": "code",
   "execution_count": 4,
   "id": "9dc78b7c-32e5-4845-9235-0c7d2d16ca35",
   "metadata": {},
   "outputs": [],
   "source": [
    "dataFrame = pd.DataFrame(data)"
   ]
  },
  {
   "cell_type": "code",
   "execution_count": 5,
   "id": "1df8448b-ad42-4214-9c09-0fc484149a1b",
   "metadata": {},
   "outputs": [
    {
     "data": {
      "text/plain": [
       "0   -1.240332\n",
       "1   -0.132411\n",
       "2   -1.311152\n",
       "3   -0.378301\n",
       "Name: 0, dtype: float64"
      ]
     },
     "execution_count": 5,
     "metadata": {},
     "output_type": "execute_result"
    }
   ],
   "source": [
    "dataFrame[0]  ##kolon olrak karşımıza getiriyor not row"
   ]
  },
  {
   "cell_type": "code",
   "execution_count": 6,
   "id": "7e1fb3db-98cf-4850-b12c-138eb837fca2",
   "metadata": {},
   "outputs": [
    {
     "data": {
      "text/html": [
       "<div>\n",
       "<style scoped>\n",
       "    .dataframe tbody tr th:only-of-type {\n",
       "        vertical-align: middle;\n",
       "    }\n",
       "\n",
       "    .dataframe tbody tr th {\n",
       "        vertical-align: top;\n",
       "    }\n",
       "\n",
       "    .dataframe thead th {\n",
       "        text-align: right;\n",
       "    }\n",
       "</style>\n",
       "<table border=\"1\" class=\"dataframe\">\n",
       "  <thead>\n",
       "    <tr style=\"text-align: right;\">\n",
       "      <th></th>\n",
       "      <th>0</th>\n",
       "      <th>1</th>\n",
       "      <th>2</th>\n",
       "    </tr>\n",
       "  </thead>\n",
       "  <tbody>\n",
       "    <tr>\n",
       "      <th>0</th>\n",
       "      <td>-1.240332</td>\n",
       "      <td>-1.003260</td>\n",
       "      <td>0.362393</td>\n",
       "    </tr>\n",
       "    <tr>\n",
       "      <th>1</th>\n",
       "      <td>-0.132411</td>\n",
       "      <td>1.918299</td>\n",
       "      <td>0.411899</td>\n",
       "    </tr>\n",
       "    <tr>\n",
       "      <th>2</th>\n",
       "      <td>-1.311152</td>\n",
       "      <td>0.471627</td>\n",
       "      <td>1.286865</td>\n",
       "    </tr>\n",
       "    <tr>\n",
       "      <th>3</th>\n",
       "      <td>-0.378301</td>\n",
       "      <td>-0.958838</td>\n",
       "      <td>1.329059</td>\n",
       "    </tr>\n",
       "  </tbody>\n",
       "</table>\n",
       "</div>"
      ],
      "text/plain": [
       "          0         1         2\n",
       "0 -1.240332 -1.003260  0.362393\n",
       "1 -0.132411  1.918299  0.411899\n",
       "2 -1.311152  0.471627  1.286865\n",
       "3 -0.378301 -0.958838  1.329059"
      ]
     },
     "execution_count": 6,
     "metadata": {},
     "output_type": "execute_result"
    }
   ],
   "source": [
    "dataFrame"
   ]
  },
  {
   "cell_type": "code",
   "execution_count": 7,
   "id": "020824d7-c24d-4ad6-bbe8-dda90b54ac4d",
   "metadata": {},
   "outputs": [],
   "source": [
    "yeniDataFrame= pd.DataFrame(data,index=[\"batu\",\"sülo\",\"kel\",\"merdo\"],columns=[\"Maas\",\"Yas\",\"Calisma saati\"])"
   ]
  },
  {
   "cell_type": "code",
   "execution_count": 8,
   "id": "cb4ceb5e-af20-49bf-8e8a-4221372ca13a",
   "metadata": {},
   "outputs": [
    {
     "data": {
      "text/html": [
       "<div>\n",
       "<style scoped>\n",
       "    .dataframe tbody tr th:only-of-type {\n",
       "        vertical-align: middle;\n",
       "    }\n",
       "\n",
       "    .dataframe tbody tr th {\n",
       "        vertical-align: top;\n",
       "    }\n",
       "\n",
       "    .dataframe thead th {\n",
       "        text-align: right;\n",
       "    }\n",
       "</style>\n",
       "<table border=\"1\" class=\"dataframe\">\n",
       "  <thead>\n",
       "    <tr style=\"text-align: right;\">\n",
       "      <th></th>\n",
       "      <th>Maas</th>\n",
       "      <th>Yas</th>\n",
       "      <th>Calisma saati</th>\n",
       "    </tr>\n",
       "  </thead>\n",
       "  <tbody>\n",
       "    <tr>\n",
       "      <th>batu</th>\n",
       "      <td>-1.240332</td>\n",
       "      <td>-1.003260</td>\n",
       "      <td>0.362393</td>\n",
       "    </tr>\n",
       "    <tr>\n",
       "      <th>sülo</th>\n",
       "      <td>-0.132411</td>\n",
       "      <td>1.918299</td>\n",
       "      <td>0.411899</td>\n",
       "    </tr>\n",
       "    <tr>\n",
       "      <th>kel</th>\n",
       "      <td>-1.311152</td>\n",
       "      <td>0.471627</td>\n",
       "      <td>1.286865</td>\n",
       "    </tr>\n",
       "    <tr>\n",
       "      <th>merdo</th>\n",
       "      <td>-0.378301</td>\n",
       "      <td>-0.958838</td>\n",
       "      <td>1.329059</td>\n",
       "    </tr>\n",
       "  </tbody>\n",
       "</table>\n",
       "</div>"
      ],
      "text/plain": [
       "           Maas       Yas  Calisma saati\n",
       "batu  -1.240332 -1.003260       0.362393\n",
       "sülo  -0.132411  1.918299       0.411899\n",
       "kel   -1.311152  0.471627       1.286865\n",
       "merdo -0.378301 -0.958838       1.329059"
      ]
     },
     "execution_count": 8,
     "metadata": {},
     "output_type": "execute_result"
    }
   ],
   "source": [
    "yeniDataFrame"
   ]
  },
  {
   "cell_type": "code",
   "execution_count": 9,
   "id": "2f05e600-59f5-4c63-8675-3a2877248bd0",
   "metadata": {},
   "outputs": [
    {
     "data": {
      "text/plain": [
       "batu    -1.003260\n",
       "sülo     1.918299\n",
       "kel      0.471627\n",
       "merdo   -0.958838\n",
       "Name: Yas, dtype: float64"
      ]
     },
     "execution_count": 9,
     "metadata": {},
     "output_type": "execute_result"
    }
   ],
   "source": [
    "yeniDataFrame[\"Yas\"]"
   ]
  },
  {
   "cell_type": "code",
   "execution_count": 10,
   "id": "74a9f597-8b6d-4f12-8312-9bfe178ccd01",
   "metadata": {},
   "outputs": [
    {
     "data": {
      "text/plain": [
       "batu     0.362393\n",
       "sülo     0.411899\n",
       "kel      1.286865\n",
       "merdo    1.329059\n",
       "Name: Calisma saati, dtype: float64"
      ]
     },
     "execution_count": 10,
     "metadata": {},
     "output_type": "execute_result"
    }
   ],
   "source": [
    "yeniDataFrame[\"Calisma saati\"]"
   ]
  },
  {
   "cell_type": "code",
   "execution_count": 11,
   "id": "9f711d6e-729e-46e1-98ad-ceef7080ca9b",
   "metadata": {},
   "outputs": [
    {
     "data": {
      "text/html": [
       "<div>\n",
       "<style scoped>\n",
       "    .dataframe tbody tr th:only-of-type {\n",
       "        vertical-align: middle;\n",
       "    }\n",
       "\n",
       "    .dataframe tbody tr th {\n",
       "        vertical-align: top;\n",
       "    }\n",
       "\n",
       "    .dataframe thead th {\n",
       "        text-align: right;\n",
       "    }\n",
       "</style>\n",
       "<table border=\"1\" class=\"dataframe\">\n",
       "  <thead>\n",
       "    <tr style=\"text-align: right;\">\n",
       "      <th></th>\n",
       "      <th>Maas</th>\n",
       "      <th>Yas</th>\n",
       "      <th>Calisma saati</th>\n",
       "    </tr>\n",
       "  </thead>\n",
       "  <tbody>\n",
       "    <tr>\n",
       "      <th>batu</th>\n",
       "      <td>-1.240332</td>\n",
       "      <td>-1.003260</td>\n",
       "      <td>0.362393</td>\n",
       "    </tr>\n",
       "    <tr>\n",
       "      <th>sülo</th>\n",
       "      <td>-0.132411</td>\n",
       "      <td>1.918299</td>\n",
       "      <td>0.411899</td>\n",
       "    </tr>\n",
       "    <tr>\n",
       "      <th>kel</th>\n",
       "      <td>-1.311152</td>\n",
       "      <td>0.471627</td>\n",
       "      <td>1.286865</td>\n",
       "    </tr>\n",
       "    <tr>\n",
       "      <th>merdo</th>\n",
       "      <td>-0.378301</td>\n",
       "      <td>-0.958838</td>\n",
       "      <td>1.329059</td>\n",
       "    </tr>\n",
       "  </tbody>\n",
       "</table>\n",
       "</div>"
      ],
      "text/plain": [
       "           Maas       Yas  Calisma saati\n",
       "batu  -1.240332 -1.003260       0.362393\n",
       "sülo  -0.132411  1.918299       0.411899\n",
       "kel   -1.311152  0.471627       1.286865\n",
       "merdo -0.378301 -0.958838       1.329059"
      ]
     },
     "execution_count": 11,
     "metadata": {},
     "output_type": "execute_result"
    }
   ],
   "source": [
    "yeniDataFrame"
   ]
  },
  {
   "cell_type": "code",
   "execution_count": 12,
   "id": "5733e6ee-4c78-4c27-92ef-1113c0a74ebe",
   "metadata": {},
   "outputs": [
    {
     "data": {
      "text/html": [
       "<div>\n",
       "<style scoped>\n",
       "    .dataframe tbody tr th:only-of-type {\n",
       "        vertical-align: middle;\n",
       "    }\n",
       "\n",
       "    .dataframe tbody tr th {\n",
       "        vertical-align: top;\n",
       "    }\n",
       "\n",
       "    .dataframe thead th {\n",
       "        text-align: right;\n",
       "    }\n",
       "</style>\n",
       "<table border=\"1\" class=\"dataframe\">\n",
       "  <thead>\n",
       "    <tr style=\"text-align: right;\">\n",
       "      <th></th>\n",
       "      <th>Maas</th>\n",
       "      <th>Yas</th>\n",
       "    </tr>\n",
       "  </thead>\n",
       "  <tbody>\n",
       "    <tr>\n",
       "      <th>batu</th>\n",
       "      <td>-1.240332</td>\n",
       "      <td>-1.003260</td>\n",
       "    </tr>\n",
       "    <tr>\n",
       "      <th>sülo</th>\n",
       "      <td>-0.132411</td>\n",
       "      <td>1.918299</td>\n",
       "    </tr>\n",
       "    <tr>\n",
       "      <th>kel</th>\n",
       "      <td>-1.311152</td>\n",
       "      <td>0.471627</td>\n",
       "    </tr>\n",
       "    <tr>\n",
       "      <th>merdo</th>\n",
       "      <td>-0.378301</td>\n",
       "      <td>-0.958838</td>\n",
       "    </tr>\n",
       "  </tbody>\n",
       "</table>\n",
       "</div>"
      ],
      "text/plain": [
       "           Maas       Yas\n",
       "batu  -1.240332 -1.003260\n",
       "sülo  -0.132411  1.918299\n",
       "kel   -1.311152  0.471627\n",
       "merdo -0.378301 -0.958838"
      ]
     },
     "execution_count": 12,
     "metadata": {},
     "output_type": "execute_result"
    }
   ],
   "source": [
    "yeniDataFrame [[\"Maas\",\"Yas\"]]"
   ]
  },
  {
   "cell_type": "code",
   "execution_count": 13,
   "id": "2e08c390-61af-48c2-8b87-432584c09446",
   "metadata": {},
   "outputs": [
    {
     "data": {
      "text/html": [
       "<div>\n",
       "<style scoped>\n",
       "    .dataframe tbody tr th:only-of-type {\n",
       "        vertical-align: middle;\n",
       "    }\n",
       "\n",
       "    .dataframe tbody tr th {\n",
       "        vertical-align: top;\n",
       "    }\n",
       "\n",
       "    .dataframe thead th {\n",
       "        text-align: right;\n",
       "    }\n",
       "</style>\n",
       "<table border=\"1\" class=\"dataframe\">\n",
       "  <thead>\n",
       "    <tr style=\"text-align: right;\">\n",
       "      <th></th>\n",
       "      <th>Maas</th>\n",
       "      <th>Yas</th>\n",
       "      <th>Calisma saati</th>\n",
       "    </tr>\n",
       "  </thead>\n",
       "  <tbody>\n",
       "    <tr>\n",
       "      <th>batu</th>\n",
       "      <td>-1.240332</td>\n",
       "      <td>-1.003260</td>\n",
       "      <td>0.362393</td>\n",
       "    </tr>\n",
       "    <tr>\n",
       "      <th>sülo</th>\n",
       "      <td>-0.132411</td>\n",
       "      <td>1.918299</td>\n",
       "      <td>0.411899</td>\n",
       "    </tr>\n",
       "    <tr>\n",
       "      <th>kel</th>\n",
       "      <td>-1.311152</td>\n",
       "      <td>0.471627</td>\n",
       "      <td>1.286865</td>\n",
       "    </tr>\n",
       "    <tr>\n",
       "      <th>merdo</th>\n",
       "      <td>-0.378301</td>\n",
       "      <td>-0.958838</td>\n",
       "      <td>1.329059</td>\n",
       "    </tr>\n",
       "  </tbody>\n",
       "</table>\n",
       "</div>"
      ],
      "text/plain": [
       "           Maas       Yas  Calisma saati\n",
       "batu  -1.240332 -1.003260       0.362393\n",
       "sülo  -0.132411  1.918299       0.411899\n",
       "kel   -1.311152  0.471627       1.286865\n",
       "merdo -0.378301 -0.958838       1.329059"
      ]
     },
     "execution_count": 13,
     "metadata": {},
     "output_type": "execute_result"
    }
   ],
   "source": [
    "yeniDataFrame"
   ]
  },
  {
   "cell_type": "code",
   "execution_count": 14,
   "id": "5766d1d7-d747-4dfa-be6c-17e5be258207",
   "metadata": {},
   "outputs": [
    {
     "data": {
      "text/plain": [
       "Maas            -1.240332\n",
       "Yas             -1.003260\n",
       "Calisma saati    0.362393\n",
       "Name: batu, dtype: float64"
      ]
     },
     "execution_count": 14,
     "metadata": {},
     "output_type": "execute_result"
    }
   ],
   "source": [
    "yeniDataFrame.loc [ \"batu\"]"
   ]
  },
  {
   "cell_type": "code",
   "execution_count": 15,
   "id": "c2f9ef31-876e-44ed-b579-d889fc063252",
   "metadata": {},
   "outputs": [
    {
     "data": {
      "text/plain": [
       "Maas            -0.132411\n",
       "Yas              1.918299\n",
       "Calisma saati    0.411899\n",
       "Name: sülo, dtype: float64"
      ]
     },
     "execution_count": 15,
     "metadata": {},
     "output_type": "execute_result"
    }
   ],
   "source": [
    "yeniDataFrame.loc[\"sülo\"]"
   ]
  },
  {
   "cell_type": "code",
   "execution_count": 16,
   "id": "956d1867-8fbe-4dbb-80d9-6d60eef1f916",
   "metadata": {},
   "outputs": [
    {
     "data": {
      "text/plain": [
       "Maas            -0.132411\n",
       "Yas              1.918299\n",
       "Calisma saati    0.411899\n",
       "Name: sülo, dtype: float64"
      ]
     },
     "execution_count": 16,
     "metadata": {},
     "output_type": "execute_result"
    }
   ],
   "source": [
    "yeniDataFrame.iloc[1]"
   ]
  },
  {
   "cell_type": "code",
   "execution_count": 17,
   "id": "c781b2d5-747c-4d90-9f77-68cf833d0e3a",
   "metadata": {},
   "outputs": [
    {
     "data": {
      "text/plain": [
       "Maas            -1.240332\n",
       "Yas             -1.003260\n",
       "Calisma saati    0.362393\n",
       "Name: batu, dtype: float64"
      ]
     },
     "execution_count": 17,
     "metadata": {},
     "output_type": "execute_result"
    }
   ],
   "source": [
    "yeniDataFrame.iloc[0]"
   ]
  },
  {
   "cell_type": "code",
   "execution_count": 18,
   "id": "b4bc7ef9-6d4a-4321-888c-5582281aceac",
   "metadata": {},
   "outputs": [
    {
     "data": {
      "text/html": [
       "<div>\n",
       "<style scoped>\n",
       "    .dataframe tbody tr th:only-of-type {\n",
       "        vertical-align: middle;\n",
       "    }\n",
       "\n",
       "    .dataframe tbody tr th {\n",
       "        vertical-align: top;\n",
       "    }\n",
       "\n",
       "    .dataframe thead th {\n",
       "        text-align: right;\n",
       "    }\n",
       "</style>\n",
       "<table border=\"1\" class=\"dataframe\">\n",
       "  <thead>\n",
       "    <tr style=\"text-align: right;\">\n",
       "      <th></th>\n",
       "      <th>Maas</th>\n",
       "      <th>Yas</th>\n",
       "      <th>Calisma saati</th>\n",
       "    </tr>\n",
       "  </thead>\n",
       "  <tbody>\n",
       "    <tr>\n",
       "      <th>batu</th>\n",
       "      <td>-1.240332</td>\n",
       "      <td>-1.003260</td>\n",
       "      <td>0.362393</td>\n",
       "    </tr>\n",
       "    <tr>\n",
       "      <th>sülo</th>\n",
       "      <td>-0.132411</td>\n",
       "      <td>1.918299</td>\n",
       "      <td>0.411899</td>\n",
       "    </tr>\n",
       "    <tr>\n",
       "      <th>kel</th>\n",
       "      <td>-1.311152</td>\n",
       "      <td>0.471627</td>\n",
       "      <td>1.286865</td>\n",
       "    </tr>\n",
       "    <tr>\n",
       "      <th>merdo</th>\n",
       "      <td>-0.378301</td>\n",
       "      <td>-0.958838</td>\n",
       "      <td>1.329059</td>\n",
       "    </tr>\n",
       "  </tbody>\n",
       "</table>\n",
       "</div>"
      ],
      "text/plain": [
       "           Maas       Yas  Calisma saati\n",
       "batu  -1.240332 -1.003260       0.362393\n",
       "sülo  -0.132411  1.918299       0.411899\n",
       "kel   -1.311152  0.471627       1.286865\n",
       "merdo -0.378301 -0.958838       1.329059"
      ]
     },
     "execution_count": 18,
     "metadata": {},
     "output_type": "execute_result"
    }
   ],
   "source": [
    "yeniDataFrame"
   ]
  },
  {
   "cell_type": "code",
   "execution_count": 19,
   "id": "a707c7d3-b25a-452e-a1a2-c79efe97c413",
   "metadata": {},
   "outputs": [],
   "source": [
    "yeniDataFrame[\"Emeklilik\"] = yeniDataFrame[\"Yas\"] + yeniDataFrame[\"Yas\"]"
   ]
  },
  {
   "cell_type": "code",
   "execution_count": 20,
   "id": "116e3611-f3bf-4204-9393-5ba4ab8f9353",
   "metadata": {},
   "outputs": [
    {
     "data": {
      "text/html": [
       "<div>\n",
       "<style scoped>\n",
       "    .dataframe tbody tr th:only-of-type {\n",
       "        vertical-align: middle;\n",
       "    }\n",
       "\n",
       "    .dataframe tbody tr th {\n",
       "        vertical-align: top;\n",
       "    }\n",
       "\n",
       "    .dataframe thead th {\n",
       "        text-align: right;\n",
       "    }\n",
       "</style>\n",
       "<table border=\"1\" class=\"dataframe\">\n",
       "  <thead>\n",
       "    <tr style=\"text-align: right;\">\n",
       "      <th></th>\n",
       "      <th>Maas</th>\n",
       "      <th>Yas</th>\n",
       "      <th>Calisma saati</th>\n",
       "      <th>Emeklilik</th>\n",
       "    </tr>\n",
       "  </thead>\n",
       "  <tbody>\n",
       "    <tr>\n",
       "      <th>batu</th>\n",
       "      <td>-1.240332</td>\n",
       "      <td>-1.003260</td>\n",
       "      <td>0.362393</td>\n",
       "      <td>-2.006520</td>\n",
       "    </tr>\n",
       "    <tr>\n",
       "      <th>sülo</th>\n",
       "      <td>-0.132411</td>\n",
       "      <td>1.918299</td>\n",
       "      <td>0.411899</td>\n",
       "      <td>3.836598</td>\n",
       "    </tr>\n",
       "    <tr>\n",
       "      <th>kel</th>\n",
       "      <td>-1.311152</td>\n",
       "      <td>0.471627</td>\n",
       "      <td>1.286865</td>\n",
       "      <td>0.943254</td>\n",
       "    </tr>\n",
       "    <tr>\n",
       "      <th>merdo</th>\n",
       "      <td>-0.378301</td>\n",
       "      <td>-0.958838</td>\n",
       "      <td>1.329059</td>\n",
       "      <td>-1.917677</td>\n",
       "    </tr>\n",
       "  </tbody>\n",
       "</table>\n",
       "</div>"
      ],
      "text/plain": [
       "           Maas       Yas  Calisma saati  Emeklilik\n",
       "batu  -1.240332 -1.003260       0.362393  -2.006520\n",
       "sülo  -0.132411  1.918299       0.411899   3.836598\n",
       "kel   -1.311152  0.471627       1.286865   0.943254\n",
       "merdo -0.378301 -0.958838       1.329059  -1.917677"
      ]
     },
     "execution_count": 20,
     "metadata": {},
     "output_type": "execute_result"
    }
   ],
   "source": [
    "yeniDataFrame"
   ]
  },
  {
   "cell_type": "code",
   "execution_count": 21,
   "id": "0de6ef5a-70e1-46b7-ba80-187fc5c453cc",
   "metadata": {},
   "outputs": [
    {
     "data": {
      "text/html": [
       "<div>\n",
       "<style scoped>\n",
       "    .dataframe tbody tr th:only-of-type {\n",
       "        vertical-align: middle;\n",
       "    }\n",
       "\n",
       "    .dataframe tbody tr th {\n",
       "        vertical-align: top;\n",
       "    }\n",
       "\n",
       "    .dataframe thead th {\n",
       "        text-align: right;\n",
       "    }\n",
       "</style>\n",
       "<table border=\"1\" class=\"dataframe\">\n",
       "  <thead>\n",
       "    <tr style=\"text-align: right;\">\n",
       "      <th></th>\n",
       "      <th>Maas</th>\n",
       "      <th>Yas</th>\n",
       "      <th>Calisma saati</th>\n",
       "    </tr>\n",
       "  </thead>\n",
       "  <tbody>\n",
       "    <tr>\n",
       "      <th>batu</th>\n",
       "      <td>-1.240332</td>\n",
       "      <td>-1.003260</td>\n",
       "      <td>0.362393</td>\n",
       "    </tr>\n",
       "    <tr>\n",
       "      <th>sülo</th>\n",
       "      <td>-0.132411</td>\n",
       "      <td>1.918299</td>\n",
       "      <td>0.411899</td>\n",
       "    </tr>\n",
       "    <tr>\n",
       "      <th>kel</th>\n",
       "      <td>-1.311152</td>\n",
       "      <td>0.471627</td>\n",
       "      <td>1.286865</td>\n",
       "    </tr>\n",
       "    <tr>\n",
       "      <th>merdo</th>\n",
       "      <td>-0.378301</td>\n",
       "      <td>-0.958838</td>\n",
       "      <td>1.329059</td>\n",
       "    </tr>\n",
       "  </tbody>\n",
       "</table>\n",
       "</div>"
      ],
      "text/plain": [
       "           Maas       Yas  Calisma saati\n",
       "batu  -1.240332 -1.003260       0.362393\n",
       "sülo  -0.132411  1.918299       0.411899\n",
       "kel   -1.311152  0.471627       1.286865\n",
       "merdo -0.378301 -0.958838       1.329059"
      ]
     },
     "execution_count": 21,
     "metadata": {},
     "output_type": "execute_result"
    }
   ],
   "source": [
    "\n",
    "yeniDataFrame.drop(\"Emeklilik\",axis=1)"
   ]
  },
  {
   "cell_type": "code",
   "execution_count": 22,
   "id": "f1de6d06-a1f5-4813-80da-df3bd8b65ddd",
   "metadata": {},
   "outputs": [
    {
     "data": {
      "text/html": [
       "<div>\n",
       "<style scoped>\n",
       "    .dataframe tbody tr th:only-of-type {\n",
       "        vertical-align: middle;\n",
       "    }\n",
       "\n",
       "    .dataframe tbody tr th {\n",
       "        vertical-align: top;\n",
       "    }\n",
       "\n",
       "    .dataframe thead th {\n",
       "        text-align: right;\n",
       "    }\n",
       "</style>\n",
       "<table border=\"1\" class=\"dataframe\">\n",
       "  <thead>\n",
       "    <tr style=\"text-align: right;\">\n",
       "      <th></th>\n",
       "      <th>Maas</th>\n",
       "      <th>Yas</th>\n",
       "      <th>Calisma saati</th>\n",
       "      <th>Emeklilik</th>\n",
       "    </tr>\n",
       "  </thead>\n",
       "  <tbody>\n",
       "    <tr>\n",
       "      <th>batu</th>\n",
       "      <td>-1.240332</td>\n",
       "      <td>-1.003260</td>\n",
       "      <td>0.362393</td>\n",
       "      <td>-2.006520</td>\n",
       "    </tr>\n",
       "    <tr>\n",
       "      <th>sülo</th>\n",
       "      <td>-0.132411</td>\n",
       "      <td>1.918299</td>\n",
       "      <td>0.411899</td>\n",
       "      <td>3.836598</td>\n",
       "    </tr>\n",
       "    <tr>\n",
       "      <th>merdo</th>\n",
       "      <td>-0.378301</td>\n",
       "      <td>-0.958838</td>\n",
       "      <td>1.329059</td>\n",
       "      <td>-1.917677</td>\n",
       "    </tr>\n",
       "  </tbody>\n",
       "</table>\n",
       "</div>"
      ],
      "text/plain": [
       "           Maas       Yas  Calisma saati  Emeklilik\n",
       "batu  -1.240332 -1.003260       0.362393  -2.006520\n",
       "sülo  -0.132411  1.918299       0.411899   3.836598\n",
       "merdo -0.378301 -0.958838       1.329059  -1.917677"
      ]
     },
     "execution_count": 22,
     "metadata": {},
     "output_type": "execute_result"
    }
   ],
   "source": [
    "yeniDataFrame.drop(\"kel\",axis=0)"
   ]
  },
  {
   "cell_type": "code",
   "execution_count": 23,
   "id": "3909fdfb-192d-49fe-96fe-8d057d9dafd7",
   "metadata": {},
   "outputs": [
    {
     "data": {
      "text/html": [
       "<div>\n",
       "<style scoped>\n",
       "    .dataframe tbody tr th:only-of-type {\n",
       "        vertical-align: middle;\n",
       "    }\n",
       "\n",
       "    .dataframe tbody tr th {\n",
       "        vertical-align: top;\n",
       "    }\n",
       "\n",
       "    .dataframe thead th {\n",
       "        text-align: right;\n",
       "    }\n",
       "</style>\n",
       "<table border=\"1\" class=\"dataframe\">\n",
       "  <thead>\n",
       "    <tr style=\"text-align: right;\">\n",
       "      <th></th>\n",
       "      <th>Maas</th>\n",
       "      <th>Yas</th>\n",
       "      <th>Calisma saati</th>\n",
       "      <th>Emeklilik</th>\n",
       "    </tr>\n",
       "  </thead>\n",
       "  <tbody>\n",
       "    <tr>\n",
       "      <th>batu</th>\n",
       "      <td>-1.240332</td>\n",
       "      <td>-1.003260</td>\n",
       "      <td>0.362393</td>\n",
       "      <td>-2.006520</td>\n",
       "    </tr>\n",
       "    <tr>\n",
       "      <th>sülo</th>\n",
       "      <td>-0.132411</td>\n",
       "      <td>1.918299</td>\n",
       "      <td>0.411899</td>\n",
       "      <td>3.836598</td>\n",
       "    </tr>\n",
       "    <tr>\n",
       "      <th>kel</th>\n",
       "      <td>-1.311152</td>\n",
       "      <td>0.471627</td>\n",
       "      <td>1.286865</td>\n",
       "      <td>0.943254</td>\n",
       "    </tr>\n",
       "    <tr>\n",
       "      <th>merdo</th>\n",
       "      <td>-0.378301</td>\n",
       "      <td>-0.958838</td>\n",
       "      <td>1.329059</td>\n",
       "      <td>-1.917677</td>\n",
       "    </tr>\n",
       "  </tbody>\n",
       "</table>\n",
       "</div>"
      ],
      "text/plain": [
       "           Maas       Yas  Calisma saati  Emeklilik\n",
       "batu  -1.240332 -1.003260       0.362393  -2.006520\n",
       "sülo  -0.132411  1.918299       0.411899   3.836598\n",
       "kel   -1.311152  0.471627       1.286865   0.943254\n",
       "merdo -0.378301 -0.958838       1.329059  -1.917677"
      ]
     },
     "execution_count": 23,
     "metadata": {},
     "output_type": "execute_result"
    }
   ],
   "source": [
    "yeniDataFrame\n"
   ]
  },
  {
   "cell_type": "code",
   "execution_count": 24,
   "id": "458c9407-20e7-4cc4-b80d-5225cd9613e2",
   "metadata": {},
   "outputs": [],
   "source": [
    "yeniDataFrame.drop(\"Emeklilik\",axis = 1,inplace = True)  ##inplace true komutuyla datamızı kendisinden ssildik!!!!!"
   ]
  },
  {
   "cell_type": "code",
   "execution_count": 25,
   "id": "97133616-d8c6-422d-a21d-ec0875210b0f",
   "metadata": {},
   "outputs": [
    {
     "data": {
      "text/html": [
       "<div>\n",
       "<style scoped>\n",
       "    .dataframe tbody tr th:only-of-type {\n",
       "        vertical-align: middle;\n",
       "    }\n",
       "\n",
       "    .dataframe tbody tr th {\n",
       "        vertical-align: top;\n",
       "    }\n",
       "\n",
       "    .dataframe thead th {\n",
       "        text-align: right;\n",
       "    }\n",
       "</style>\n",
       "<table border=\"1\" class=\"dataframe\">\n",
       "  <thead>\n",
       "    <tr style=\"text-align: right;\">\n",
       "      <th></th>\n",
       "      <th>Maas</th>\n",
       "      <th>Yas</th>\n",
       "      <th>Calisma saati</th>\n",
       "    </tr>\n",
       "  </thead>\n",
       "  <tbody>\n",
       "    <tr>\n",
       "      <th>batu</th>\n",
       "      <td>-1.240332</td>\n",
       "      <td>-1.003260</td>\n",
       "      <td>0.362393</td>\n",
       "    </tr>\n",
       "    <tr>\n",
       "      <th>sülo</th>\n",
       "      <td>-0.132411</td>\n",
       "      <td>1.918299</td>\n",
       "      <td>0.411899</td>\n",
       "    </tr>\n",
       "    <tr>\n",
       "      <th>kel</th>\n",
       "      <td>-1.311152</td>\n",
       "      <td>0.471627</td>\n",
       "      <td>1.286865</td>\n",
       "    </tr>\n",
       "    <tr>\n",
       "      <th>merdo</th>\n",
       "      <td>-0.378301</td>\n",
       "      <td>-0.958838</td>\n",
       "      <td>1.329059</td>\n",
       "    </tr>\n",
       "  </tbody>\n",
       "</table>\n",
       "</div>"
      ],
      "text/plain": [
       "           Maas       Yas  Calisma saati\n",
       "batu  -1.240332 -1.003260       0.362393\n",
       "sülo  -0.132411  1.918299       0.411899\n",
       "kel   -1.311152  0.471627       1.286865\n",
       "merdo -0.378301 -0.958838       1.329059"
      ]
     },
     "execution_count": 25,
     "metadata": {},
     "output_type": "execute_result"
    }
   ],
   "source": [
    "yeniDataFrame"
   ]
  },
  {
   "cell_type": "code",
   "execution_count": 26,
   "id": "e05f90cf-f7a1-4d4c-8d91-375c56917923",
   "metadata": {},
   "outputs": [
    {
     "data": {
      "text/plain": [
       "0.4716271245212391"
      ]
     },
     "execution_count": 26,
     "metadata": {},
     "output_type": "execute_result"
    }
   ],
   "source": [
    "yeniDataFrame.loc[\"kel\",\"Yas\"]"
   ]
  },
  {
   "cell_type": "code",
   "execution_count": 27,
   "id": "3ad064c6-9a1d-47b4-9c15-6f005e304721",
   "metadata": {},
   "outputs": [
    {
     "data": {
      "text/plain": [
       "0.4716271245212391"
      ]
     },
     "execution_count": 27,
     "metadata": {},
     "output_type": "execute_result"
    }
   ],
   "source": [
    "yeniDataFrame.loc[\"kel\"][\"Yas\"]"
   ]
  },
  {
   "cell_type": "code",
   "execution_count": 28,
   "id": "5734f64e-1a8a-4f20-a874-47b62623c113",
   "metadata": {},
   "outputs": [
    {
     "data": {
      "text/html": [
       "<div>\n",
       "<style scoped>\n",
       "    .dataframe tbody tr th:only-of-type {\n",
       "        vertical-align: middle;\n",
       "    }\n",
       "\n",
       "    .dataframe tbody tr th {\n",
       "        vertical-align: top;\n",
       "    }\n",
       "\n",
       "    .dataframe thead th {\n",
       "        text-align: right;\n",
       "    }\n",
       "</style>\n",
       "<table border=\"1\" class=\"dataframe\">\n",
       "  <thead>\n",
       "    <tr style=\"text-align: right;\">\n",
       "      <th></th>\n",
       "      <th>Maas</th>\n",
       "      <th>Yas</th>\n",
       "      <th>Calisma saati</th>\n",
       "    </tr>\n",
       "  </thead>\n",
       "  <tbody>\n",
       "    <tr>\n",
       "      <th>batu</th>\n",
       "      <td>-1.240332</td>\n",
       "      <td>-1.003260</td>\n",
       "      <td>0.362393</td>\n",
       "    </tr>\n",
       "    <tr>\n",
       "      <th>sülo</th>\n",
       "      <td>-0.132411</td>\n",
       "      <td>1.918299</td>\n",
       "      <td>0.411899</td>\n",
       "    </tr>\n",
       "    <tr>\n",
       "      <th>kel</th>\n",
       "      <td>-1.311152</td>\n",
       "      <td>0.471627</td>\n",
       "      <td>1.286865</td>\n",
       "    </tr>\n",
       "    <tr>\n",
       "      <th>merdo</th>\n",
       "      <td>-0.378301</td>\n",
       "      <td>-0.958838</td>\n",
       "      <td>1.329059</td>\n",
       "    </tr>\n",
       "  </tbody>\n",
       "</table>\n",
       "</div>"
      ],
      "text/plain": [
       "           Maas       Yas  Calisma saati\n",
       "batu  -1.240332 -1.003260       0.362393\n",
       "sülo  -0.132411  1.918299       0.411899\n",
       "kel   -1.311152  0.471627       1.286865\n",
       "merdo -0.378301 -0.958838       1.329059"
      ]
     },
     "execution_count": 28,
     "metadata": {},
     "output_type": "execute_result"
    }
   ],
   "source": [
    "yeniDataFrame"
   ]
  },
  {
   "cell_type": "code",
   "execution_count": 29,
   "id": "0bb017d9-2702-4a2c-b592-ca480fb59dc4",
   "metadata": {},
   "outputs": [],
   "source": [
    "booleanFrame = yeniDataFrame < 0"
   ]
  },
  {
   "cell_type": "code",
   "execution_count": 30,
   "id": "013b3486-c8eb-4e32-b5d8-59ba383d399c",
   "metadata": {},
   "outputs": [
    {
     "data": {
      "text/html": [
       "<div>\n",
       "<style scoped>\n",
       "    .dataframe tbody tr th:only-of-type {\n",
       "        vertical-align: middle;\n",
       "    }\n",
       "\n",
       "    .dataframe tbody tr th {\n",
       "        vertical-align: top;\n",
       "    }\n",
       "\n",
       "    .dataframe thead th {\n",
       "        text-align: right;\n",
       "    }\n",
       "</style>\n",
       "<table border=\"1\" class=\"dataframe\">\n",
       "  <thead>\n",
       "    <tr style=\"text-align: right;\">\n",
       "      <th></th>\n",
       "      <th>Maas</th>\n",
       "      <th>Yas</th>\n",
       "      <th>Calisma saati</th>\n",
       "    </tr>\n",
       "  </thead>\n",
       "  <tbody>\n",
       "    <tr>\n",
       "      <th>batu</th>\n",
       "      <td>True</td>\n",
       "      <td>True</td>\n",
       "      <td>False</td>\n",
       "    </tr>\n",
       "    <tr>\n",
       "      <th>sülo</th>\n",
       "      <td>True</td>\n",
       "      <td>False</td>\n",
       "      <td>False</td>\n",
       "    </tr>\n",
       "    <tr>\n",
       "      <th>kel</th>\n",
       "      <td>True</td>\n",
       "      <td>False</td>\n",
       "      <td>False</td>\n",
       "    </tr>\n",
       "    <tr>\n",
       "      <th>merdo</th>\n",
       "      <td>True</td>\n",
       "      <td>True</td>\n",
       "      <td>False</td>\n",
       "    </tr>\n",
       "  </tbody>\n",
       "</table>\n",
       "</div>"
      ],
      "text/plain": [
       "       Maas    Yas  Calisma saati\n",
       "batu   True   True          False\n",
       "sülo   True  False          False\n",
       "kel    True  False          False\n",
       "merdo  True   True          False"
      ]
     },
     "execution_count": 30,
     "metadata": {},
     "output_type": "execute_result"
    }
   ],
   "source": [
    "booleanFrame"
   ]
  },
  {
   "cell_type": "code",
   "execution_count": 31,
   "id": "9043a773-9446-4a2f-b68c-639a8a204412",
   "metadata": {},
   "outputs": [
    {
     "data": {
      "text/html": [
       "<div>\n",
       "<style scoped>\n",
       "    .dataframe tbody tr th:only-of-type {\n",
       "        vertical-align: middle;\n",
       "    }\n",
       "\n",
       "    .dataframe tbody tr th {\n",
       "        vertical-align: top;\n",
       "    }\n",
       "\n",
       "    .dataframe thead th {\n",
       "        text-align: right;\n",
       "    }\n",
       "</style>\n",
       "<table border=\"1\" class=\"dataframe\">\n",
       "  <thead>\n",
       "    <tr style=\"text-align: right;\">\n",
       "      <th></th>\n",
       "      <th>Maas</th>\n",
       "      <th>Yas</th>\n",
       "      <th>Calisma saati</th>\n",
       "    </tr>\n",
       "  </thead>\n",
       "  <tbody>\n",
       "    <tr>\n",
       "      <th>batu</th>\n",
       "      <td>-1.240332</td>\n",
       "      <td>-1.003260</td>\n",
       "      <td>NaN</td>\n",
       "    </tr>\n",
       "    <tr>\n",
       "      <th>sülo</th>\n",
       "      <td>-0.132411</td>\n",
       "      <td>NaN</td>\n",
       "      <td>NaN</td>\n",
       "    </tr>\n",
       "    <tr>\n",
       "      <th>kel</th>\n",
       "      <td>-1.311152</td>\n",
       "      <td>NaN</td>\n",
       "      <td>NaN</td>\n",
       "    </tr>\n",
       "    <tr>\n",
       "      <th>merdo</th>\n",
       "      <td>-0.378301</td>\n",
       "      <td>-0.958838</td>\n",
       "      <td>NaN</td>\n",
       "    </tr>\n",
       "  </tbody>\n",
       "</table>\n",
       "</div>"
      ],
      "text/plain": [
       "           Maas       Yas  Calisma saati\n",
       "batu  -1.240332 -1.003260            NaN\n",
       "sülo  -0.132411       NaN            NaN\n",
       "kel   -1.311152       NaN            NaN\n",
       "merdo -0.378301 -0.958838            NaN"
      ]
     },
     "execution_count": 31,
     "metadata": {},
     "output_type": "execute_result"
    }
   ],
   "source": [
    "yeniDataFrame[booleanFrame]"
   ]
  },
  {
   "cell_type": "code",
   "execution_count": 32,
   "id": "2a22cc6c-d35a-46d9-9720-55e8f12e83ee",
   "metadata": {},
   "outputs": [
    {
     "data": {
      "text/html": [
       "<div>\n",
       "<style scoped>\n",
       "    .dataframe tbody tr th:only-of-type {\n",
       "        vertical-align: middle;\n",
       "    }\n",
       "\n",
       "    .dataframe tbody tr th {\n",
       "        vertical-align: top;\n",
       "    }\n",
       "\n",
       "    .dataframe thead th {\n",
       "        text-align: right;\n",
       "    }\n",
       "</style>\n",
       "<table border=\"1\" class=\"dataframe\">\n",
       "  <thead>\n",
       "    <tr style=\"text-align: right;\">\n",
       "      <th></th>\n",
       "      <th>Maas</th>\n",
       "      <th>Yas</th>\n",
       "      <th>Calisma saati</th>\n",
       "    </tr>\n",
       "  </thead>\n",
       "  <tbody>\n",
       "    <tr>\n",
       "      <th>batu</th>\n",
       "      <td>-1.240332</td>\n",
       "      <td>-1.003260</td>\n",
       "      <td>NaN</td>\n",
       "    </tr>\n",
       "    <tr>\n",
       "      <th>sülo</th>\n",
       "      <td>-0.132411</td>\n",
       "      <td>NaN</td>\n",
       "      <td>NaN</td>\n",
       "    </tr>\n",
       "    <tr>\n",
       "      <th>kel</th>\n",
       "      <td>-1.311152</td>\n",
       "      <td>NaN</td>\n",
       "      <td>NaN</td>\n",
       "    </tr>\n",
       "    <tr>\n",
       "      <th>merdo</th>\n",
       "      <td>-0.378301</td>\n",
       "      <td>-0.958838</td>\n",
       "      <td>NaN</td>\n",
       "    </tr>\n",
       "  </tbody>\n",
       "</table>\n",
       "</div>"
      ],
      "text/plain": [
       "           Maas       Yas  Calisma saati\n",
       "batu  -1.240332 -1.003260            NaN\n",
       "sülo  -0.132411       NaN            NaN\n",
       "kel   -1.311152       NaN            NaN\n",
       "merdo -0.378301 -0.958838            NaN"
      ]
     },
     "execution_count": 32,
     "metadata": {},
     "output_type": "execute_result"
    }
   ],
   "source": [
    "yeniDataFrame[yeniDataFrame< 0]"
   ]
  },
  {
   "cell_type": "code",
   "execution_count": 33,
   "id": "418f44a8-74c8-48e3-bf1b-2c8bed1ac659",
   "metadata": {},
   "outputs": [
    {
     "data": {
      "text/html": [
       "<div>\n",
       "<style scoped>\n",
       "    .dataframe tbody tr th:only-of-type {\n",
       "        vertical-align: middle;\n",
       "    }\n",
       "\n",
       "    .dataframe tbody tr th {\n",
       "        vertical-align: top;\n",
       "    }\n",
       "\n",
       "    .dataframe thead th {\n",
       "        text-align: right;\n",
       "    }\n",
       "</style>\n",
       "<table border=\"1\" class=\"dataframe\">\n",
       "  <thead>\n",
       "    <tr style=\"text-align: right;\">\n",
       "      <th></th>\n",
       "      <th>Maas</th>\n",
       "      <th>Yas</th>\n",
       "      <th>Calisma saati</th>\n",
       "    </tr>\n",
       "  </thead>\n",
       "  <tbody>\n",
       "  </tbody>\n",
       "</table>\n",
       "</div>"
      ],
      "text/plain": [
       "Empty DataFrame\n",
       "Columns: [Maas, Yas, Calisma saati]\n",
       "Index: []"
      ]
     },
     "execution_count": 33,
     "metadata": {},
     "output_type": "execute_result"
    }
   ],
   "source": [
    "yeniDataFrame[yeniDataFrame[\"Maas\"]>0]"
   ]
  },
  {
   "cell_type": "code",
   "execution_count": 34,
   "id": "02d15084-b5e2-4e45-bd7a-80d8c2eae8ad",
   "metadata": {},
   "outputs": [
    {
     "data": {
      "text/html": [
       "<div>\n",
       "<style scoped>\n",
       "    .dataframe tbody tr th:only-of-type {\n",
       "        vertical-align: middle;\n",
       "    }\n",
       "\n",
       "    .dataframe tbody tr th {\n",
       "        vertical-align: top;\n",
       "    }\n",
       "\n",
       "    .dataframe thead th {\n",
       "        text-align: right;\n",
       "    }\n",
       "</style>\n",
       "<table border=\"1\" class=\"dataframe\">\n",
       "  <thead>\n",
       "    <tr style=\"text-align: right;\">\n",
       "      <th></th>\n",
       "      <th>index</th>\n",
       "      <th>Maas</th>\n",
       "      <th>Yas</th>\n",
       "      <th>Calisma saati</th>\n",
       "    </tr>\n",
       "  </thead>\n",
       "  <tbody>\n",
       "    <tr>\n",
       "      <th>0</th>\n",
       "      <td>batu</td>\n",
       "      <td>-1.240332</td>\n",
       "      <td>-1.003260</td>\n",
       "      <td>0.362393</td>\n",
       "    </tr>\n",
       "    <tr>\n",
       "      <th>1</th>\n",
       "      <td>sülo</td>\n",
       "      <td>-0.132411</td>\n",
       "      <td>1.918299</td>\n",
       "      <td>0.411899</td>\n",
       "    </tr>\n",
       "    <tr>\n",
       "      <th>2</th>\n",
       "      <td>kel</td>\n",
       "      <td>-1.311152</td>\n",
       "      <td>0.471627</td>\n",
       "      <td>1.286865</td>\n",
       "    </tr>\n",
       "    <tr>\n",
       "      <th>3</th>\n",
       "      <td>merdo</td>\n",
       "      <td>-0.378301</td>\n",
       "      <td>-0.958838</td>\n",
       "      <td>1.329059</td>\n",
       "    </tr>\n",
       "  </tbody>\n",
       "</table>\n",
       "</div>"
      ],
      "text/plain": [
       "   index      Maas       Yas  Calisma saati\n",
       "0   batu -1.240332 -1.003260       0.362393\n",
       "1   sülo -0.132411  1.918299       0.411899\n",
       "2    kel -1.311152  0.471627       1.286865\n",
       "3  merdo -0.378301 -0.958838       1.329059"
      ]
     },
     "execution_count": 34,
     "metadata": {},
     "output_type": "execute_result"
    }
   ],
   "source": [
    "yeniDataFrame.reset_index()"
   ]
  },
  {
   "cell_type": "code",
   "execution_count": 35,
   "id": "ca3554d4-5b37-431b-becc-9410f36ea543",
   "metadata": {},
   "outputs": [
    {
     "data": {
      "text/html": [
       "<div>\n",
       "<style scoped>\n",
       "    .dataframe tbody tr th:only-of-type {\n",
       "        vertical-align: middle;\n",
       "    }\n",
       "\n",
       "    .dataframe tbody tr th {\n",
       "        vertical-align: top;\n",
       "    }\n",
       "\n",
       "    .dataframe thead th {\n",
       "        text-align: right;\n",
       "    }\n",
       "</style>\n",
       "<table border=\"1\" class=\"dataframe\">\n",
       "  <thead>\n",
       "    <tr style=\"text-align: right;\">\n",
       "      <th></th>\n",
       "      <th>Maas</th>\n",
       "      <th>Yas</th>\n",
       "      <th>Calisma saati</th>\n",
       "    </tr>\n",
       "  </thead>\n",
       "  <tbody>\n",
       "    <tr>\n",
       "      <th>batu</th>\n",
       "      <td>-1.240332</td>\n",
       "      <td>-1.003260</td>\n",
       "      <td>0.362393</td>\n",
       "    </tr>\n",
       "    <tr>\n",
       "      <th>sülo</th>\n",
       "      <td>-0.132411</td>\n",
       "      <td>1.918299</td>\n",
       "      <td>0.411899</td>\n",
       "    </tr>\n",
       "    <tr>\n",
       "      <th>kel</th>\n",
       "      <td>-1.311152</td>\n",
       "      <td>0.471627</td>\n",
       "      <td>1.286865</td>\n",
       "    </tr>\n",
       "    <tr>\n",
       "      <th>merdo</th>\n",
       "      <td>-0.378301</td>\n",
       "      <td>-0.958838</td>\n",
       "      <td>1.329059</td>\n",
       "    </tr>\n",
       "  </tbody>\n",
       "</table>\n",
       "</div>"
      ],
      "text/plain": [
       "           Maas       Yas  Calisma saati\n",
       "batu  -1.240332 -1.003260       0.362393\n",
       "sülo  -0.132411  1.918299       0.411899\n",
       "kel   -1.311152  0.471627       1.286865\n",
       "merdo -0.378301 -0.958838       1.329059"
      ]
     },
     "execution_count": 35,
     "metadata": {},
     "output_type": "execute_result"
    }
   ],
   "source": [
    "yeniDataFrame"
   ]
  },
  {
   "cell_type": "code",
   "execution_count": 36,
   "id": "9861d76f-3a3d-4cce-b2cc-c8180d977492",
   "metadata": {},
   "outputs": [],
   "source": [
    "yeniIndexListesi = [\"Bat\",\"sül\",\"mer\",\"kel\"]"
   ]
  },
  {
   "cell_type": "code",
   "execution_count": 37,
   "id": "5ada6957-42c6-44a4-9e96-adb8bd84236e",
   "metadata": {},
   "outputs": [],
   "source": [
    "yeniDataFrame[\"Yeni index\"] = yeniIndexListesi"
   ]
  },
  {
   "cell_type": "code",
   "execution_count": 38,
   "id": "d2622172-965b-48e0-b9f4-3af6237ec77c",
   "metadata": {},
   "outputs": [
    {
     "data": {
      "text/html": [
       "<div>\n",
       "<style scoped>\n",
       "    .dataframe tbody tr th:only-of-type {\n",
       "        vertical-align: middle;\n",
       "    }\n",
       "\n",
       "    .dataframe tbody tr th {\n",
       "        vertical-align: top;\n",
       "    }\n",
       "\n",
       "    .dataframe thead th {\n",
       "        text-align: right;\n",
       "    }\n",
       "</style>\n",
       "<table border=\"1\" class=\"dataframe\">\n",
       "  <thead>\n",
       "    <tr style=\"text-align: right;\">\n",
       "      <th></th>\n",
       "      <th>Maas</th>\n",
       "      <th>Yas</th>\n",
       "      <th>Calisma saati</th>\n",
       "      <th>Yeni index</th>\n",
       "    </tr>\n",
       "  </thead>\n",
       "  <tbody>\n",
       "    <tr>\n",
       "      <th>batu</th>\n",
       "      <td>-1.240332</td>\n",
       "      <td>-1.003260</td>\n",
       "      <td>0.362393</td>\n",
       "      <td>Bat</td>\n",
       "    </tr>\n",
       "    <tr>\n",
       "      <th>sülo</th>\n",
       "      <td>-0.132411</td>\n",
       "      <td>1.918299</td>\n",
       "      <td>0.411899</td>\n",
       "      <td>sül</td>\n",
       "    </tr>\n",
       "    <tr>\n",
       "      <th>kel</th>\n",
       "      <td>-1.311152</td>\n",
       "      <td>0.471627</td>\n",
       "      <td>1.286865</td>\n",
       "      <td>mer</td>\n",
       "    </tr>\n",
       "    <tr>\n",
       "      <th>merdo</th>\n",
       "      <td>-0.378301</td>\n",
       "      <td>-0.958838</td>\n",
       "      <td>1.329059</td>\n",
       "      <td>kel</td>\n",
       "    </tr>\n",
       "  </tbody>\n",
       "</table>\n",
       "</div>"
      ],
      "text/plain": [
       "           Maas       Yas  Calisma saati Yeni index\n",
       "batu  -1.240332 -1.003260       0.362393        Bat\n",
       "sülo  -0.132411  1.918299       0.411899        sül\n",
       "kel   -1.311152  0.471627       1.286865        mer\n",
       "merdo -0.378301 -0.958838       1.329059        kel"
      ]
     },
     "execution_count": 38,
     "metadata": {},
     "output_type": "execute_result"
    }
   ],
   "source": [
    "yeniDataFrame"
   ]
  },
  {
   "cell_type": "code",
   "execution_count": 39,
   "id": "833325b3-148f-4171-9120-d38f3d52bcf1",
   "metadata": {},
   "outputs": [
    {
     "data": {
      "text/html": [
       "<div>\n",
       "<style scoped>\n",
       "    .dataframe tbody tr th:only-of-type {\n",
       "        vertical-align: middle;\n",
       "    }\n",
       "\n",
       "    .dataframe tbody tr th {\n",
       "        vertical-align: top;\n",
       "    }\n",
       "\n",
       "    .dataframe thead th {\n",
       "        text-align: right;\n",
       "    }\n",
       "</style>\n",
       "<table border=\"1\" class=\"dataframe\">\n",
       "  <thead>\n",
       "    <tr style=\"text-align: right;\">\n",
       "      <th></th>\n",
       "      <th>Maas</th>\n",
       "      <th>Yas</th>\n",
       "      <th>Calisma saati</th>\n",
       "    </tr>\n",
       "    <tr>\n",
       "      <th>Yeni index</th>\n",
       "      <th></th>\n",
       "      <th></th>\n",
       "      <th></th>\n",
       "    </tr>\n",
       "  </thead>\n",
       "  <tbody>\n",
       "    <tr>\n",
       "      <th>Bat</th>\n",
       "      <td>-1.240332</td>\n",
       "      <td>-1.003260</td>\n",
       "      <td>0.362393</td>\n",
       "    </tr>\n",
       "    <tr>\n",
       "      <th>sül</th>\n",
       "      <td>-0.132411</td>\n",
       "      <td>1.918299</td>\n",
       "      <td>0.411899</td>\n",
       "    </tr>\n",
       "    <tr>\n",
       "      <th>mer</th>\n",
       "      <td>-1.311152</td>\n",
       "      <td>0.471627</td>\n",
       "      <td>1.286865</td>\n",
       "    </tr>\n",
       "    <tr>\n",
       "      <th>kel</th>\n",
       "      <td>-0.378301</td>\n",
       "      <td>-0.958838</td>\n",
       "      <td>1.329059</td>\n",
       "    </tr>\n",
       "  </tbody>\n",
       "</table>\n",
       "</div>"
      ],
      "text/plain": [
       "                Maas       Yas  Calisma saati\n",
       "Yeni index                                   \n",
       "Bat        -1.240332 -1.003260       0.362393\n",
       "sül        -0.132411  1.918299       0.411899\n",
       "mer        -1.311152  0.471627       1.286865\n",
       "kel        -0.378301 -0.958838       1.329059"
      ]
     },
     "execution_count": 39,
     "metadata": {},
     "output_type": "execute_result"
    }
   ],
   "source": [
    "yeniDataFrame.set_index(\"Yeni index\")"
   ]
  },
  {
   "cell_type": "code",
   "execution_count": 40,
   "id": "ff092ca1-7280-47d6-87e3-68f656434e16",
   "metadata": {},
   "outputs": [
    {
     "data": {
      "text/html": [
       "<div>\n",
       "<style scoped>\n",
       "    .dataframe tbody tr th:only-of-type {\n",
       "        vertical-align: middle;\n",
       "    }\n",
       "\n",
       "    .dataframe tbody tr th {\n",
       "        vertical-align: top;\n",
       "    }\n",
       "\n",
       "    .dataframe thead th {\n",
       "        text-align: right;\n",
       "    }\n",
       "</style>\n",
       "<table border=\"1\" class=\"dataframe\">\n",
       "  <thead>\n",
       "    <tr style=\"text-align: right;\">\n",
       "      <th></th>\n",
       "      <th>Maas</th>\n",
       "      <th>Yas</th>\n",
       "      <th>Calisma saati</th>\n",
       "      <th>Yeni index</th>\n",
       "    </tr>\n",
       "  </thead>\n",
       "  <tbody>\n",
       "    <tr>\n",
       "      <th>batu</th>\n",
       "      <td>-1.240332</td>\n",
       "      <td>-1.003260</td>\n",
       "      <td>0.362393</td>\n",
       "      <td>Bat</td>\n",
       "    </tr>\n",
       "    <tr>\n",
       "      <th>sülo</th>\n",
       "      <td>-0.132411</td>\n",
       "      <td>1.918299</td>\n",
       "      <td>0.411899</td>\n",
       "      <td>sül</td>\n",
       "    </tr>\n",
       "    <tr>\n",
       "      <th>kel</th>\n",
       "      <td>-1.311152</td>\n",
       "      <td>0.471627</td>\n",
       "      <td>1.286865</td>\n",
       "      <td>mer</td>\n",
       "    </tr>\n",
       "    <tr>\n",
       "      <th>merdo</th>\n",
       "      <td>-0.378301</td>\n",
       "      <td>-0.958838</td>\n",
       "      <td>1.329059</td>\n",
       "      <td>kel</td>\n",
       "    </tr>\n",
       "  </tbody>\n",
       "</table>\n",
       "</div>"
      ],
      "text/plain": [
       "           Maas       Yas  Calisma saati Yeni index\n",
       "batu  -1.240332 -1.003260       0.362393        Bat\n",
       "sülo  -0.132411  1.918299       0.411899        sül\n",
       "kel   -1.311152  0.471627       1.286865        mer\n",
       "merdo -0.378301 -0.958838       1.329059        kel"
      ]
     },
     "execution_count": 40,
     "metadata": {},
     "output_type": "execute_result"
    }
   ],
   "source": [
    "yeniDataFrame"
   ]
  },
  {
   "cell_type": "code",
   "execution_count": 41,
   "id": "fc8a4cd7-3690-46bd-9ce8-5692e2ef0845",
   "metadata": {},
   "outputs": [],
   "source": [
    "yeniDataFrame.set_index(\"Yeni index\",inplace=True) \n"
   ]
  },
  {
   "cell_type": "code",
   "execution_count": 42,
   "id": "0a05fcdd-37c5-4707-96e9-cde2e16b96a6",
   "metadata": {},
   "outputs": [
    {
     "data": {
      "text/html": [
       "<div>\n",
       "<style scoped>\n",
       "    .dataframe tbody tr th:only-of-type {\n",
       "        vertical-align: middle;\n",
       "    }\n",
       "\n",
       "    .dataframe tbody tr th {\n",
       "        vertical-align: top;\n",
       "    }\n",
       "\n",
       "    .dataframe thead th {\n",
       "        text-align: right;\n",
       "    }\n",
       "</style>\n",
       "<table border=\"1\" class=\"dataframe\">\n",
       "  <thead>\n",
       "    <tr style=\"text-align: right;\">\n",
       "      <th></th>\n",
       "      <th>Maas</th>\n",
       "      <th>Yas</th>\n",
       "      <th>Calisma saati</th>\n",
       "    </tr>\n",
       "    <tr>\n",
       "      <th>Yeni index</th>\n",
       "      <th></th>\n",
       "      <th></th>\n",
       "      <th></th>\n",
       "    </tr>\n",
       "  </thead>\n",
       "  <tbody>\n",
       "    <tr>\n",
       "      <th>Bat</th>\n",
       "      <td>-1.240332</td>\n",
       "      <td>-1.003260</td>\n",
       "      <td>0.362393</td>\n",
       "    </tr>\n",
       "    <tr>\n",
       "      <th>sül</th>\n",
       "      <td>-0.132411</td>\n",
       "      <td>1.918299</td>\n",
       "      <td>0.411899</td>\n",
       "    </tr>\n",
       "    <tr>\n",
       "      <th>mer</th>\n",
       "      <td>-1.311152</td>\n",
       "      <td>0.471627</td>\n",
       "      <td>1.286865</td>\n",
       "    </tr>\n",
       "    <tr>\n",
       "      <th>kel</th>\n",
       "      <td>-0.378301</td>\n",
       "      <td>-0.958838</td>\n",
       "      <td>1.329059</td>\n",
       "    </tr>\n",
       "  </tbody>\n",
       "</table>\n",
       "</div>"
      ],
      "text/plain": [
       "                Maas       Yas  Calisma saati\n",
       "Yeni index                                   \n",
       "Bat        -1.240332 -1.003260       0.362393\n",
       "sül        -0.132411  1.918299       0.411899\n",
       "mer        -1.311152  0.471627       1.286865\n",
       "kel        -0.378301 -0.958838       1.329059"
      ]
     },
     "execution_count": 42,
     "metadata": {},
     "output_type": "execute_result"
    }
   ],
   "source": [
    "yeniDataFrame"
   ]
  },
  {
   "cell_type": "code",
   "execution_count": 43,
   "id": "f262b8b2-72d6-4e7f-847a-d60e41d2d81c",
   "metadata": {},
   "outputs": [
    {
     "data": {
      "text/plain": [
       "Maas            -0.132411\n",
       "Yas              1.918299\n",
       "Calisma saati    0.411899\n",
       "Name: sül, dtype: float64"
      ]
     },
     "execution_count": 43,
     "metadata": {},
     "output_type": "execute_result"
    }
   ],
   "source": [
    "yeniDataFrame.loc[\"sül\"]"
   ]
  },
  {
   "cell_type": "code",
   "execution_count": 61,
   "id": "ff258ad5-c3d2-4ae5-9b25-13fef30ac641",
   "metadata": {},
   "outputs": [],
   "source": [
    "ilkIndeksler = [\"oda1\",\"oda1\",\"oda1\",\"oda2\",\"oda2\",\"oda2\"]                                                                          "
   ]
  },
  {
   "cell_type": "code",
   "execution_count": 62,
   "id": "79308da0-5f17-43ea-8a81-8a99fa8de7cd",
   "metadata": {},
   "outputs": [],
   "source": [
    "icIndexler = [\"burak\",\"sülo\",\"merdo\",\"batu\",\"burağın avradı\",\"burağın avradı2\"]"
   ]
  },
  {
   "cell_type": "code",
   "execution_count": 63,
   "id": "f4faad28-d3ab-4a7f-a31c-d0a3c973afa0",
   "metadata": {},
   "outputs": [],
   "source": [
    "birlesmisIndeks =list(zip(ilkIndeksler,icIndexler))"
   ]
  },
  {
   "cell_type": "code",
   "execution_count": 64,
   "id": "b58c0149-0fd8-4c33-87ca-ef5249478bb5",
   "metadata": {},
   "outputs": [
    {
     "data": {
      "text/plain": [
       "[('oda1', 'burak'),\n",
       " ('oda1', 'sülo'),\n",
       " ('oda1', 'merdo'),\n",
       " ('oda2', 'batu'),\n",
       " ('oda2', 'burağın avradı'),\n",
       " ('oda2', 'burağın avradı2')]"
      ]
     },
     "execution_count": 64,
     "metadata": {},
     "output_type": "execute_result"
    }
   ],
   "source": [
    "birlesmisIndeks"
   ]
  },
  {
   "cell_type": "code",
   "execution_count": 65,
   "id": "d16a54c2-f240-47e3-81ff-c50e18be81f4",
   "metadata": {},
   "outputs": [],
   "source": [
    "birlesmisIndeks = pd.MultiIndex.from_tuples(birlesmisIndeks)"
   ]
  },
  {
   "cell_type": "code",
   "execution_count": 66,
   "id": "149f4307-acbd-41c8-a5bc-cf99b5235991",
   "metadata": {},
   "outputs": [
    {
     "data": {
      "text/plain": [
       "MultiIndex([('oda1',           'burak'),\n",
       "            ('oda1',            'sülo'),\n",
       "            ('oda1',           'merdo'),\n",
       "            ('oda2',            'batu'),\n",
       "            ('oda2',  'burağın avradı'),\n",
       "            ('oda2', 'burağın avradı2')],\n",
       "           )"
      ]
     },
     "execution_count": 66,
     "metadata": {},
     "output_type": "execute_result"
    }
   ],
   "source": [
    "birlesmisIndeks"
   ]
  },
  {
   "cell_type": "code",
   "execution_count": 67,
   "id": "54b5f803-578b-4b5d-9533-0d39cdb53de7",
   "metadata": {},
   "outputs": [],
   "source": [
    "benimOdaListem = [[40,\"a\"],[30,\"b\"],[30,\"c\"],[9,\"d\"],[4,\"d\"],[56,\"n\"]]"
   ]
  },
  {
   "cell_type": "code",
   "execution_count": 68,
   "id": "209035a0-9a76-431b-823f-980aa341b74d",
   "metadata": {},
   "outputs": [],
   "source": [
    "odaDizisiNumpy= np.array(benimOdaListem)"
   ]
  },
  {
   "cell_type": "code",
   "execution_count": 69,
   "id": "effabcf4-5931-4bee-aab6-50672903dbf5",
   "metadata": {},
   "outputs": [],
   "source": [
    "odaDataFrame = pd.DataFrame(odaDizisiNumpy,index = birlesmisIndeks,columns = [\"atılan posta\",\"meslek\"])"
   ]
  },
  {
   "cell_type": "code",
   "execution_count": 70,
   "id": "bcb8bb87-bcf6-4dc9-9387-8246b46aecb5",
   "metadata": {},
   "outputs": [
    {
     "data": {
      "text/html": [
       "<div>\n",
       "<style scoped>\n",
       "    .dataframe tbody tr th:only-of-type {\n",
       "        vertical-align: middle;\n",
       "    }\n",
       "\n",
       "    .dataframe tbody tr th {\n",
       "        vertical-align: top;\n",
       "    }\n",
       "\n",
       "    .dataframe thead th {\n",
       "        text-align: right;\n",
       "    }\n",
       "</style>\n",
       "<table border=\"1\" class=\"dataframe\">\n",
       "  <thead>\n",
       "    <tr style=\"text-align: right;\">\n",
       "      <th></th>\n",
       "      <th></th>\n",
       "      <th>atılan posta</th>\n",
       "      <th>meslek</th>\n",
       "    </tr>\n",
       "  </thead>\n",
       "  <tbody>\n",
       "    <tr>\n",
       "      <th rowspan=\"3\" valign=\"top\">oda1</th>\n",
       "      <th>burak</th>\n",
       "      <td>40</td>\n",
       "      <td>a</td>\n",
       "    </tr>\n",
       "    <tr>\n",
       "      <th>sülo</th>\n",
       "      <td>30</td>\n",
       "      <td>b</td>\n",
       "    </tr>\n",
       "    <tr>\n",
       "      <th>merdo</th>\n",
       "      <td>30</td>\n",
       "      <td>c</td>\n",
       "    </tr>\n",
       "    <tr>\n",
       "      <th rowspan=\"3\" valign=\"top\">oda2</th>\n",
       "      <th>batu</th>\n",
       "      <td>9</td>\n",
       "      <td>d</td>\n",
       "    </tr>\n",
       "    <tr>\n",
       "      <th>burağın avradı</th>\n",
       "      <td>4</td>\n",
       "      <td>d</td>\n",
       "    </tr>\n",
       "    <tr>\n",
       "      <th>burağın avradı2</th>\n",
       "      <td>56</td>\n",
       "      <td>n</td>\n",
       "    </tr>\n",
       "  </tbody>\n",
       "</table>\n",
       "</div>"
      ],
      "text/plain": [
       "                     atılan posta meslek\n",
       "oda1 burak                     40      a\n",
       "     sülo                      30      b\n",
       "     merdo                     30      c\n",
       "oda2 batu                       9      d\n",
       "     burağın avradı             4      d\n",
       "     burağın avradı2           56      n"
      ]
     },
     "execution_count": 70,
     "metadata": {},
     "output_type": "execute_result"
    }
   ],
   "source": [
    "odaDataFrame"
   ]
  },
  {
   "cell_type": "code",
   "execution_count": 75,
   "id": "7713f808-607e-4e0a-9ca0-619b03232728",
   "metadata": {},
   "outputs": [
    {
     "data": {
      "text/plain": [
       "atılan posta    30\n",
       "meslek           b\n",
       "Name: sülo, dtype: object"
      ]
     },
     "execution_count": 75,
     "metadata": {},
     "output_type": "execute_result"
    }
   ],
   "source": [
    "odaDataFrame.loc[\"oda1\"].loc[\"sülo\"]"
   ]
  },
  {
   "cell_type": "code",
   "execution_count": 73,
   "id": "fead4e9e-f11a-4371-a7fe-6e837459701f",
   "metadata": {},
   "outputs": [
    {
     "data": {
      "text/html": [
       "<div>\n",
       "<style scoped>\n",
       "    .dataframe tbody tr th:only-of-type {\n",
       "        vertical-align: middle;\n",
       "    }\n",
       "\n",
       "    .dataframe tbody tr th {\n",
       "        vertical-align: top;\n",
       "    }\n",
       "\n",
       "    .dataframe thead th {\n",
       "        text-align: right;\n",
       "    }\n",
       "</style>\n",
       "<table border=\"1\" class=\"dataframe\">\n",
       "  <thead>\n",
       "    <tr style=\"text-align: right;\">\n",
       "      <th></th>\n",
       "      <th>atılan posta</th>\n",
       "      <th>meslek</th>\n",
       "    </tr>\n",
       "  </thead>\n",
       "  <tbody>\n",
       "    <tr>\n",
       "      <th>batu</th>\n",
       "      <td>9</td>\n",
       "      <td>d</td>\n",
       "    </tr>\n",
       "    <tr>\n",
       "      <th>burağın avradı</th>\n",
       "      <td>4</td>\n",
       "      <td>d</td>\n",
       "    </tr>\n",
       "    <tr>\n",
       "      <th>burağın avradı2</th>\n",
       "      <td>56</td>\n",
       "      <td>n</td>\n",
       "    </tr>\n",
       "  </tbody>\n",
       "</table>\n",
       "</div>"
      ],
      "text/plain": [
       "                atılan posta meslek\n",
       "batu                       9      d\n",
       "burağın avradı             4      d\n",
       "burağın avradı2           56      n"
      ]
     },
     "execution_count": 73,
     "metadata": {},
     "output_type": "execute_result"
    }
   ],
   "source": [
    "odaDataFrame.loc[\"oda2\"]"
   ]
  },
  {
   "cell_type": "code",
   "execution_count": 76,
   "id": "d350ed5b-8068-44a5-a0c3-474688358e0f",
   "metadata": {},
   "outputs": [
    {
     "data": {
      "text/html": [
       "<div>\n",
       "<style scoped>\n",
       "    .dataframe tbody tr th:only-of-type {\n",
       "        vertical-align: middle;\n",
       "    }\n",
       "\n",
       "    .dataframe tbody tr th {\n",
       "        vertical-align: top;\n",
       "    }\n",
       "\n",
       "    .dataframe thead th {\n",
       "        text-align: right;\n",
       "    }\n",
       "</style>\n",
       "<table border=\"1\" class=\"dataframe\">\n",
       "  <thead>\n",
       "    <tr style=\"text-align: right;\">\n",
       "      <th></th>\n",
       "      <th></th>\n",
       "      <th>atılan posta</th>\n",
       "      <th>meslek</th>\n",
       "    </tr>\n",
       "  </thead>\n",
       "  <tbody>\n",
       "    <tr>\n",
       "      <th rowspan=\"3\" valign=\"top\">oda1</th>\n",
       "      <th>burak</th>\n",
       "      <td>40</td>\n",
       "      <td>a</td>\n",
       "    </tr>\n",
       "    <tr>\n",
       "      <th>sülo</th>\n",
       "      <td>30</td>\n",
       "      <td>b</td>\n",
       "    </tr>\n",
       "    <tr>\n",
       "      <th>merdo</th>\n",
       "      <td>30</td>\n",
       "      <td>c</td>\n",
       "    </tr>\n",
       "    <tr>\n",
       "      <th rowspan=\"3\" valign=\"top\">oda2</th>\n",
       "      <th>batu</th>\n",
       "      <td>9</td>\n",
       "      <td>d</td>\n",
       "    </tr>\n",
       "    <tr>\n",
       "      <th>burağın avradı</th>\n",
       "      <td>4</td>\n",
       "      <td>d</td>\n",
       "    </tr>\n",
       "    <tr>\n",
       "      <th>burağın avradı2</th>\n",
       "      <td>56</td>\n",
       "      <td>n</td>\n",
       "    </tr>\n",
       "  </tbody>\n",
       "</table>\n",
       "</div>"
      ],
      "text/plain": [
       "                     atılan posta meslek\n",
       "oda1 burak                     40      a\n",
       "     sülo                      30      b\n",
       "     merdo                     30      c\n",
       "oda2 batu                       9      d\n",
       "     burağın avradı             4      d\n",
       "     burağın avradı2           56      n"
      ]
     },
     "execution_count": 76,
     "metadata": {},
     "output_type": "execute_result"
    }
   ],
   "source": [
    "odaDataFrame"
   ]
  },
  {
   "cell_type": "code",
   "execution_count": 77,
   "id": "7bb5461c-9a24-4a1c-a4da-679e761923d4",
   "metadata": {},
   "outputs": [],
   "source": [
    "odaDataFrame.index.names = [\"Oda No\",\"İsim\"]"
   ]
  },
  {
   "cell_type": "code",
   "execution_count": 78,
   "id": "537a64d7-4d72-4b92-ad86-56f2162908d2",
   "metadata": {},
   "outputs": [
    {
     "data": {
      "text/html": [
       "<div>\n",
       "<style scoped>\n",
       "    .dataframe tbody tr th:only-of-type {\n",
       "        vertical-align: middle;\n",
       "    }\n",
       "\n",
       "    .dataframe tbody tr th {\n",
       "        vertical-align: top;\n",
       "    }\n",
       "\n",
       "    .dataframe thead th {\n",
       "        text-align: right;\n",
       "    }\n",
       "</style>\n",
       "<table border=\"1\" class=\"dataframe\">\n",
       "  <thead>\n",
       "    <tr style=\"text-align: right;\">\n",
       "      <th></th>\n",
       "      <th></th>\n",
       "      <th>atılan posta</th>\n",
       "      <th>meslek</th>\n",
       "    </tr>\n",
       "    <tr>\n",
       "      <th>Oda No</th>\n",
       "      <th>İsim</th>\n",
       "      <th></th>\n",
       "      <th></th>\n",
       "    </tr>\n",
       "  </thead>\n",
       "  <tbody>\n",
       "    <tr>\n",
       "      <th rowspan=\"3\" valign=\"top\">oda1</th>\n",
       "      <th>burak</th>\n",
       "      <td>40</td>\n",
       "      <td>a</td>\n",
       "    </tr>\n",
       "    <tr>\n",
       "      <th>sülo</th>\n",
       "      <td>30</td>\n",
       "      <td>b</td>\n",
       "    </tr>\n",
       "    <tr>\n",
       "      <th>merdo</th>\n",
       "      <td>30</td>\n",
       "      <td>c</td>\n",
       "    </tr>\n",
       "    <tr>\n",
       "      <th rowspan=\"3\" valign=\"top\">oda2</th>\n",
       "      <th>batu</th>\n",
       "      <td>9</td>\n",
       "      <td>d</td>\n",
       "    </tr>\n",
       "    <tr>\n",
       "      <th>burağın avradı</th>\n",
       "      <td>4</td>\n",
       "      <td>d</td>\n",
       "    </tr>\n",
       "    <tr>\n",
       "      <th>burağın avradı2</th>\n",
       "      <td>56</td>\n",
       "      <td>n</td>\n",
       "    </tr>\n",
       "  </tbody>\n",
       "</table>\n",
       "</div>"
      ],
      "text/plain": [
       "                       atılan posta meslek\n",
       "Oda No İsim                               \n",
       "oda1   burak                     40      a\n",
       "       sülo                      30      b\n",
       "       merdo                     30      c\n",
       "oda2   batu                       9      d\n",
       "       burağın avradı             4      d\n",
       "       burağın avradı2           56      n"
      ]
     },
     "execution_count": 78,
     "metadata": {},
     "output_type": "execute_result"
    }
   ],
   "source": [
    "odaDataFrame"
   ]
  },
  {
   "cell_type": "code",
   "execution_count": null,
   "id": "7d7f4408-3a52-4e20-ba19-fffb6d473b15",
   "metadata": {},
   "outputs": [],
   "source": []
  }
 ],
 "metadata": {
  "kernelspec": {
   "display_name": "Python 3 (ipykernel)",
   "language": "python",
   "name": "python3"
  },
  "language_info": {
   "codemirror_mode": {
    "name": "ipython",
    "version": 3
   },
   "file_extension": ".py",
   "mimetype": "text/x-python",
   "name": "python",
   "nbconvert_exporter": "python",
   "pygments_lexer": "ipython3",
   "version": "3.9.7"
  }
 },
 "nbformat": 4,
 "nbformat_minor": 5
}
