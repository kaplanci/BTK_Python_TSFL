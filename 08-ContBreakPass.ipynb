{
 "cells": [
  {
   "cell_type": "code",
   "execution_count": 1,
   "id": "35bc5d64-9efa-4e3a-b939-9fcd01fef184",
   "metadata": {},
   "outputs": [],
   "source": [
    "MyList = [1,2,3,4,5,6,9]"
   ]
  },
  {
   "cell_type": "code",
   "execution_count": 2,
   "id": "4780d384-229e-404c-bd55-964875e2e8d1",
   "metadata": {},
   "outputs": [
    {
     "name": "stdout",
     "output_type": "stream",
     "text": [
      "1\n",
      "2\n",
      "3\n",
      "4\n",
      "5\n"
     ]
    }
   ],
   "source": [
    "for numbers in MyList:\n",
    "    if numbers==6:\n",
    "        break\n",
    "    print (numbers)    "
   ]
  },
  {
   "cell_type": "code",
   "execution_count": 6,
   "id": "e24a51f3-34ff-485a-a14e-3de0f1271c55",
   "metadata": {},
   "outputs": [
    {
     "name": "stdout",
     "output_type": "stream",
     "text": [
      "1\n",
      "2\n",
      "3\n",
      "5\n",
      "6\n",
      "9\n"
     ]
    }
   ],
   "source": [
    "for numbers in MyList:\n",
    "    if numbers ==4:\n",
    "        continue\n",
    "    print(numbers)    #verilen rakamı atladı devam etti"
   ]
  },
  {
   "cell_type": "code",
   "execution_count": null,
   "id": "fac71521-08af-4f7f-b19c-89a841e5048d",
   "metadata": {},
   "outputs": [],
   "source": [
    "for numbers in MyList:\n",
    "    pass "
   ]
  },
  {
   "cell_type": "raw",
   "id": "3af27db0-19b2-4f9c-8127-a9e9a9fb6736",
   "metadata": {},
   "source": []
  }
 ],
 "metadata": {
  "kernelspec": {
   "display_name": "Python 3 (ipykernel)",
   "language": "python",
   "name": "python3"
  },
  "language_info": {
   "codemirror_mode": {
    "name": "ipython",
    "version": 3
   },
   "file_extension": ".py",
   "mimetype": "text/x-python",
   "name": "python",
   "nbconvert_exporter": "python",
   "pygments_lexer": "ipython3",
   "version": "3.9.7"
  }
 },
 "nbformat": 4,
 "nbformat_minor": 5
}
