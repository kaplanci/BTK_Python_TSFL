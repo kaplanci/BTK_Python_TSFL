{
 "cells": [
  {
   "cell_type": "code",
   "execution_count": 23,
   "id": "cefa8e29-7100-425e-8394-cf0ef0c6b0d1",
   "metadata": {},
   "outputs": [
    {
     "name": "stdin",
     "output_type": "stream",
     "text": [
      "vize notunuzu giriniz:  37\n",
      "Final Girniz 58\n"
     ]
    },
    {
     "name": "stdout",
     "output_type": "stream",
     "text": [
      "Koşullu Geçtiniz***\n"
     ]
    }
   ],
   "source": [
    "a = int(input('vize notunuzu giriniz: '))\n",
    "b =int (input ('Final Girniz'))\n",
    "c = (a*0.4)+(b*0.6)\n",
    "\n",
    "if c > 50:\n",
    "    print(\"Geçtiniz\")\n",
    "elif c<50 and c>40:\n",
    "    print (\"Koşullu Geçtiniz***\")\n",
    "elif  c<50 and c>30:   \n",
    "    print (\"Yaz Okulu\")\n",
    "      \n",
    "else:\n",
    "    print (\"Yarra yedin***\")\n",
    "    \n",
    "\n",
    "\n"
   ]
  },
  {
   "cell_type": "code",
   "execution_count": 24,
   "id": "ec26ad0c-b61c-448a-bb6d-b2a8a0d9c297",
   "metadata": {},
   "outputs": [],
   "source": [
    "Ad = \"Batuhan Kaplancı\"\n"
   ]
  },
  {
   "cell_type": "code",
   "execution_count": 25,
   "id": "7bbd0e9c-fba5-4378-a230-f053ed568c66",
   "metadata": {},
   "outputs": [
    {
     "name": "stdout",
     "output_type": "stream",
     "text": [
      "var\n"
     ]
    }
   ],
   "source": [
    "if \"Kap\" in Ad:\n",
    "    print(\"var\")\n",
    "else:\n",
    "    print(\"yok aq\")\n",
    "    \n"
   ]
  },
  {
   "cell_type": "code",
   "execution_count": null,
   "id": "3b335f01-5c52-4734-8eff-75fa072bfb84",
   "metadata": {},
   "outputs": [],
   "source": []
  }
 ],
 "metadata": {
  "kernelspec": {
   "display_name": "Python 3 (ipykernel)",
   "language": "python",
   "name": "python3"
  },
  "language_info": {
   "codemirror_mode": {
    "name": "ipython",
    "version": 3
   },
   "file_extension": ".py",
   "mimetype": "text/x-python",
   "name": "python",
   "nbconvert_exporter": "python",
   "pygments_lexer": "ipython3",
   "version": "3.9.7"
  }
 },
 "nbformat": 4,
 "nbformat_minor": 5
}
