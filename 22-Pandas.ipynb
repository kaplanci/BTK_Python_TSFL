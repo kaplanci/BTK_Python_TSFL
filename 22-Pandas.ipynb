{
 "cells": [
  {
   "cell_type": "code",
   "execution_count": 1,
   "id": "dc4f2d88-b21f-4832-8fea-429c2b500551",
   "metadata": {},
   "outputs": [],
   "source": [
    "import pandas as pd\n",
    "import numpy as np"
   ]
  },
  {
   "cell_type": "markdown",
   "id": "d27fd8ee-fcac-4e30-a492-127d6fee863a",
   "metadata": {},
   "source": [
    "## series / seriler"
   ]
  },
  {
   "cell_type": "code",
   "execution_count": 10,
   "id": "f3f59d63-04c2-4377-9669-742cfff2e2f1",
   "metadata": {},
   "outputs": [],
   "source": [
    "MyDict = {\"batuhan\" : 50,\"sülo: \":40,\"kel \": 30 }"
   ]
  },
  {
   "cell_type": "code",
   "execution_count": 11,
   "id": "ea46a2d8-20d4-4621-b8a8-34042264aa2b",
   "metadata": {},
   "outputs": [
    {
     "data": {
      "text/plain": [
       "batuhan    50\n",
       "sülo:      40\n",
       "kel        30\n",
       "dtype: int64"
      ]
     },
     "execution_count": 11,
     "metadata": {},
     "output_type": "execute_result"
    }
   ],
   "source": [
    "pd.Series(MyDict)"
   ]
  },
  {
   "cell_type": "code",
   "execution_count": 12,
   "id": "01ec462e-28d4-4751-aeef-b8be78303e86",
   "metadata": {},
   "outputs": [],
   "source": [
    "MyOld=[50,40,30]\n",
    "MyName=[\"batu\",\"sülo\",\"kel\"]"
   ]
  },
  {
   "cell_type": "code",
   "execution_count": 13,
   "id": "4e4f2b90-4e8b-4370-b970-cad86424d58c",
   "metadata": {},
   "outputs": [
    {
     "data": {
      "text/plain": [
       "batu    50\n",
       "sülo    40\n",
       "kel     30\n",
       "dtype: int64"
      ]
     },
     "execution_count": 13,
     "metadata": {},
     "output_type": "execute_result"
    }
   ],
   "source": [
    "pd.Series(MyOld,MyName)"
   ]
  },
  {
   "cell_type": "code",
   "execution_count": 15,
   "id": "7ae0a6e8-a4f3-42ba-a416-b02cd40b20d9",
   "metadata": {},
   "outputs": [
    {
     "data": {
      "text/plain": [
       "batu    50\n",
       "sülo    40\n",
       "kel     30\n",
       "dtype: int64"
      ]
     },
     "execution_count": 15,
     "metadata": {},
     "output_type": "execute_result"
    }
   ],
   "source": [
    "pd.Series(data=MyOld,index=MyName)"
   ]
  },
  {
   "cell_type": "code",
   "execution_count": 16,
   "id": "b9a10195-5182-4ea4-b3a5-d30bf2c50e3b",
   "metadata": {},
   "outputs": [],
   "source": [
    "numpyDizi=np.array([50,40,30])"
   ]
  },
  {
   "cell_type": "code",
   "execution_count": 17,
   "id": "f29649f5-727d-4c18-bf35-38adae3ddece",
   "metadata": {},
   "outputs": [
    {
     "data": {
      "text/plain": [
       "array([50, 40, 30])"
      ]
     },
     "execution_count": 17,
     "metadata": {},
     "output_type": "execute_result"
    }
   ],
   "source": [
    "numpyDizi"
   ]
  },
  {
   "cell_type": "code",
   "execution_count": 18,
   "id": "b68accff-2496-4c11-a7dd-7c900784dce4",
   "metadata": {},
   "outputs": [
    {
     "data": {
      "text/plain": [
       "0    50\n",
       "1    40\n",
       "2    30\n",
       "dtype: int32"
      ]
     },
     "execution_count": 18,
     "metadata": {},
     "output_type": "execute_result"
    }
   ],
   "source": [
    "pd.Series(numpyDizi)"
   ]
  },
  {
   "cell_type": "code",
   "execution_count": 19,
   "id": "f5cdd5d1-6fde-402e-9844-56e3dc11825c",
   "metadata": {},
   "outputs": [
    {
     "data": {
      "text/plain": [
       "batu    50\n",
       "sülo    40\n",
       "kel     30\n",
       "dtype: int32"
      ]
     },
     "execution_count": 19,
     "metadata": {},
     "output_type": "execute_result"
    }
   ],
   "source": [
    "pd.Series(numpyDizi,MyName)"
   ]
  },
  {
   "cell_type": "code",
   "execution_count": 22,
   "id": "c450d8ab-d3ab-442a-9358-3bb63381d8e3",
   "metadata": {},
   "outputs": [
    {
     "data": {
      "text/plain": [
       "1    batu\n",
       "2     kel\n",
       "3    sülo\n",
       "dtype: object"
      ]
     },
     "execution_count": 22,
     "metadata": {},
     "output_type": "execute_result"
    }
   ],
   "source": [
    "pd.Series(data=[\"batu\",\"kel\",\"sülo\"],index =[1,2,3])"
   ]
  },
  {
   "cell_type": "code",
   "execution_count": 23,
   "id": "0209827b-3cab-457f-a254-4fc6a3e19fc3",
   "metadata": {},
   "outputs": [],
   "source": [
    "yarısmaSonucu1= pd.Series([10,5,3],[\"batu\",\"sülo\",\"kel\"])"
   ]
  },
  {
   "cell_type": "code",
   "execution_count": 24,
   "id": "65199531-380b-48ef-94a6-d2083425a042",
   "metadata": {},
   "outputs": [
    {
     "data": {
      "text/plain": [
       "batu    10\n",
       "sülo     5\n",
       "kel      3\n",
       "dtype: int64"
      ]
     },
     "execution_count": 24,
     "metadata": {},
     "output_type": "execute_result"
    }
   ],
   "source": [
    "yarısmaSonucu1"
   ]
  },
  {
   "cell_type": "code",
   "execution_count": 25,
   "id": "4ab2389b-8a5a-496f-8a8a-d976ef916adc",
   "metadata": {},
   "outputs": [],
   "source": [
    "yarısmaSonucu2 = pd.Series([20,4,8],[\"batu\",\"sülo\",\"kel\"])"
   ]
  },
  {
   "cell_type": "code",
   "execution_count": 26,
   "id": "b91eb53a-4d79-4030-a94b-99ea6b0c429e",
   "metadata": {},
   "outputs": [
    {
     "data": {
      "text/plain": [
       "batu    20\n",
       "sülo     4\n",
       "kel      8\n",
       "dtype: int64"
      ]
     },
     "execution_count": 26,
     "metadata": {},
     "output_type": "execute_result"
    }
   ],
   "source": [
    "yarısmaSonucu2"
   ]
  },
  {
   "cell_type": "code",
   "execution_count": 28,
   "id": "e7c39504-6aab-4b24-9265-6de898e42918",
   "metadata": {},
   "outputs": [
    {
     "data": {
      "text/plain": [
       "8"
      ]
     },
     "execution_count": 28,
     "metadata": {},
     "output_type": "execute_result"
    }
   ],
   "source": [
    "yarısmaSonucu2[\"kel\"]"
   ]
  },
  {
   "cell_type": "code",
   "execution_count": 30,
   "id": "3560848b-1c79-405b-a052-a6c50f3796a7",
   "metadata": {},
   "outputs": [],
   "source": [
    "sonuc= yarısmaSonucu1 + yarısmaSonucu2 "
   ]
  },
  {
   "cell_type": "code",
   "execution_count": 31,
   "id": "694bb5dd-a87b-4be6-becb-836b48f6cfef",
   "metadata": {},
   "outputs": [
    {
     "data": {
      "text/plain": [
       "batu    30\n",
       "sülo     9\n",
       "kel     11\n",
       "dtype: int64"
      ]
     },
     "execution_count": 31,
     "metadata": {},
     "output_type": "execute_result"
    }
   ],
   "source": [
    "sonuc"
   ]
  },
  {
   "cell_type": "code",
   "execution_count": 36,
   "id": "7c86522f-c4f5-4fef-9361-1c4568fbc7e6",
   "metadata": {},
   "outputs": [],
   "source": [
    "farklıSeries = pd.Series([20,45,67,435],[\"a\",\"b\",\"c\",\"d\"])"
   ]
  },
  {
   "cell_type": "code",
   "execution_count": 41,
   "id": "835d91a0-cb31-4379-8b12-9a28fd46bc18",
   "metadata": {},
   "outputs": [],
   "source": [
    "farklıSeries2 = pd.Series([1,2,3,4],[\"a\",\"c\",\"f\",\"g\"])"
   ]
  },
  {
   "cell_type": "code",
   "execution_count": 42,
   "id": "7aeeba8f-66e7-4d50-a80f-6e95519800d6",
   "metadata": {},
   "outputs": [
    {
     "data": {
      "text/plain": [
       "a    21.0\n",
       "b     NaN\n",
       "c    69.0\n",
       "d     NaN\n",
       "f     NaN\n",
       "g     NaN\n",
       "dtype: float64"
      ]
     },
     "execution_count": 42,
     "metadata": {},
     "output_type": "execute_result"
    }
   ],
   "source": [
    "farklıSeries+farklıSeries2 ## aynı olanları topladı diğerleirni salladı"
   ]
  },
  {
   "cell_type": "code",
   "execution_count": null,
   "id": "0f7cc051-47f6-4d42-ac47-1f134af8ab38",
   "metadata": {},
   "outputs": [],
   "source": []
  }
 ],
 "metadata": {
  "kernelspec": {
   "display_name": "Python 3 (ipykernel)",
   "language": "python",
   "name": "python3"
  },
  "language_info": {
   "codemirror_mode": {
    "name": "ipython",
    "version": 3
   },
   "file_extension": ".py",
   "mimetype": "text/x-python",
   "name": "python",
   "nbconvert_exporter": "python",
   "pygments_lexer": "ipython3",
   "version": "3.9.7"
  }
 },
 "nbformat": 4,
 "nbformat_minor": 5
}
