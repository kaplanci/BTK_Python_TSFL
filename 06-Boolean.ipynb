{
 "cells": [
  {
   "cell_type": "code",
   "execution_count": 1,
   "id": "af605865-4921-49eb-bfd3-aa59824c367b",
   "metadata": {},
   "outputs": [],
   "source": [
    "MyBoolean = True"
   ]
  },
  {
   "cell_type": "code",
   "execution_count": 2,
   "id": "ab3bd70d-f0e8-4b5b-8386-b3377d23a072",
   "metadata": {},
   "outputs": [
    {
     "data": {
      "text/plain": [
       "True"
      ]
     },
     "execution_count": 2,
     "metadata": {},
     "output_type": "execute_result"
    }
   ],
   "source": [
    "MyBoolean"
   ]
  },
  {
   "cell_type": "code",
   "execution_count": 3,
   "id": "e940eff1-10a1-4c29-a0eb-734eaf901121",
   "metadata": {},
   "outputs": [
    {
     "data": {
      "text/plain": [
       "bool"
      ]
     },
     "execution_count": 3,
     "metadata": {},
     "output_type": "execute_result"
    }
   ],
   "source": [
    "type(MyBoolean)"
   ]
  },
  {
   "cell_type": "code",
   "execution_count": 4,
   "id": "705936ae-5566-4623-b2d7-515ba5fc7f7e",
   "metadata": {},
   "outputs": [],
   "source": [
    "#true  veya yanlış sadece iki seçeneği var"
   ]
  },
  {
   "cell_type": "code",
   "execution_count": 5,
   "id": "738485c2-9621-4717-a10f-90b1c899493c",
   "metadata": {},
   "outputs": [],
   "source": [
    "x=7\n",
    "y=5"
   ]
  },
  {
   "cell_type": "code",
   "execution_count": 6,
   "id": "056aa564-a0f1-4743-8642-1825e70926f6",
   "metadata": {},
   "outputs": [
    {
     "data": {
      "text/plain": [
       "False"
      ]
     },
     "execution_count": 6,
     "metadata": {},
     "output_type": "execute_result"
    }
   ],
   "source": [
    "x==y"
   ]
  },
  {
   "cell_type": "code",
   "execution_count": 7,
   "id": "6efc3acf-aa7d-411b-95cf-e700c5eccea4",
   "metadata": {},
   "outputs": [
    {
     "data": {
      "text/plain": [
       "True"
      ]
     },
     "execution_count": 7,
     "metadata": {},
     "output_type": "execute_result"
    }
   ],
   "source": [
    "x != y #eşit değildir"
   ]
  },
  {
   "cell_type": "code",
   "execution_count": 9,
   "id": "f65af66f-5d27-4086-9ddb-9021429244d8",
   "metadata": {},
   "outputs": [
    {
     "data": {
      "text/plain": [
       "False"
      ]
     },
     "execution_count": 9,
     "metadata": {},
     "output_type": "execute_result"
    }
   ],
   "source": [
    "1>3 and 3<4  #ve işlemi "
   ]
  },
  {
   "cell_type": "code",
   "execution_count": 12,
   "id": "c27c76d2-e732-4d65-930e-8a80ee4473ff",
   "metadata": {},
   "outputs": [
    {
     "data": {
      "text/plain": [
       "False"
      ]
     },
     "execution_count": 12,
     "metadata": {},
     "output_type": "execute_result"
    }
   ],
   "source": [
    "not 5==5"
   ]
  },
  {
   "cell_type": "code",
   "execution_count": null,
   "id": "b498f340-4639-49ad-9be4-d06cccd5264b",
   "metadata": {},
   "outputs": [],
   "source": []
  },
  {
   "cell_type": "code",
   "execution_count": null,
   "id": "dcdc7570-708a-4ebf-a8c2-fd8dbe2ca6ec",
   "metadata": {},
   "outputs": [],
   "source": []
  },
  {
   "cell_type": "code",
   "execution_count": null,
   "id": "3ef50c26-d44f-4c6d-90d6-666edce45791",
   "metadata": {},
   "outputs": [],
   "source": []
  },
  {
   "cell_type": "code",
   "execution_count": null,
   "id": "5d668e73-d3e7-460e-b683-2f8d60072cb2",
   "metadata": {},
   "outputs": [],
   "source": []
  },
  {
   "cell_type": "code",
   "execution_count": null,
   "id": "01d74998-d6c5-4e05-bcd1-efcfaf54c1a0",
   "metadata": {},
   "outputs": [],
   "source": []
  },
  {
   "cell_type": "code",
   "execution_count": null,
   "id": "e000c36a-69c5-4142-9ae3-f6c6614ce278",
   "metadata": {},
   "outputs": [],
   "source": []
  },
  {
   "cell_type": "code",
   "execution_count": null,
   "id": "4cb05e8c-2ed3-4f64-b060-a6e0c08d74aa",
   "metadata": {},
   "outputs": [],
   "source": []
  },
  {
   "cell_type": "code",
   "execution_count": null,
   "id": "0d2d2200-ea13-41d1-93f3-d6bd93c25075",
   "metadata": {},
   "outputs": [],
   "source": []
  },
  {
   "cell_type": "code",
   "execution_count": null,
   "id": "57571f45-b318-4b35-af42-f77ca1086814",
   "metadata": {},
   "outputs": [],
   "source": []
  }
 ],
 "metadata": {
  "kernelspec": {
   "display_name": "Python 3 (ipykernel)",
   "language": "python",
   "name": "python3"
  },
  "language_info": {
   "codemirror_mode": {
    "name": "ipython",
    "version": 3
   },
   "file_extension": ".py",
   "mimetype": "text/x-python",
   "name": "python",
   "nbconvert_exporter": "python",
   "pygments_lexer": "ipython3",
   "version": "3.9.7"
  }
 },
 "nbformat": 4,
 "nbformat_minor": 5
}
