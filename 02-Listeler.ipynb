{
 "cells": [
  {
   "cell_type": "code",
   "execution_count": 3,
   "id": "6836e91b-4ac4-4652-8d16-3160d1ce32f1",
   "metadata": {},
   "outputs": [],
   "source": [
    "ad = 'Batuhan Kaplancı'"
   ]
  },
  {
   "cell_type": "code",
   "execution_count": 4,
   "id": "416d378f-c209-4fb8-ac4f-326987934dac",
   "metadata": {},
   "outputs": [
    {
     "data": {
      "text/plain": [
       "'Batuhan Kaplancı'"
      ]
     },
     "execution_count": 4,
     "metadata": {},
     "output_type": "execute_result"
    }
   ],
   "source": [
    "ad"
   ]
  },
  {
   "cell_type": "code",
   "execution_count": 5,
   "id": "2d80e7aa-9632-42d4-a7e7-3a8b659bd7e9",
   "metadata": {},
   "outputs": [
    {
     "data": {
      "text/plain": [
       "'B'"
      ]
     },
     "execution_count": 5,
     "metadata": {},
     "output_type": "execute_result"
    }
   ],
   "source": [
    "ad[0\n",
    "]"
   ]
  },
  {
   "cell_type": "code",
   "execution_count": 6,
   "id": "1df96edb-153a-49cc-8550-0dee28df12e6",
   "metadata": {},
   "outputs": [],
   "source": [
    "MyList = [10,20,30,40]"
   ]
  },
  {
   "cell_type": "code",
   "execution_count": 7,
   "id": "c0fc82bf-2d87-4d21-a3d4-dc9caa94fbb6",
   "metadata": {},
   "outputs": [
    {
     "data": {
      "text/plain": [
       "list"
      ]
     },
     "execution_count": 7,
     "metadata": {},
     "output_type": "execute_result"
    }
   ],
   "source": [
    "type(MyList)"
   ]
  },
  {
   "cell_type": "code",
   "execution_count": 8,
   "id": "35b8daa5-077e-41b8-b5d7-53ca88b8fdf0",
   "metadata": {},
   "outputs": [],
   "source": [
    "MyList.append(50)"
   ]
  },
  {
   "cell_type": "code",
   "execution_count": 9,
   "id": "fb4ff7d8-636c-40b6-b6f4-8ccdba76bf6a",
   "metadata": {},
   "outputs": [
    {
     "data": {
      "text/plain": [
       "[10, 20, 30, 40, 50]"
      ]
     },
     "execution_count": 9,
     "metadata": {},
     "output_type": "execute_result"
    }
   ],
   "source": [
    "MyList"
   ]
  },
  {
   "cell_type": "code",
   "execution_count": 10,
   "id": "6e974b73-5ec1-4ddf-a48b-97b38199f179",
   "metadata": {},
   "outputs": [
    {
     "data": {
      "text/plain": [
       "50"
      ]
     },
     "execution_count": 10,
     "metadata": {},
     "output_type": "execute_result"
    }
   ],
   "source": [
    "MyList.pop()"
   ]
  },
  {
   "cell_type": "code",
   "execution_count": 11,
   "id": "714b9eb9-c9da-4681-81ae-6e992ec4641f",
   "metadata": {},
   "outputs": [
    {
     "ename": "NameError",
     "evalue": "name 'MyLİst' is not defined",
     "output_type": "error",
     "traceback": [
      "\u001b[1;31m---------------------------------------------------------------------------\u001b[0m",
      "\u001b[1;31mNameError\u001b[0m                                 Traceback (most recent call last)",
      "\u001b[1;32m~\\AppData\\Local\\Temp/ipykernel_10044/3564058069.py\u001b[0m in \u001b[0;36m<module>\u001b[1;34m\u001b[0m\n\u001b[1;32m----> 1\u001b[1;33m \u001b[0mMyLİst\u001b[0m\u001b[1;33m\u001b[0m\u001b[1;33m\u001b[0m\u001b[0m\n\u001b[0m",
      "\u001b[1;31mNameError\u001b[0m: name 'MyLİst' is not defined"
     ]
    }
   ],
   "source": [
    "MyLİst"
   ]
  },
  {
   "cell_type": "code",
   "execution_count": 12,
   "id": "54aac264-28a2-4f42-b4b1-55032c7678da",
   "metadata": {},
   "outputs": [
    {
     "ename": "NameError",
     "evalue": "name 'MyLİst' is not defined",
     "output_type": "error",
     "traceback": [
      "\u001b[1;31m---------------------------------------------------------------------------\u001b[0m",
      "\u001b[1;31mNameError\u001b[0m                                 Traceback (most recent call last)",
      "\u001b[1;32m~\\AppData\\Local\\Temp/ipykernel_10044/3564058069.py\u001b[0m in \u001b[0;36m<module>\u001b[1;34m\u001b[0m\n\u001b[1;32m----> 1\u001b[1;33m \u001b[0mMyLİst\u001b[0m\u001b[1;33m\u001b[0m\u001b[1;33m\u001b[0m\u001b[0m\n\u001b[0m",
      "\u001b[1;31mNameError\u001b[0m: name 'MyLİst' is not defined"
     ]
    }
   ],
   "source": [
    "MyLİst"
   ]
  },
  {
   "cell_type": "code",
   "execution_count": 13,
   "id": "a4928879-734e-4146-b1e1-5e90f18e81f3",
   "metadata": {},
   "outputs": [
    {
     "data": {
      "text/plain": [
       "[10, 20, 30, 40]"
      ]
     },
     "execution_count": 13,
     "metadata": {},
     "output_type": "execute_result"
    }
   ],
   "source": [
    "MyList\n"
   ]
  },
  {
   "cell_type": "code",
   "execution_count": 14,
   "id": "b4e7e938-ace0-45f7-86f7-40b66386f3f2",
   "metadata": {},
   "outputs": [],
   "source": [
    "#pop func seen last list member and delete last member\n"
   ]
  },
  {
   "cell_type": "code",
   "execution_count": 15,
   "id": "bc38d1d3-b69d-4987-be24-0996e108aaf9",
   "metadata": {},
   "outputs": [],
   "source": [
    "MyList.remove(40)  #remove func is basic delete methhod\n",
    "            "
   ]
  },
  {
   "cell_type": "code",
   "execution_count": 16,
   "id": "2b1e7d96-5c30-4995-9408-d2f05b34835c",
   "metadata": {},
   "outputs": [
    {
     "data": {
      "text/plain": [
       "[10, 20, 30]"
      ]
     },
     "execution_count": 16,
     "metadata": {},
     "output_type": "execute_result"
    }
   ],
   "source": [
    "MyList"
   ]
  },
  {
   "cell_type": "code",
   "execution_count": 18,
   "id": "b3be8a22-db64-46db-a119-356675d40407",
   "metadata": {},
   "outputs": [
    {
     "data": {
      "text/plain": [
       "1"
      ]
     },
     "execution_count": 18,
     "metadata": {},
     "output_type": "execute_result"
    }
   ],
   "source": [
    "MyList.count(20) #how many same member is your list"
   ]
  },
  {
   "cell_type": "code",
   "execution_count": null,
   "id": "f799427d-c98d-469e-9059-3cda503a4916",
   "metadata": {},
   "outputs": [],
   "source": []
  },
  {
   "cell_type": "code",
   "execution_count": null,
   "id": "be409622-c56d-470d-a3c0-8875c1718d0e",
   "metadata": {},
   "outputs": [],
   "source": []
  }
 ],
 "metadata": {
  "kernelspec": {
   "display_name": "Python 3 (ipykernel)",
   "language": "python",
   "name": "python3"
  },
  "language_info": {
   "codemirror_mode": {
    "name": "ipython",
    "version": 3
   },
   "file_extension": ".py",
   "mimetype": "text/x-python",
   "name": "python",
   "nbconvert_exporter": "python",
   "pygments_lexer": "ipython3",
   "version": "3.9.7"
  }
 },
 "nbformat": 4,
 "nbformat_minor": 5
}
