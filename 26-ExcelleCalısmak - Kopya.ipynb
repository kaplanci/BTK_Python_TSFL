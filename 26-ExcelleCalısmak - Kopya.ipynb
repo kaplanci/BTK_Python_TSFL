{
 "cells": [
  {
   "cell_type": "code",
   "execution_count": 1,
   "id": "6e885057-5c3a-469f-bb47-da2428c18d11",
   "metadata": {},
   "outputs": [],
   "source": [
    "import numpy as np\n",
    "import pandas as pd"
   ]
  },
  {
   "cell_type": "code",
   "execution_count": 4,
   "id": "1e8875e9-a38d-4ba2-a792-f40a60c3e733",
   "metadata": {},
   "outputs": [],
   "source": [
    "dataFrame = pd.read_excel(\"maas.xlsx\")"
   ]
  },
  {
   "cell_type": "code",
   "execution_count": 5,
   "id": "85676c32-4351-431f-b4a1-80b8c2ca6cec",
   "metadata": {},
   "outputs": [
    {
     "data": {
      "text/html": [
       "<div>\n",
       "<style scoped>\n",
       "    .dataframe tbody tr th:only-of-type {\n",
       "        vertical-align: middle;\n",
       "    }\n",
       "\n",
       "    .dataframe tbody tr th {\n",
       "        vertical-align: top;\n",
       "    }\n",
       "\n",
       "    .dataframe thead th {\n",
       "        text-align: right;\n",
       "    }\n",
       "</style>\n",
       "<table border=\"1\" class=\"dataframe\">\n",
       "  <thead>\n",
       "    <tr style=\"text-align: right;\">\n",
       "      <th></th>\n",
       "      <th>Unnamed: 0</th>\n",
       "      <th>Maas</th>\n",
       "      <th>Yas</th>\n",
       "      <th>Departman</th>\n",
       "    </tr>\n",
       "  </thead>\n",
       "  <tbody>\n",
       "    <tr>\n",
       "      <th>0</th>\n",
       "      <td>Atıl</td>\n",
       "      <td>100</td>\n",
       "      <td>34</td>\n",
       "      <td>Yazılım</td>\n",
       "    </tr>\n",
       "    <tr>\n",
       "      <th>1</th>\n",
       "      <td>Mehmet</td>\n",
       "      <td>2323</td>\n",
       "      <td>54</td>\n",
       "      <td>Satış</td>\n",
       "    </tr>\n",
       "    <tr>\n",
       "      <th>2</th>\n",
       "      <td>Ahmet</td>\n",
       "      <td>4345</td>\n",
       "      <td>24</td>\n",
       "      <td>NaN</td>\n",
       "    </tr>\n",
       "    <tr>\n",
       "      <th>3</th>\n",
       "      <td>Zeynep</td>\n",
       "      <td>564</td>\n",
       "      <td>12</td>\n",
       "      <td>Pzaralama</td>\n",
       "    </tr>\n",
       "    <tr>\n",
       "      <th>4</th>\n",
       "      <td>Atlas</td>\n",
       "      <td>7678</td>\n",
       "      <td>34</td>\n",
       "      <td>Finasn</td>\n",
       "    </tr>\n",
       "    <tr>\n",
       "      <th>5</th>\n",
       "      <td>Maze</td>\n",
       "      <td>4546</td>\n",
       "      <td>23</td>\n",
       "      <td>Hkuk</td>\n",
       "    </tr>\n",
       "  </tbody>\n",
       "</table>\n",
       "</div>"
      ],
      "text/plain": [
       "  Unnamed: 0  Maas  Yas  Departman\n",
       "0       Atıl   100   34    Yazılım\n",
       "1     Mehmet  2323   54      Satış\n",
       "2      Ahmet  4345   24        NaN\n",
       "3     Zeynep   564   12  Pzaralama\n",
       "4      Atlas  7678   34     Finasn\n",
       "5       Maze  4546   23       Hkuk"
      ]
     },
     "execution_count": 5,
     "metadata": {},
     "output_type": "execute_result"
    }
   ],
   "source": [
    "dataFrame"
   ]
  },
  {
   "cell_type": "code",
   "execution_count": 7,
   "id": "5476bde2-264b-4cdf-b60e-26b76d832dcf",
   "metadata": {},
   "outputs": [],
   "source": [
    "doluDegerler =dataFrame.dropna() #boslar atıldııxdd"
   ]
  },
  {
   "cell_type": "code",
   "execution_count": 8,
   "id": "5ab56ca6-500a-4623-a5c1-79edeee64c3b",
   "metadata": {},
   "outputs": [
    {
     "data": {
      "text/html": [
       "<div>\n",
       "<style scoped>\n",
       "    .dataframe tbody tr th:only-of-type {\n",
       "        vertical-align: middle;\n",
       "    }\n",
       "\n",
       "    .dataframe tbody tr th {\n",
       "        vertical-align: top;\n",
       "    }\n",
       "\n",
       "    .dataframe thead th {\n",
       "        text-align: right;\n",
       "    }\n",
       "</style>\n",
       "<table border=\"1\" class=\"dataframe\">\n",
       "  <thead>\n",
       "    <tr style=\"text-align: right;\">\n",
       "      <th></th>\n",
       "      <th>Unnamed: 0</th>\n",
       "      <th>Maas</th>\n",
       "      <th>Yas</th>\n",
       "      <th>Departman</th>\n",
       "    </tr>\n",
       "  </thead>\n",
       "  <tbody>\n",
       "    <tr>\n",
       "      <th>0</th>\n",
       "      <td>Atıl</td>\n",
       "      <td>100</td>\n",
       "      <td>34</td>\n",
       "      <td>Yazılım</td>\n",
       "    </tr>\n",
       "    <tr>\n",
       "      <th>1</th>\n",
       "      <td>Mehmet</td>\n",
       "      <td>2323</td>\n",
       "      <td>54</td>\n",
       "      <td>Satış</td>\n",
       "    </tr>\n",
       "    <tr>\n",
       "      <th>3</th>\n",
       "      <td>Zeynep</td>\n",
       "      <td>564</td>\n",
       "      <td>12</td>\n",
       "      <td>Pzaralama</td>\n",
       "    </tr>\n",
       "    <tr>\n",
       "      <th>4</th>\n",
       "      <td>Atlas</td>\n",
       "      <td>7678</td>\n",
       "      <td>34</td>\n",
       "      <td>Finasn</td>\n",
       "    </tr>\n",
       "    <tr>\n",
       "      <th>5</th>\n",
       "      <td>Maze</td>\n",
       "      <td>4546</td>\n",
       "      <td>23</td>\n",
       "      <td>Hkuk</td>\n",
       "    </tr>\n",
       "  </tbody>\n",
       "</table>\n",
       "</div>"
      ],
      "text/plain": [
       "  Unnamed: 0  Maas  Yas  Departman\n",
       "0       Atıl   100   34    Yazılım\n",
       "1     Mehmet  2323   54      Satış\n",
       "3     Zeynep   564   12  Pzaralama\n",
       "4      Atlas  7678   34     Finasn\n",
       "5       Maze  4546   23       Hkuk"
      ]
     },
     "execution_count": 8,
     "metadata": {},
     "output_type": "execute_result"
    }
   ],
   "source": [
    "doluDegerler"
   ]
  },
  {
   "cell_type": "code",
   "execution_count": 11,
   "id": "05947ef2-2a14-4790-9917-b7727d2546c3",
   "metadata": {},
   "outputs": [],
   "source": [
    "doluDegerler.to_excel(\"yenimaas.xlsx\")"
   ]
  },
  {
   "cell_type": "code",
   "execution_count": null,
   "id": "597fea82-76a6-4154-93de-05fbc14c5edb",
   "metadata": {},
   "outputs": [],
   "source": []
  }
 ],
 "metadata": {
  "kernelspec": {
   "display_name": "Python 3 (ipykernel)",
   "language": "python",
   "name": "python3"
  },
  "language_info": {
   "codemirror_mode": {
    "name": "ipython",
    "version": 3
   },
   "file_extension": ".py",
   "mimetype": "text/x-python",
   "name": "python",
   "nbconvert_exporter": "python",
   "pygments_lexer": "ipython3",
   "version": "3.9.7"
  }
 },
 "nbformat": 4,
 "nbformat_minor": 5
}
