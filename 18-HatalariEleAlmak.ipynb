{
 "cells": [
  {
   "cell_type": "code",
   "execution_count": 1,
   "id": "e03d2691-c8a0-4b87-88de-2e682e1fea4e",
   "metadata": {},
   "outputs": [],
   "source": [
    "def t (n1,n2):\n",
    "    return n1+n2"
   ]
  },
  {
   "cell_type": "code",
   "execution_count": 2,
   "id": "ca8cd945-1b00-44ae-a7df-740f86bde91e",
   "metadata": {},
   "outputs": [
    {
     "data": {
      "text/plain": [
       "3"
      ]
     },
     "execution_count": 2,
     "metadata": {},
     "output_type": "execute_result"
    }
   ],
   "source": [
    "t(1,2)"
   ]
  },
  {
   "cell_type": "code",
   "execution_count": 5,
   "id": "e58932ff-4706-4a47-a479-35fdda34ffde",
   "metadata": {},
   "outputs": [
    {
     "name": "stdin",
     "output_type": "stream",
     "text": [
      "İlk sayıyı giriniz 33\n",
      "İkinci sayıyı giriniz 3\n"
     ]
    },
    {
     "data": {
      "text/plain": [
       "36"
      ]
     },
     "execution_count": 5,
     "metadata": {},
     "output_type": "execute_result"
    }
   ],
   "source": [
    "\n",
    "\n",
    "x = int(input(\"İlk sayıyı giriniz\"))\n",
    "y = int(input(\"İkinci sayıyı giriniz\"))\n",
    "\n",
    "t (x,y)"
   ]
  },
  {
   "cell_type": "markdown",
   "id": "e0968b5e-8957-4f27-b3f5-fae837a787d4",
   "metadata": {},
   "source": [
    "## try & except & else & finally"
   ]
  },
  {
   "cell_type": "code",
   "execution_count": 6,
   "id": "a077ab03-8a9c-44a8-ad7b-324b032baf3f",
   "metadata": {},
   "outputs": [
    {
     "name": "stdin",
     "output_type": "stream",
     "text": [
      "num gir:    a\n"
     ]
    },
    {
     "name": "stdout",
     "output_type": "stream",
     "text": [
      "adam gibi num gir \n",
      "finally çağrıldı\n"
     ]
    },
    {
     "name": "stdin",
     "output_type": "stream",
     "text": [
      "num gir:    a\n"
     ]
    },
    {
     "name": "stdout",
     "output_type": "stream",
     "text": [
      "adam gibi num gir \n",
      "finally çağrıldı\n"
     ]
    },
    {
     "name": "stdin",
     "output_type": "stream",
     "text": [
      "num gir:    a\n"
     ]
    },
    {
     "name": "stdout",
     "output_type": "stream",
     "text": [
      "adam gibi num gir \n",
      "finally çağrıldı\n"
     ]
    },
    {
     "name": "stdin",
     "output_type": "stream",
     "text": [
      "num gir:    a\n"
     ]
    },
    {
     "name": "stdout",
     "output_type": "stream",
     "text": [
      "adam gibi num gir \n",
      "finally çağrıldı\n"
     ]
    },
    {
     "name": "stdin",
     "output_type": "stream",
     "text": [
      "num gir:    10\n"
     ]
    },
    {
     "name": "stdout",
     "output_type": "stream",
     "text": [
      "teşkür \n",
      "finally çağrıldı\n"
     ]
    }
   ],
   "source": [
    "while True:\n",
    "    try:\n",
    "        benimInt = int(input(\"num gir:   \"))\n",
    "    except:\n",
    "        print(\"adam gibi num gir \")\n",
    "        continue\n",
    "    else:\n",
    "        print(\"teşkür \")\n",
    "        break\n",
    "    finally:\n",
    "        print(\"finally çağrıldı\")"
   ]
  },
  {
   "cell_type": "code",
   "execution_count": null,
   "id": "992019b9-1f34-48f0-a44a-69d41a8fa42b",
   "metadata": {},
   "outputs": [],
   "source": []
  }
 ],
 "metadata": {
  "kernelspec": {
   "display_name": "Python 3 (ipykernel)",
   "language": "python",
   "name": "python3"
  },
  "language_info": {
   "codemirror_mode": {
    "name": "ipython",
    "version": 3
   },
   "file_extension": ".py",
   "mimetype": "text/x-python",
   "name": "python",
   "nbconvert_exporter": "python",
   "pygments_lexer": "ipython3",
   "version": "3.9.7"
  }
 },
 "nbformat": 4,
 "nbformat_minor": 5
}
