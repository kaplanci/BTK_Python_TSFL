{
 "cells": [
  {
   "cell_type": "code",
   "execution_count": 3,
   "id": "42395234-77d2-4995-a6d7-532aba3b0249",
   "metadata": {},
   "outputs": [],
   "source": [
    "def bolmeIslemi(numara):\n",
    "    return numara / 2"
   ]
  },
  {
   "cell_type": "code",
   "execution_count": 4,
   "id": "03fa134e-69e2-4239-8028-56d4c267555f",
   "metadata": {},
   "outputs": [
    {
     "data": {
      "text/plain": [
       "22.5"
      ]
     },
     "execution_count": 4,
     "metadata": {},
     "output_type": "execute_result"
    }
   ],
   "source": [
    "bolmeIslemi(45)"
   ]
  },
  {
   "cell_type": "code",
   "execution_count": 5,
   "id": "32245702-eef7-428c-b3eb-b15d5b1685dc",
   "metadata": {},
   "outputs": [],
   "source": [
    "myList=[1,2,3,4,5,6,7,8,9,10]"
   ]
  },
  {
   "cell_type": "code",
   "execution_count": 7,
   "id": "c4630b98-6884-4984-871b-4ca5e3eecf71",
   "metadata": {},
   "outputs": [
    {
     "name": "stdout",
     "output_type": "stream",
     "text": [
      "[0.5, 1.0, 1.5, 2.0, 2.5, 3.0, 3.5, 4.0, 4.5, 5.0]\n"
     ]
    }
   ],
   "source": [
    "newList=[]\n",
    "for eleman in myList:\n",
    "    newList.append(bolmeIslemi(eleman))\n",
    "print(newList)    "
   ]
  },
  {
   "cell_type": "code",
   "execution_count": null,
   "id": "4b9cccb6-7f39-425b-8827-bab19fe7f5cb",
   "metadata": {},
   "outputs": [],
   "source": []
  }
 ],
 "metadata": {
  "kernelspec": {
   "display_name": "Python 3 (ipykernel)",
   "language": "python",
   "name": "python3"
  },
  "language_info": {
   "codemirror_mode": {
    "name": "ipython",
    "version": 3
   },
   "file_extension": ".py",
   "mimetype": "text/x-python",
   "name": "python",
   "nbconvert_exporter": "python",
   "pygments_lexer": "ipython3",
   "version": "3.9.7"
  }
 },
 "nbformat": 4,
 "nbformat_minor": 5
}
