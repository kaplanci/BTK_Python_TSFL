{
 "cells": [
  {
   "cell_type": "markdown",
   "id": "d7306f85-db49-428a-a97f-d99570191dda",
   "metadata": {},
   "source": [
    "## key value pairing(anahtar kelime-değer eşlemesi)"
   ]
  },
  {
   "cell_type": "code",
   "execution_count": 1,
   "id": "fadaf057-eaa1-43e5-8aa3-89df392adcdd",
   "metadata": {},
   "outputs": [],
   "source": [
    "MyFood= (\"elma\",\"karpuz\",\"muz\")"
   ]
  },
  {
   "cell_type": "code",
   "execution_count": 2,
   "id": "7098b0a1-fb32-49dd-8183-c5e64e07dc2e",
   "metadata": {},
   "outputs": [],
   "source": [
    "MyCalori = (100,200,300)"
   ]
  },
  {
   "cell_type": "code",
   "execution_count": 3,
   "id": "4df41b3a-de2a-43b5-a680-ad205893f26d",
   "metadata": {},
   "outputs": [],
   "source": [
    "#dictionary"
   ]
  },
  {
   "cell_type": "code",
   "execution_count": 7,
   "id": "377b56cd-5bc7-4f69-97d8-974152ecc98e",
   "metadata": {},
   "outputs": [],
   "source": [
    "MyDict = {\"anahtar kelime\" : \"deger\"}"
   ]
  },
  {
   "cell_type": "code",
   "execution_count": 9,
   "id": "48199e27-227e-4088-a2c8-8a3a89b94e20",
   "metadata": {},
   "outputs": [
    {
     "data": {
      "text/plain": [
       "dict"
      ]
     },
     "execution_count": 9,
     "metadata": {},
     "output_type": "execute_result"
    }
   ],
   "source": [
    "type(MyDict)"
   ]
  },
  {
   "cell_type": "code",
   "execution_count": 10,
   "id": "8037149c-d07c-49d6-abbd-f45358a9beae",
   "metadata": {},
   "outputs": [],
   "source": [
    "MyFoodCalDict ={\"elma\" : 100,\"kapurz\":200,\"muz\" : 300}"
   ]
  },
  {
   "cell_type": "code",
   "execution_count": 14,
   "id": "32052a7a-09e2-4798-818c-2b907f776776",
   "metadata": {},
   "outputs": [
    {
     "data": {
      "text/plain": [
       "300"
      ]
     },
     "execution_count": 14,
     "metadata": {},
     "output_type": "execute_result"
    }
   ],
   "source": [
    "MyFoodCalDict[\"muz\"]"
   ]
  },
  {
   "cell_type": "code",
   "execution_count": 15,
   "id": "99ae515a-0055-4860-afd1-cc46c5037bd6",
   "metadata": {},
   "outputs": [],
   "source": [
    "MyFoodCalDict[\"elma\"]=200"
   ]
  },
  {
   "cell_type": "code",
   "execution_count": 16,
   "id": "bbfbab49-4495-42e4-a812-e738c824468f",
   "metadata": {},
   "outputs": [
    {
     "data": {
      "text/plain": [
       "{'elma': 200, 'kapurz': 200, 'muz': 300}"
      ]
     },
     "execution_count": 16,
     "metadata": {},
     "output_type": "execute_result"
    }
   ],
   "source": [
    "MyFoodCalDict"
   ]
  },
  {
   "cell_type": "code",
   "execution_count": null,
   "id": "dfd057a1-bebd-417f-9360-4948dfde5402",
   "metadata": {},
   "outputs": [],
   "source": []
  }
 ],
 "metadata": {
  "kernelspec": {
   "display_name": "Python 3 (ipykernel)",
   "language": "python",
   "name": "python3"
  },
  "language_info": {
   "codemirror_mode": {
    "name": "ipython",
    "version": 3
   },
   "file_extension": ".py",
   "mimetype": "text/x-python",
   "name": "python",
   "nbconvert_exporter": "python",
   "pygments_lexer": "ipython3",
   "version": "3.9.7"
  }
 },
 "nbformat": 4,
 "nbformat_minor": 5
}
