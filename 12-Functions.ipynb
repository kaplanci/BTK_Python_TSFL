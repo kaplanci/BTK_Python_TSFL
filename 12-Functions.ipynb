{
 "cells": [
  {
   "cell_type": "code",
   "execution_count": 1,
   "id": "81a2a5fd-2281-4939-99e9-aecda7c9a360",
   "metadata": {},
   "outputs": [],
   "source": [
    "def FirstFunc():\n",
    "    print(\"MerdoMErdo\")"
   ]
  },
  {
   "cell_type": "code",
   "execution_count": 3,
   "id": "d5d88365-a825-4c9a-8a59-b322e96e499c",
   "metadata": {},
   "outputs": [
    {
     "name": "stdout",
     "output_type": "stream",
     "text": [
      "MerdoMErdo\n"
     ]
    }
   ],
   "source": [
    "FirstFunc()"
   ]
  },
  {
   "cell_type": "markdown",
   "id": "e73c5bac-007f-4bbf-8c44-206d2c2f2380",
   "metadata": {},
   "source": [
    "## input & return"
   ]
  },
  {
   "cell_type": "code",
   "execution_count": 12,
   "id": "99eb806a-68ec-4724-8c4c-9256df8c3032",
   "metadata": {},
   "outputs": [],
   "source": [
    "def helloWorld(yazdırılacakisim):\n",
    "    print(\"merhaba\")\n",
    "    print(yazdırılacakisim)"
   ]
  },
  {
   "cell_type": "code",
   "execution_count": 13,
   "id": "077c23c2-f86c-43c5-a7da-1aad1cfc838c",
   "metadata": {},
   "outputs": [
    {
     "name": "stdout",
     "output_type": "stream",
     "text": [
      "merhaba\n",
      "burak\n"
     ]
    }
   ],
   "source": [
    "helloWorld(\"burak\")"
   ]
  },
  {
   "cell_type": "code",
   "execution_count": 16,
   "id": "32a2e946-7107-4b02-90e5-3ca5be43b0c3",
   "metadata": {},
   "outputs": [],
   "source": [
    "def toplama(number1,number2):\n",
    "    sonuc= number1+number2\n",
    "    print(sonuc)"
   ]
  },
  {
   "cell_type": "code",
   "execution_count": 17,
   "id": "d6ed5cd8-6717-4099-89d5-cc0f0e199be8",
   "metadata": {},
   "outputs": [
    {
     "name": "stdout",
     "output_type": "stream",
     "text": [
      "7\n"
     ]
    }
   ],
   "source": [
    "toplama(2,5)"
   ]
  },
  {
   "cell_type": "markdown",
   "id": "ea4cd9bb-14c0-41ab-a799-04645c02db79",
   "metadata": {},
   "source": [
    "## args & kwargs"
   ]
  },
  {
   "cell_type": "code",
   "execution_count": 18,
   "id": "23a22965-1f88-4d5e-85f7-4016cec07ecb",
   "metadata": {},
   "outputs": [],
   "source": [
    "def newSum (*args):\n",
    "    return sum (args)"
   ]
  },
  {
   "cell_type": "code",
   "execution_count": 19,
   "id": "b4e70857-f6cf-4675-9fe3-0217e7c65f8b",
   "metadata": {},
   "outputs": [
    {
     "data": {
      "text/plain": [
       "44"
      ]
     },
     "execution_count": 19,
     "metadata": {},
     "output_type": "execute_result"
    }
   ],
   "source": [
    "newSum(1,2,3,4,5,6,7,8,8)"
   ]
  },
  {
   "cell_type": "code",
   "execution_count": 20,
   "id": "45cee28b-8e89-424c-915a-532d2c5f8492",
   "metadata": {},
   "outputs": [
    {
     "data": {
      "text/plain": [
       "18"
      ]
     },
     "execution_count": 20,
     "metadata": {},
     "output_type": "execute_result"
    }
   ],
   "source": [
    "newSum(5,6,7)"
   ]
  },
  {
   "cell_type": "code",
   "execution_count": 23,
   "id": "63ff48db-ec58-4205-be72-8c3692c732ce",
   "metadata": {},
   "outputs": [],
   "source": [
    "def myfuc (*args):\n",
    "    return args\n",
    "    "
   ]
  },
  {
   "cell_type": "code",
   "execution_count": 25,
   "id": "eeb174b7-1ac3-43ab-82f1-8ae4d4e427b8",
   "metadata": {},
   "outputs": [
    {
     "data": {
      "text/plain": [
       "tuple"
      ]
     },
     "execution_count": 25,
     "metadata": {},
     "output_type": "execute_result"
    }
   ],
   "source": [
    "type(myfuc(1,2,3))"
   ]
  },
  {
   "cell_type": "code",
   "execution_count": 34,
   "id": "6917e6e2-a348-4300-a37d-1406b48ca1e4",
   "metadata": {},
   "outputs": [],
   "source": [
    "def exfuc (**kwargs):\n",
    "    return (kwargs)"
   ]
  },
  {
   "cell_type": "code",
   "execution_count": 35,
   "id": "7559e811-e04b-45b4-92ea-e07364002089",
   "metadata": {},
   "outputs": [
    {
     "data": {
      "text/plain": [
       "dict"
      ]
     },
     "execution_count": 35,
     "metadata": {},
     "output_type": "execute_result"
    }
   ],
   "source": [
    "type(exfuc(muz = 100,ananas= 300, armut=34))"
   ]
  },
  {
   "cell_type": "code",
   "execution_count": 37,
   "id": "7a1fcc78-4d6c-4a0e-a235-50c782d51674",
   "metadata": {},
   "outputs": [],
   "source": [
    "def keywordchc (**kwargs):\n",
    "    if \"atıl\" in kwargs:\n",
    "        print (\"atıl var\")\n",
    "    else:\n",
    "        print(\"yok\")\n",
    " \n",
    "        "
   ]
  },
  {
   "cell_type": "code",
   "execution_count": 39,
   "id": "fcbdbf3a-7181-4098-b2df-e22cfbc192e1",
   "metadata": {},
   "outputs": [
    {
     "name": "stdout",
     "output_type": "stream",
     "text": [
      "yok\n"
     ]
    }
   ],
   "source": [
    "keywordchc (ahmet = 45,zyneo=7,mahir=43)"
   ]
  },
  {
   "cell_type": "code",
   "execution_count": null,
   "id": "3e08844b-a0fa-4324-81a6-664b59a145d2",
   "metadata": {},
   "outputs": [],
   "source": []
  },
  {
   "cell_type": "code",
   "execution_count": null,
   "id": "c68a3731-8b70-4d8d-9ce5-5b2114664c9d",
   "metadata": {},
   "outputs": [],
   "source": []
  },
  {
   "cell_type": "code",
   "execution_count": null,
   "id": "a1de5a57-747e-42f6-a0c9-ad5eec80723e",
   "metadata": {},
   "outputs": [],
   "source": []
  },
  {
   "cell_type": "code",
   "execution_count": null,
   "id": "5072883b-6a8a-41d8-a03d-c0f001b711eb",
   "metadata": {},
   "outputs": [],
   "source": []
  },
  {
   "cell_type": "code",
   "execution_count": null,
   "id": "9cfa8f08-56b8-4e89-9f67-bb6bd94caf00",
   "metadata": {},
   "outputs": [],
   "source": []
  },
  {
   "cell_type": "code",
   "execution_count": null,
   "id": "8dec0c9a-655d-4246-a861-218997e030e2",
   "metadata": {},
   "outputs": [],
   "source": []
  },
  {
   "cell_type": "code",
   "execution_count": null,
   "id": "e8a1e9aa-37f6-4eb8-bd47-62de1191d8d5",
   "metadata": {},
   "outputs": [],
   "source": []
  },
  {
   "cell_type": "code",
   "execution_count": null,
   "id": "4cab2164-8162-4bd8-88e6-65c37ec1757d",
   "metadata": {},
   "outputs": [],
   "source": []
  }
 ],
 "metadata": {
  "kernelspec": {
   "display_name": "Python 3 (ipykernel)",
   "language": "python",
   "name": "python3"
  },
  "language_info": {
   "codemirror_mode": {
    "name": "ipython",
    "version": 3
   },
   "file_extension": ".py",
   "mimetype": "text/x-python",
   "name": "python",
   "nbconvert_exporter": "python",
   "pygments_lexer": "ipython3",
   "version": "3.9.7"
  }
 },
 "nbformat": 4,
 "nbformat_minor": 5
}
