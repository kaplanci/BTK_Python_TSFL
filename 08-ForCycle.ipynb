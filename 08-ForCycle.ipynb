{
 "cells": [
  {
   "cell_type": "code",
   "execution_count": 4,
   "id": "5dd9c3d5-eaff-45c9-826a-97c8444f6454",
   "metadata": {},
   "outputs": [],
   "source": [
    "a=[1,2,3,4,5,6,7,8]"
   ]
  },
  {
   "cell_type": "code",
   "execution_count": 5,
   "id": "8a068332-65c1-4c50-a774-3b7f84bf44ba",
   "metadata": {},
   "outputs": [
    {
     "name": "stdout",
     "output_type": "stream",
     "text": [
      "1\n",
      "2\n",
      "3\n",
      "4\n",
      "5\n",
      "6\n",
      "7\n",
      "8\n"
     ]
    }
   ],
   "source": [
    "for numbers in a:\n",
    "    print(numbers)"
   ]
  },
  {
   "cell_type": "code",
   "execution_count": 7,
   "id": "42a6de07-9861-4b6d-ac8f-80c58dd2e3fe",
   "metadata": {},
   "outputs": [
    {
     "name": "stdout",
     "output_type": "stream",
     "text": [
      "2.5\n",
      "5.0\n",
      "7.5\n",
      "10.0\n",
      "12.5\n",
      "15.0\n",
      "17.5\n",
      "20.0\n"
     ]
    }
   ],
   "source": [
    "for numbers in a:\n",
    "    print(numbers*5/2)\n",
    "    \n",
    "    "
   ]
  },
  {
   "cell_type": "code",
   "execution_count": 8,
   "id": "42dbb178-e8f4-4589-8126-3731700ef9e8",
   "metadata": {},
   "outputs": [],
   "source": [
    "CoordinatList = [(34.5,33),(18.9,33.4),(56.3,22.5)]"
   ]
  },
  {
   "cell_type": "code",
   "execution_count": 9,
   "id": "a50dc680-5680-4e66-a8e9-5c5e244a3c71",
   "metadata": {},
   "outputs": [
    {
     "name": "stdout",
     "output_type": "stream",
     "text": [
      "33\n",
      "33.4\n",
      "22.5\n"
     ]
    }
   ],
   "source": [
    "for (x,y) in CoordinatList:\n",
    "    print(y)"
   ]
  },
  {
   "cell_type": "code",
   "execution_count": 11,
   "id": "c4ec3ccc-db1c-4b35-899d-46e2689088f0",
   "metadata": {},
   "outputs": [
    {
     "data": {
      "text/plain": [
       "tuple"
      ]
     },
     "execution_count": 11,
     "metadata": {},
     "output_type": "execute_result"
    }
   ],
   "source": [
    "type(CoordinatList[0])"
   ]
  },
  {
   "cell_type": "code",
   "execution_count": 12,
   "id": "8df59256-1ed9-42bf-a198-a7a6ccf422a3",
   "metadata": {},
   "outputs": [],
   "source": [
    "MyDic = {\"muz\": 100,\"Elma\": 88,\"Maze\": 55}"
   ]
  },
  {
   "cell_type": "code",
   "execution_count": 16,
   "id": "1353df0a-7972-4055-93c4-e9b83a5efce6",
   "metadata": {},
   "outputs": [
    {
     "name": "stdout",
     "output_type": "stream",
     "text": [
      "100\n",
      "88\n",
      "55\n"
     ]
    }
   ],
   "source": [
    "for (anahtar,deger) in MyDic.items():\n",
    "    print(deger)"
   ]
  },
  {
   "cell_type": "code",
   "execution_count": null,
   "id": "cb9c47b8-660f-4e53-b9b9-1cc0273a3078",
   "metadata": {},
   "outputs": [],
   "source": []
  }
 ],
 "metadata": {
  "kernelspec": {
   "display_name": "Python 3 (ipykernel)",
   "language": "python",
   "name": "python3"
  },
  "language_info": {
   "codemirror_mode": {
    "name": "ipython",
    "version": 3
   },
   "file_extension": ".py",
   "mimetype": "text/x-python",
   "name": "python",
   "nbconvert_exporter": "python",
   "pygments_lexer": "ipython3",
   "version": "3.9.7"
  }
 },
 "nbformat": 4,
 "nbformat_minor": 5
}
