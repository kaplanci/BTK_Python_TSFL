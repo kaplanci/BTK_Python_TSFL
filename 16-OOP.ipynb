{
 "cells": [
  {
   "cell_type": "markdown",
   "id": "ef25d979-3ed6-4335-898e-e9e81bcbd825",
   "metadata": {
    "tags": []
   },
   "source": [
    "## OOP"
   ]
  },
  {
   "cell_type": "markdown",
   "id": "9da17dc5-4a0d-448f-af49-89c3d2e963e1",
   "metadata": {
    "tags": []
   },
   "source": [
    "## instance & attribute "
   ]
  },
  {
   "cell_type": "code",
   "execution_count": 22,
   "id": "2914efe2-034f-4fca-918e-6ed19e08da53",
   "metadata": {},
   "outputs": [],
   "source": [
    "class SuperKahraman():\n",
    "    \n",
    "    def __init__(self,isimInput,yasInput,meslekInput):  #self yazmak gerekiyor\n",
    "        print(\"init çağrıldı\")\n",
    "        self.isim = isimInput\n",
    "        self.yas = yasInput\n",
    "        self.meslek = meslekInput\n",
    "        \n",
    "    def ornekMethod(self):\n",
    "        print(f\"ben süperkahramanım ve mesleğim: {self.meslek}\")\n",
    "        \n",
    "        "
   ]
  },
  {
   "cell_type": "code",
   "execution_count": 23,
   "id": "086792dc-9923-4265-92ed-8ccfc8da07d4",
   "metadata": {},
   "outputs": [
    {
     "name": "stdout",
     "output_type": "stream",
     "text": [
      "init çağrıldı\n"
     ]
    }
   ],
   "source": [
    "superman = SuperKahraman(\"burak\",22,\"dızcı\")"
   ]
  },
  {
   "cell_type": "code",
   "execution_count": 24,
   "id": "2046ea93-8ba8-44e7-8d81-2677e88677a3",
   "metadata": {},
   "outputs": [
    {
     "data": {
      "text/plain": [
       "'burak'"
      ]
     },
     "execution_count": 24,
     "metadata": {},
     "output_type": "execute_result"
    }
   ],
   "source": [
    "superman.isim"
   ]
  },
  {
   "cell_type": "code",
   "execution_count": 25,
   "id": "747ef944-8fdb-4f97-846a-f664e106c74f",
   "metadata": {},
   "outputs": [
    {
     "name": "stdout",
     "output_type": "stream",
     "text": [
      "ben süperkahramanım ve mesleğim: dızcı\n"
     ]
    }
   ],
   "source": [
    "superman.ornekMethod()"
   ]
  },
  {
   "cell_type": "code",
   "execution_count": 41,
   "id": "807804fa-fd46-4d71-80f0-4c2b0576af03",
   "metadata": {},
   "outputs": [],
   "source": [
    "class Kopek():\n",
    "    \n",
    "    yılCarpanı = 7\n",
    "    \n",
    "    def __init__(self,yas=5):  #herhangi değer vermesem default 5 alır demek\n",
    "        self.yas=yas\n",
    "    def yasHesapla(self):\n",
    "        return self.yas*self.yılCarpanı"
   ]
  },
  {
   "cell_type": "code",
   "execution_count": 43,
   "id": "c0da3b21-2266-45c1-8f60-0d213db3d1a9",
   "metadata": {},
   "outputs": [],
   "source": [
    "myDog=Kopek(3)"
   ]
  },
  {
   "cell_type": "code",
   "execution_count": 44,
   "id": "0d2a36eb-7658-4f23-b587-15604c785817",
   "metadata": {},
   "outputs": [
    {
     "data": {
      "text/plain": [
       "3"
      ]
     },
     "execution_count": 44,
     "metadata": {},
     "output_type": "execute_result"
    }
   ],
   "source": [
    "myDog.yas"
   ]
  },
  {
   "cell_type": "code",
   "execution_count": 45,
   "id": "f9fe1d71-023f-48bb-a018-4bf44712a455",
   "metadata": {},
   "outputs": [
    {
     "data": {
      "text/plain": [
       "21"
      ]
     },
     "execution_count": 45,
     "metadata": {},
     "output_type": "execute_result"
    }
   ],
   "source": [
    "myDog.yasHesapla()"
   ]
  },
  {
   "cell_type": "markdown",
   "id": "a2bea73d-c609-4558-922b-e82fecdd75f5",
   "metadata": {},
   "source": [
    "## inheritance"
   ]
  },
  {
   "cell_type": "code",
   "execution_count": 47,
   "id": "ce0fa7ba-0346-4793-97e2-d35d781257fa",
   "metadata": {},
   "outputs": [],
   "source": [
    "class Hayvan ():\n",
    "    def __init__(self):\n",
    "        print(\"Hayvan sınıfı init çağrıldı\")\n",
    "    def method1(self):\n",
    "        print(\"hayvan sınıfı method1 çağrıldı\")\n",
    "    def method2(self):\n",
    "        print(\"hayvan sınıfı meethod2 çağrıldı\")"
   ]
  },
  {
   "cell_type": "code",
   "execution_count": 49,
   "id": "d5e38325-8f29-47cf-93b0-31439d15769f",
   "metadata": {},
   "outputs": [
    {
     "name": "stdout",
     "output_type": "stream",
     "text": [
      "Hayvan sınıfı init çağrıldı\n"
     ]
    }
   ],
   "source": [
    "myPet = Hayvan()"
   ]
  },
  {
   "cell_type": "code",
   "execution_count": 50,
   "id": "b4ce55e1-d617-4bd8-b8a9-ef90eae67a1a",
   "metadata": {},
   "outputs": [
    {
     "name": "stdout",
     "output_type": "stream",
     "text": [
      "hayvan sınıfı method1 çağrıldı\n"
     ]
    }
   ],
   "source": [
    "myPet.method1()"
   ]
  },
  {
   "cell_type": "code",
   "execution_count": 52,
   "id": "057fe6af-b8fd-4097-86fd-77a91d10b350",
   "metadata": {},
   "outputs": [
    {
     "name": "stdout",
     "output_type": "stream",
     "text": [
      "hayvan sınıfı meethod2 çağrıldı\n"
     ]
    }
   ],
   "source": [
    "myPet.method2()"
   ]
  },
  {
   "cell_type": "code",
   "execution_count": 58,
   "id": "2b1aa816-92d8-4d03-b65f-e7cea5727f7c",
   "metadata": {},
   "outputs": [],
   "source": [
    "class cat (Hayvan):\n",
    "    def __init__(self):\n",
    "        Hayvan.__init__(self)\n",
    "        print(\"kedi sınıfı init çağrıldı\")\n",
    "    def miyavla (self):\n",
    "        print(\"meow\")"
   ]
  },
  {
   "cell_type": "code",
   "execution_count": 59,
   "id": "b6e61091-b07a-4594-81f4-1f419f2d24e4",
   "metadata": {},
   "outputs": [
    {
     "name": "stdout",
     "output_type": "stream",
     "text": [
      "Hayvan sınıfı init çağrıldı\n",
      "kedi sınıfı init çağrıldı\n"
     ]
    }
   ],
   "source": [
    "myCat= cat()"
   ]
  },
  {
   "cell_type": "code",
   "execution_count": 60,
   "id": "bc555112-582b-419d-88b2-6869f4be5cdd",
   "metadata": {},
   "outputs": [
    {
     "name": "stdout",
     "output_type": "stream",
     "text": [
      "hayvan sınıfı method1 çağrıldı\n"
     ]
    }
   ],
   "source": [
    "myCat.method1()"
   ]
  },
  {
   "cell_type": "code",
   "execution_count": 61,
   "id": "0d7785ad-edcd-4ac2-9b94-b68af65f0cc2",
   "metadata": {},
   "outputs": [
    {
     "name": "stdout",
     "output_type": "stream",
     "text": [
      "hayvan sınıfı meethod2 çağrıldı\n"
     ]
    }
   ],
   "source": [
    "myCat.method2()"
   ]
  },
  {
   "cell_type": "code",
   "execution_count": 62,
   "id": "91d6559a-a721-4a29-bb99-8c8705a6b81c",
   "metadata": {},
   "outputs": [
    {
     "name": "stdout",
     "output_type": "stream",
     "text": [
      "meow\n"
     ]
    }
   ],
   "source": [
    "myCat.miyavla()"
   ]
  },
  {
   "cell_type": "markdown",
   "id": "8e43af27-1bf6-45fb-80d9-487a0a754c17",
   "metadata": {},
   "source": [
    "## Polymorphism"
   ]
  },
  {
   "cell_type": "code",
   "execution_count": 122,
   "id": "84d5be76-e396-4110-bca0-1271145165ab",
   "metadata": {},
   "outputs": [],
   "source": [
    "class Elma ():\n",
    "    def __init__(self,isim):\n",
    "        self.isim = isim\n",
    "        \n",
    "    def bilgiVer (self):\n",
    "        return self.isim + \" 100 kaloridir\""
   ]
  },
  {
   "cell_type": "code",
   "execution_count": 123,
   "id": "288aa89c-f06f-42cb-b343-68c13fcfe05f",
   "metadata": {},
   "outputs": [],
   "source": [
    "class Muz ():\n",
    "    def __init__(self,isim):\n",
    "        self.isim = isim\n",
    "        \n",
    "    def bilgiVer (self):\n",
    "        return self.isim + \" 150 kaloridir\""
   ]
  },
  {
   "cell_type": "code",
   "execution_count": 124,
   "id": "7f084a33-0fef-4c35-b624-82698b55c34e",
   "metadata": {},
   "outputs": [],
   "source": [
    "elma = Elma(\" elma\")\n",
    "muz = Muz(\" muz\")\n",
    "\n",
    "\n"
   ]
  },
  {
   "cell_type": "code",
   "execution_count": 125,
   "id": "de58f415-6180-4222-8f6a-a38119724d4e",
   "metadata": {},
   "outputs": [],
   "source": [
    "meyveListesi = [elma ,muz]"
   ]
  },
  {
   "cell_type": "code",
   "execution_count": 126,
   "id": "e7f8536f-501a-48c9-ba48-244227c5c579",
   "metadata": {},
   "outputs": [
    {
     "name": "stdout",
     "output_type": "stream",
     "text": [
      " elma 100 kaloridir\n",
      " muz 150 kaloridir\n"
     ]
    }
   ],
   "source": [
    "for meyve in meyveListesi :\n",
    "    print(meyve.bilgiVer())"
   ]
  },
  {
   "cell_type": "code",
   "execution_count": null,
   "id": "55f74bdc-ba51-47a0-86fd-95a9eb89e70d",
   "metadata": {},
   "outputs": [],
   "source": []
  },
  {
   "cell_type": "code",
   "execution_count": null,
   "id": "321139f7-97e9-4973-9b27-013a021adf74",
   "metadata": {},
   "outputs": [],
   "source": []
  }
 ],
 "metadata": {
  "kernelspec": {
   "display_name": "Python 3 (ipykernel)",
   "language": "python",
   "name": "python3"
  },
  "language_info": {
   "codemirror_mode": {
    "name": "ipython",
    "version": 3
   },
   "file_extension": ".py",
   "mimetype": "text/x-python",
   "name": "python",
   "nbconvert_exporter": "python",
   "pygments_lexer": "ipython3",
   "version": "3.9.7"
  }
 },
 "nbformat": 4,
 "nbformat_minor": 5
}
